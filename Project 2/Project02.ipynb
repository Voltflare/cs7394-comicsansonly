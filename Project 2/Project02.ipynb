{
 "cells": [
  {
   "cell_type": "markdown",
   "id": "a26de62d",
   "metadata": {},
   "source": [
    "# Project 2\n",
    "### CS 5/7394 - Applied Machine Learning\n",
    "\n",
    "- **Due** - March 11 @ 11:59 pm pushed to Github repo\n",
    "- **Teams** - You can do this project solo or in pairs.  Not 3, not 4 not 5... Max of 2. If a 5394 student pairs with a 7394 student, the pair needs to do the 7394 work. "
   ]
  },
  {
   "cell_type": "markdown",
   "id": "44f4f6dc",
   "metadata": {},
   "source": [
    "Below are 6 Kaggle Datasets.  You will choose 1 to work with for this project. \n",
    "\n",
    "- [Airfare Prediction Dataset](https://www.kaggle.com/zwartfreak/airline-fare-prediction)\n",
    "- [Chinese Rest Holiday Dataset](https://www.kaggle.com/holoong9291/chinese-rest-holiday-dataset-2020-to-2022)\n",
    "- [Jigsaw Toxic Comment Classification Challenge](https://www.kaggle.com/julian3833/jigsaw-toxic-comment-classification-challenge?select=train.csv)\n",
    "- [Latest Covid 19 Dataset Worldwide](https://www.kaggle.com/sandhyakrishnan02/latest-covid-19-dataset-worldwide)\n",
    "- [Trains](https://www.kaggle.com/vahidehdashti/machinelearningdatabase-trains?select=trains-original.data)\n",
    "- [Football Data top 5 Leagues](https://www.kaggle.com/sanjeetsinghnaik/football-data-top-5-leagues)\n",
    "\n",
    "Merging disparate datasets is a staple of the data exploration process.  Therefore, for which ever data set above that you choose, you will need to independently find **an additional** dataset to merge with your selection.  The only requirement is that it add to the richness of the original dataset. Students in the 7000-level version of the class need to find two additional data sets to merge with the original selection. \n",
    "\n",
    "_Note_: If you want to start with a different data set, you need to get Fontenot's OK first.  "
   ]
  },
  {
   "cell_type": "markdown",
   "id": "6b0ad331",
   "metadata": {},
   "source": [
    "### Your Tasks\n",
    "\n",
    "Below, there are cells that provide directions on what to do for the project.  \n",
    "\n",
    "You can insert as many cells between the ones below as you'd like, but please **Do NOT** change the cells already provided. "
   ]
  },
  {
   "cell_type": "markdown",
   "id": "2f32ed04",
   "metadata": {},
   "source": [
    "### Part 1 - Getting Started\n",
    "\n",
    "- Import libraries\n",
    "- Load original Data (which ever one you chose from the provided list) into a data frame. \n",
    "- Load your additional data set(s) into a data frame. \n",
    "- In a markdown cell, provide a brief description of your the data sets you've chosen to work with.  \n",
    "- Develop a list of 3 - 4 questions that you hope to be able to answer after the exploration of the data and write them in this section. "
   ]
  },
  {
   "cell_type": "code",
   "execution_count": 1,
   "id": "ff62c7a0",
   "metadata": {},
   "outputs": [],
   "source": [
    "import numpy as np\n",
    "import pandas as pd\n",
    "import matplotlib.pyplot as plt\n",
    "import seaborn as sns"
   ]
  },
  {
   "cell_type": "code",
   "execution_count": 2,
   "id": "7350dec5",
   "metadata": {
    "scrolled": true
   },
   "outputs": [],
   "source": [
    "#fast food datasets-\n",
    "#https://www.kaggle.com/datafiniti/fast-food-restaurants\n",
    "#https://www.kaggle.com/denizyigit/fast-food-chains-nutrition-values\n",
    "#https://www.openintro.org/data/index.php?data=fastfood\n",
    "\n",
    "restaurant_list = pd.read_csv(\"Datafiniti_Fast_Food_Restaurants.csv\")\n",
    "nutrition_mcd_bk = pd.read_csv(\"nutrition_values.csv\", header=None, delimiter=\";\")\n",
    "nutrition_others = pd.read_csv(\"fastfood.csv\")"
   ]
  },
  {
   "cell_type": "code",
   "execution_count": 3,
   "id": "0c8f095e",
   "metadata": {
    "scrolled": false
   },
   "outputs": [
    {
     "data": {
      "text/html": [
       "<div>\n",
       "<style scoped>\n",
       "    .dataframe tbody tr th:only-of-type {\n",
       "        vertical-align: middle;\n",
       "    }\n",
       "\n",
       "    .dataframe tbody tr th {\n",
       "        vertical-align: top;\n",
       "    }\n",
       "\n",
       "    .dataframe thead th {\n",
       "        text-align: right;\n",
       "    }\n",
       "</style>\n",
       "<table border=\"1\" class=\"dataframe\">\n",
       "  <thead>\n",
       "    <tr style=\"text-align: right;\">\n",
       "      <th></th>\n",
       "      <th>id</th>\n",
       "      <th>dateAdded</th>\n",
       "      <th>dateUpdated</th>\n",
       "      <th>address</th>\n",
       "      <th>categories</th>\n",
       "      <th>city</th>\n",
       "      <th>country</th>\n",
       "      <th>keys</th>\n",
       "      <th>latitude</th>\n",
       "      <th>longitude</th>\n",
       "      <th>name</th>\n",
       "      <th>postalCode</th>\n",
       "      <th>province</th>\n",
       "      <th>sourceURLs</th>\n",
       "      <th>websites</th>\n",
       "    </tr>\n",
       "  </thead>\n",
       "  <tbody>\n",
       "    <tr>\n",
       "      <th>0</th>\n",
       "      <td>AVwcmSyZIN2L1WUfmxyw</td>\n",
       "      <td>2015-10-19T23:47:58Z</td>\n",
       "      <td>2018-06-26T03:00:14Z</td>\n",
       "      <td>800 N Canal Blvd</td>\n",
       "      <td>American Restaurant and Fast Food Restaurant</td>\n",
       "      <td>Thibodaux</td>\n",
       "      <td>US</td>\n",
       "      <td>us/la/thibodaux/800ncanalblvd/1780593795</td>\n",
       "      <td>29.814697</td>\n",
       "      <td>-90.814742</td>\n",
       "      <td>SONIC Drive In</td>\n",
       "      <td>70301</td>\n",
       "      <td>LA</td>\n",
       "      <td>https://foursquare.com/v/sonic-drive-in/4b7361...</td>\n",
       "      <td>https://locations.sonicdrivein.com/la/thibodau...</td>\n",
       "    </tr>\n",
       "    <tr>\n",
       "      <th>1</th>\n",
       "      <td>AVwcmSyZIN2L1WUfmxyw</td>\n",
       "      <td>2015-10-19T23:47:58Z</td>\n",
       "      <td>2018-06-26T03:00:14Z</td>\n",
       "      <td>800 N Canal Blvd</td>\n",
       "      <td>Fast Food Restaurants</td>\n",
       "      <td>Thibodaux</td>\n",
       "      <td>US</td>\n",
       "      <td>us/la/thibodaux/800ncanalblvd/1780593795</td>\n",
       "      <td>29.814697</td>\n",
       "      <td>-90.814742</td>\n",
       "      <td>SONIC Drive In</td>\n",
       "      <td>70301</td>\n",
       "      <td>LA</td>\n",
       "      <td>https://foursquare.com/v/sonic-drive-in/4b7361...</td>\n",
       "      <td>https://locations.sonicdrivein.com/la/thibodau...</td>\n",
       "    </tr>\n",
       "    <tr>\n",
       "      <th>2</th>\n",
       "      <td>AVwcopQoByjofQCxgfVa</td>\n",
       "      <td>2016-03-29T05:06:36Z</td>\n",
       "      <td>2018-06-26T02:59:52Z</td>\n",
       "      <td>206 Wears Valley Rd</td>\n",
       "      <td>Fast Food Restaurant</td>\n",
       "      <td>Pigeon Forge</td>\n",
       "      <td>US</td>\n",
       "      <td>us/tn/pigeonforge/206wearsvalleyrd/-864103396</td>\n",
       "      <td>35.803788</td>\n",
       "      <td>-83.580553</td>\n",
       "      <td>Taco Bell</td>\n",
       "      <td>37863</td>\n",
       "      <td>TN</td>\n",
       "      <td>https://www.yellowpages.com/pigeon-forge-tn/mi...</td>\n",
       "      <td>http://www.tacobell.com,https://locations.taco...</td>\n",
       "    </tr>\n",
       "    <tr>\n",
       "      <th>3</th>\n",
       "      <td>AVweXN5RByjofQCxxilK</td>\n",
       "      <td>2017-01-03T07:46:11Z</td>\n",
       "      <td>2018-06-26T02:59:51Z</td>\n",
       "      <td>3652 Parkway</td>\n",
       "      <td>Fast Food</td>\n",
       "      <td>Pigeon Forge</td>\n",
       "      <td>US</td>\n",
       "      <td>us/tn/pigeonforge/3652parkway/93075755</td>\n",
       "      <td>35.782339</td>\n",
       "      <td>-83.551408</td>\n",
       "      <td>Arby's</td>\n",
       "      <td>37863</td>\n",
       "      <td>TN</td>\n",
       "      <td>http://www.yellowbook.com/profile/arbys_163389...</td>\n",
       "      <td>http://www.arbys.com,https://locations.arbys.c...</td>\n",
       "    </tr>\n",
       "    <tr>\n",
       "      <th>4</th>\n",
       "      <td>AWQ6MUvo3-Khe5l_j3SG</td>\n",
       "      <td>2018-06-26T02:59:43Z</td>\n",
       "      <td>2018-06-26T02:59:43Z</td>\n",
       "      <td>2118 Mt Zion Parkway</td>\n",
       "      <td>Fast Food Restaurant</td>\n",
       "      <td>Morrow</td>\n",
       "      <td>US</td>\n",
       "      <td>us/ga/morrow/2118mtzionparkway/1305117222</td>\n",
       "      <td>33.562738</td>\n",
       "      <td>-84.321143</td>\n",
       "      <td>Steak 'n Shake</td>\n",
       "      <td>30260</td>\n",
       "      <td>GA</td>\n",
       "      <td>https://foursquare.com/v/steak-n-shake/4bcf77a...</td>\n",
       "      <td>http://www.steaknshake.com/locations/23851-ste...</td>\n",
       "    </tr>\n",
       "  </tbody>\n",
       "</table>\n",
       "</div>"
      ],
      "text/plain": [
       "                     id             dateAdded           dateUpdated  \\\n",
       "0  AVwcmSyZIN2L1WUfmxyw  2015-10-19T23:47:58Z  2018-06-26T03:00:14Z   \n",
       "1  AVwcmSyZIN2L1WUfmxyw  2015-10-19T23:47:58Z  2018-06-26T03:00:14Z   \n",
       "2  AVwcopQoByjofQCxgfVa  2016-03-29T05:06:36Z  2018-06-26T02:59:52Z   \n",
       "3  AVweXN5RByjofQCxxilK  2017-01-03T07:46:11Z  2018-06-26T02:59:51Z   \n",
       "4  AWQ6MUvo3-Khe5l_j3SG  2018-06-26T02:59:43Z  2018-06-26T02:59:43Z   \n",
       "\n",
       "                address                                    categories  \\\n",
       "0      800 N Canal Blvd  American Restaurant and Fast Food Restaurant   \n",
       "1      800 N Canal Blvd                         Fast Food Restaurants   \n",
       "2   206 Wears Valley Rd                          Fast Food Restaurant   \n",
       "3          3652 Parkway                                     Fast Food   \n",
       "4  2118 Mt Zion Parkway                          Fast Food Restaurant   \n",
       "\n",
       "           city country                                           keys  \\\n",
       "0     Thibodaux      US       us/la/thibodaux/800ncanalblvd/1780593795   \n",
       "1     Thibodaux      US       us/la/thibodaux/800ncanalblvd/1780593795   \n",
       "2  Pigeon Forge      US  us/tn/pigeonforge/206wearsvalleyrd/-864103396   \n",
       "3  Pigeon Forge      US         us/tn/pigeonforge/3652parkway/93075755   \n",
       "4        Morrow      US      us/ga/morrow/2118mtzionparkway/1305117222   \n",
       "\n",
       "    latitude  longitude            name postalCode province  \\\n",
       "0  29.814697 -90.814742  SONIC Drive In      70301       LA   \n",
       "1  29.814697 -90.814742  SONIC Drive In      70301       LA   \n",
       "2  35.803788 -83.580553       Taco Bell      37863       TN   \n",
       "3  35.782339 -83.551408          Arby's      37863       TN   \n",
       "4  33.562738 -84.321143  Steak 'n Shake      30260       GA   \n",
       "\n",
       "                                          sourceURLs  \\\n",
       "0  https://foursquare.com/v/sonic-drive-in/4b7361...   \n",
       "1  https://foursquare.com/v/sonic-drive-in/4b7361...   \n",
       "2  https://www.yellowpages.com/pigeon-forge-tn/mi...   \n",
       "3  http://www.yellowbook.com/profile/arbys_163389...   \n",
       "4  https://foursquare.com/v/steak-n-shake/4bcf77a...   \n",
       "\n",
       "                                            websites  \n",
       "0  https://locations.sonicdrivein.com/la/thibodau...  \n",
       "1  https://locations.sonicdrivein.com/la/thibodau...  \n",
       "2  http://www.tacobell.com,https://locations.taco...  \n",
       "3  http://www.arbys.com,https://locations.arbys.c...  \n",
       "4  http://www.steaknshake.com/locations/23851-ste...  "
      ]
     },
     "execution_count": 3,
     "metadata": {},
     "output_type": "execute_result"
    }
   ],
   "source": [
    "restaurant_list.head()"
   ]
  },
  {
   "cell_type": "code",
   "execution_count": 4,
   "id": "d12cd50b",
   "metadata": {},
   "outputs": [
    {
     "data": {
      "text/html": [
       "<div>\n",
       "<style scoped>\n",
       "    .dataframe tbody tr th:only-of-type {\n",
       "        vertical-align: middle;\n",
       "    }\n",
       "\n",
       "    .dataframe tbody tr th {\n",
       "        vertical-align: top;\n",
       "    }\n",
       "\n",
       "    .dataframe thead th {\n",
       "        text-align: right;\n",
       "    }\n",
       "</style>\n",
       "<table border=\"1\" class=\"dataframe\">\n",
       "  <thead>\n",
       "    <tr style=\"text-align: right;\">\n",
       "      <th></th>\n",
       "      <th>0</th>\n",
       "      <th>1</th>\n",
       "      <th>2</th>\n",
       "      <th>3</th>\n",
       "      <th>4</th>\n",
       "      <th>5</th>\n",
       "      <th>6</th>\n",
       "      <th>7</th>\n",
       "      <th>8</th>\n",
       "      <th>9</th>\n",
       "      <th>10</th>\n",
       "      <th>11</th>\n",
       "      <th>12</th>\n",
       "      <th>13</th>\n",
       "      <th>14</th>\n",
       "    </tr>\n",
       "  </thead>\n",
       "  <tbody>\n",
       "    <tr>\n",
       "      <th>495</th>\n",
       "      <td>Mc Donalds</td>\n",
       "      <td>Strawberry Banana Smoothie (Medium)</td>\n",
       "      <td>McCafe Smoothies</td>\n",
       "      <td>NaN</td>\n",
       "      <td>260</td>\n",
       "      <td>5</td>\n",
       "      <td>1</td>\n",
       "      <td>0</td>\n",
       "      <td>0</td>\n",
       "      <td>5</td>\n",
       "      <td>40</td>\n",
       "      <td>60</td>\n",
       "      <td>3</td>\n",
       "      <td>54</td>\n",
       "      <td>2</td>\n",
       "    </tr>\n",
       "    <tr>\n",
       "      <th>496</th>\n",
       "      <td>Mc Donalds</td>\n",
       "      <td>Strawberry Banana Smoothie (Small)</td>\n",
       "      <td>McCafe Smoothies</td>\n",
       "      <td>NaN</td>\n",
       "      <td>210</td>\n",
       "      <td>5</td>\n",
       "      <td>0,5</td>\n",
       "      <td>0</td>\n",
       "      <td>0</td>\n",
       "      <td>5</td>\n",
       "      <td>35</td>\n",
       "      <td>49</td>\n",
       "      <td>2</td>\n",
       "      <td>44</td>\n",
       "      <td>2</td>\n",
       "    </tr>\n",
       "    <tr>\n",
       "      <th>497</th>\n",
       "      <td>Mc Donalds</td>\n",
       "      <td>Wild Berry Smoothie (Large)</td>\n",
       "      <td>McCafe Smoothies</td>\n",
       "      <td>NaN</td>\n",
       "      <td>320</td>\n",
       "      <td>10</td>\n",
       "      <td>1</td>\n",
       "      <td>0,5</td>\n",
       "      <td>0</td>\n",
       "      <td>5</td>\n",
       "      <td>45</td>\n",
       "      <td>75</td>\n",
       "      <td>4</td>\n",
       "      <td>69</td>\n",
       "      <td>3</td>\n",
       "    </tr>\n",
       "    <tr>\n",
       "      <th>498</th>\n",
       "      <td>Mc Donalds</td>\n",
       "      <td>Wild Berry Smoothie (Medium)</td>\n",
       "      <td>McCafe Smoothies</td>\n",
       "      <td>NaN</td>\n",
       "      <td>260</td>\n",
       "      <td>5</td>\n",
       "      <td>1</td>\n",
       "      <td>0</td>\n",
       "      <td>0</td>\n",
       "      <td>5</td>\n",
       "      <td>35</td>\n",
       "      <td>60</td>\n",
       "      <td>4</td>\n",
       "      <td>55</td>\n",
       "      <td>3</td>\n",
       "    </tr>\n",
       "    <tr>\n",
       "      <th>499</th>\n",
       "      <td>Mc Donalds</td>\n",
       "      <td>Wild Berry Smoothie (Small)</td>\n",
       "      <td>McCafe Smoothies</td>\n",
       "      <td>NaN</td>\n",
       "      <td>210</td>\n",
       "      <td>5</td>\n",
       "      <td>0,5</td>\n",
       "      <td>0</td>\n",
       "      <td>0</td>\n",
       "      <td>5</td>\n",
       "      <td>30</td>\n",
       "      <td>48</td>\n",
       "      <td>3</td>\n",
       "      <td>44</td>\n",
       "      <td>2</td>\n",
       "    </tr>\n",
       "  </tbody>\n",
       "</table>\n",
       "</div>"
      ],
      "text/plain": [
       "             0                                    1                 2    3   \\\n",
       "495  Mc Donalds  Strawberry Banana Smoothie (Medium)  McCafe Smoothies  NaN   \n",
       "496  Mc Donalds   Strawberry Banana Smoothie (Small)  McCafe Smoothies  NaN   \n",
       "497  Mc Donalds          Wild Berry Smoothie (Large)  McCafe Smoothies  NaN   \n",
       "498  Mc Donalds         Wild Berry Smoothie (Medium)  McCafe Smoothies  NaN   \n",
       "499  Mc Donalds          Wild Berry Smoothie (Small)  McCafe Smoothies  NaN   \n",
       "\n",
       "      4   5    6    7  8  9   10  11 12  13 14  \n",
       "495  260   5    1    0  0  5  40  60  3  54  2  \n",
       "496  210   5  0,5    0  0  5  35  49  2  44  2  \n",
       "497  320  10    1  0,5  0  5  45  75  4  69  3  \n",
       "498  260   5    1    0  0  5  35  60  4  55  3  \n",
       "499  210   5  0,5    0  0  5  30  48  3  44  2  "
      ]
     },
     "execution_count": 4,
     "metadata": {},
     "output_type": "execute_result"
    }
   ],
   "source": [
    "nutrition_mcd_bk.tail() #showing tail because format is different for Mc Donalds and later datasets"
   ]
  },
  {
   "cell_type": "code",
   "execution_count": 5,
   "id": "47dad480",
   "metadata": {},
   "outputs": [
    {
     "data": {
      "text/html": [
       "<div>\n",
       "<style scoped>\n",
       "    .dataframe tbody tr th:only-of-type {\n",
       "        vertical-align: middle;\n",
       "    }\n",
       "\n",
       "    .dataframe tbody tr th {\n",
       "        vertical-align: top;\n",
       "    }\n",
       "\n",
       "    .dataframe thead th {\n",
       "        text-align: right;\n",
       "    }\n",
       "</style>\n",
       "<table border=\"1\" class=\"dataframe\">\n",
       "  <thead>\n",
       "    <tr style=\"text-align: right;\">\n",
       "      <th></th>\n",
       "      <th>restaurant</th>\n",
       "      <th>item</th>\n",
       "      <th>calories</th>\n",
       "      <th>cal_fat</th>\n",
       "      <th>total_fat</th>\n",
       "      <th>sat_fat</th>\n",
       "      <th>trans_fat</th>\n",
       "      <th>cholesterol</th>\n",
       "      <th>sodium</th>\n",
       "      <th>total_carb</th>\n",
       "      <th>fiber</th>\n",
       "      <th>sugar</th>\n",
       "      <th>protein</th>\n",
       "      <th>vit_a</th>\n",
       "      <th>vit_c</th>\n",
       "      <th>calcium</th>\n",
       "      <th>salad</th>\n",
       "    </tr>\n",
       "  </thead>\n",
       "  <tbody>\n",
       "    <tr>\n",
       "      <th>0</th>\n",
       "      <td>Mcdonalds</td>\n",
       "      <td>Artisan Grilled Chicken Sandwich</td>\n",
       "      <td>380</td>\n",
       "      <td>60</td>\n",
       "      <td>7</td>\n",
       "      <td>2.0</td>\n",
       "      <td>0.0</td>\n",
       "      <td>95</td>\n",
       "      <td>1110</td>\n",
       "      <td>44</td>\n",
       "      <td>3.0</td>\n",
       "      <td>11</td>\n",
       "      <td>37.0</td>\n",
       "      <td>4.0</td>\n",
       "      <td>20.0</td>\n",
       "      <td>20.0</td>\n",
       "      <td>Other</td>\n",
       "    </tr>\n",
       "    <tr>\n",
       "      <th>1</th>\n",
       "      <td>Mcdonalds</td>\n",
       "      <td>Single Bacon Smokehouse Burger</td>\n",
       "      <td>840</td>\n",
       "      <td>410</td>\n",
       "      <td>45</td>\n",
       "      <td>17.0</td>\n",
       "      <td>1.5</td>\n",
       "      <td>130</td>\n",
       "      <td>1580</td>\n",
       "      <td>62</td>\n",
       "      <td>2.0</td>\n",
       "      <td>18</td>\n",
       "      <td>46.0</td>\n",
       "      <td>6.0</td>\n",
       "      <td>20.0</td>\n",
       "      <td>20.0</td>\n",
       "      <td>Other</td>\n",
       "    </tr>\n",
       "    <tr>\n",
       "      <th>2</th>\n",
       "      <td>Mcdonalds</td>\n",
       "      <td>Double Bacon Smokehouse Burger</td>\n",
       "      <td>1130</td>\n",
       "      <td>600</td>\n",
       "      <td>67</td>\n",
       "      <td>27.0</td>\n",
       "      <td>3.0</td>\n",
       "      <td>220</td>\n",
       "      <td>1920</td>\n",
       "      <td>63</td>\n",
       "      <td>3.0</td>\n",
       "      <td>18</td>\n",
       "      <td>70.0</td>\n",
       "      <td>10.0</td>\n",
       "      <td>20.0</td>\n",
       "      <td>50.0</td>\n",
       "      <td>Other</td>\n",
       "    </tr>\n",
       "    <tr>\n",
       "      <th>3</th>\n",
       "      <td>Mcdonalds</td>\n",
       "      <td>Grilled Bacon Smokehouse Chicken Sandwich</td>\n",
       "      <td>750</td>\n",
       "      <td>280</td>\n",
       "      <td>31</td>\n",
       "      <td>10.0</td>\n",
       "      <td>0.5</td>\n",
       "      <td>155</td>\n",
       "      <td>1940</td>\n",
       "      <td>62</td>\n",
       "      <td>2.0</td>\n",
       "      <td>18</td>\n",
       "      <td>55.0</td>\n",
       "      <td>6.0</td>\n",
       "      <td>25.0</td>\n",
       "      <td>20.0</td>\n",
       "      <td>Other</td>\n",
       "    </tr>\n",
       "    <tr>\n",
       "      <th>4</th>\n",
       "      <td>Mcdonalds</td>\n",
       "      <td>Crispy Bacon Smokehouse Chicken Sandwich</td>\n",
       "      <td>920</td>\n",
       "      <td>410</td>\n",
       "      <td>45</td>\n",
       "      <td>12.0</td>\n",
       "      <td>0.5</td>\n",
       "      <td>120</td>\n",
       "      <td>1980</td>\n",
       "      <td>81</td>\n",
       "      <td>4.0</td>\n",
       "      <td>18</td>\n",
       "      <td>46.0</td>\n",
       "      <td>6.0</td>\n",
       "      <td>20.0</td>\n",
       "      <td>20.0</td>\n",
       "      <td>Other</td>\n",
       "    </tr>\n",
       "  </tbody>\n",
       "</table>\n",
       "</div>"
      ],
      "text/plain": [
       "  restaurant                                       item  calories  cal_fat  \\\n",
       "0  Mcdonalds           Artisan Grilled Chicken Sandwich       380       60   \n",
       "1  Mcdonalds             Single Bacon Smokehouse Burger       840      410   \n",
       "2  Mcdonalds             Double Bacon Smokehouse Burger      1130      600   \n",
       "3  Mcdonalds  Grilled Bacon Smokehouse Chicken Sandwich       750      280   \n",
       "4  Mcdonalds   Crispy Bacon Smokehouse Chicken Sandwich       920      410   \n",
       "\n",
       "   total_fat  sat_fat  trans_fat  cholesterol  sodium  total_carb  fiber  \\\n",
       "0          7      2.0        0.0           95    1110          44    3.0   \n",
       "1         45     17.0        1.5          130    1580          62    2.0   \n",
       "2         67     27.0        3.0          220    1920          63    3.0   \n",
       "3         31     10.0        0.5          155    1940          62    2.0   \n",
       "4         45     12.0        0.5          120    1980          81    4.0   \n",
       "\n",
       "   sugar  protein  vit_a  vit_c  calcium  salad  \n",
       "0     11     37.0    4.0   20.0     20.0  Other  \n",
       "1     18     46.0    6.0   20.0     20.0  Other  \n",
       "2     18     70.0   10.0   20.0     50.0  Other  \n",
       "3     18     55.0    6.0   25.0     20.0  Other  \n",
       "4     18     46.0    6.0   20.0     20.0  Other  "
      ]
     },
     "execution_count": 5,
     "metadata": {},
     "output_type": "execute_result"
    }
   ],
   "source": [
    "nutrition_others.head()"
   ]
  },
  {
   "cell_type": "markdown",
   "id": "315858d4",
   "metadata": {},
   "source": [
    "**Dataset Descriptions:**\n",
    "\n",
    "1. *Fast Food Restaurants Across America*\n",
    "\n",
    "    - Source: https://www.kaggle.com/datafiniti/fast-food-restaurants?select=FastFoodRestaurants.csv\n",
    "    - Description: Datafiniti is an online service that allows businesses to more easily employ data-driven strategies and techniques by allowing access to hundreds of thousands of different data-sets, business listings, and more. From its listing on Kaggle, this is a small subset of the Fast Foot Restaurants across America dataset: \"This is a list of over 10,000 fast food restaurants provided by Datafiniti's Business Database. The dataset includes the restaurant's address, city, latitude and longitude coordinates, name, and more.\" This subset was submitted to Kaggle roughly three years ago, and the most recent updated date was in mid-2018, but the earliest updated date is in January 2014.\n",
    "    \n",
    "2. *Fast Food Chains - Nutritional Values*\n",
    "\n",
    "    - Source: https://www.kaggle.com/denizyigit/fast-food-chains-nutrition-values\n",
    "    - Description: According to its Kaggle listing: \"This dataset contains nutrition values for the popular items in Burger King and McDonald’s USA.\" There are about five hundred items listed, but this also includes distinctions between \"Large\", \"Medium\", and \"Small\" varieties of certain items (for instance: soft drinks come in several different varieties, as do fries). Discounting these differences (and considering them as the same item), there are over 100 distinct items, which gives a wide enough variety for these two restaurants.\n",
    "    \n",
    "3. *Nutritional values in fast food* \n",
    "\n",
    "    - Source: https://www.openintro.org/data/index.php?data=fastfood\n",
    "    - Description: Created and hosted by educational administration business OpenIntro in 2010, this dataset is another list of nutritional values for popular foods, but it trades depth of items/food (as opposed to focusing solely on McDonalds and Burger King) for a brevity of more restaurants- such as Subway, Taco Bell, Arbys, and Chick Fil-A. Because of this, there are over five hundred different items listed, with their nutritional values. The dataset does not differentiate between \"Large\" and \"Small\" explicitly- as only some items are listed in this way.\n",
    "    \n"
   ]
  },
  {
   "cell_type": "markdown",
   "id": "2083069c",
   "metadata": {},
   "source": [
    "## Possible questions to answer:\n",
    "\n",
    "1. Is it possible to find the **healthiest restaurant** using this dataset? ie: who has the healthiest menu- by calorie and by fat count, or by nutrition?\n",
    "\n",
    "2. Are **certain restaurants geared more towards fast food, towards healthier food, or a mixture of both?** This is intuition for more common examples, such as McDonalds, but the choices of more obscure restaurants may not be as easy to understand.\n",
    "\n",
    "3. Is there a trend between **location** and the **type of food served**? \n",
    "\n",
    "4. What **cities/states** have the most **different** restaurants in them?"
   ]
  },
  {
   "cell_type": "markdown",
   "id": "415e93e2",
   "metadata": {},
   "source": [
    "### Part 2 - Data Inspection\n",
    "\n",
    "Write some code to summarize the datasets.  Think about the following questions:\n",
    "- What type of data is each variable? (think like a data scientist here, not a computer scientist)\n",
    "- What is the total size of the data sets?\n",
    "- What time boundaries are there in the dataset?  IOW, what time frame do they span?\n",
    "- Are there any missing values in any of the variables? \n",
    "\n",
    "Do this with Intentionality.  Don't skimp. "
   ]
  },
  {
   "cell_type": "markdown",
   "id": "a5b5003a",
   "metadata": {},
   "source": [
    "- **What type of data is each variable? (think like a data scientist here, not a computer scientist)**\n",
    "\n",
    "*Types of Data:*"
   ]
  },
  {
   "cell_type": "markdown",
   "id": "923f5548",
   "metadata": {},
   "source": [
    "**Dataset 1: Restaurant List:**"
   ]
  },
  {
   "cell_type": "markdown",
   "id": "4d39a992",
   "metadata": {},
   "source": [
    "*Categorical Variables:*\n",
    "\n",
    "- id: The unique identification of each row in the table (as the only other way to identify each row uniquely is a combination of other traits (such as address + name)\n",
    "- dateAdded/dateUpdated: These variables show the date that the restaurant was first added/updated to the dataset.\n",
    "- address: The address of the listed restaurant.\n",
    "- categories: The list of keywords that are associated with the restaurant- for instance, if it is a seafood restaurant.\n",
    "- city: The city that the restaurant is in.\n",
    "- country: The country that the restaurant is in.\n",
    "- name: The name of the listed restaurant.\n",
    "- keys: This is for internal identifiers for Datafiniti database operations. \n",
    "    - For this assessment, keys can and should be removed.\n",
    "- postalCode: The postal code associated with the restaurant's location.\n",
    "- province: The province or state for the restaurant.\n",
    "- sourceURLs: The list of URLs that were scraped for the data within the dataset. \n",
    "    - For this assessment, sourceURLs can and should be removed.\n",
    "- websites: The restaurant's website (if it has one).\n",
    "\n",
    "*Numerical Variables:*\n",
    "\n",
    "- latitude/longitude: The latitude and longitude coordinate types for the given business (where it is located)."
   ]
  },
  {
   "cell_type": "markdown",
   "id": "736e8459",
   "metadata": {},
   "source": [
    "**Dataset 2: Fast Food Chains- Nutritional Values**"
   ]
  },
  {
   "cell_type": "markdown",
   "id": "048f0c8f",
   "metadata": {},
   "source": [
    "*Categorical Variables:*\n",
    "\n",
    "- Chain: The type of restaurant the food item comes from- either \"Mcdonalds\" or \"Burger King\"\n",
    "- Item: The dish or menu item. Since these are all unique, this serves as an \"id\" for each row.\n",
    "- Type: The type of dish, grouped into categories- such as Desserts, Breakfasts, or Burgers).\n",
    "\n",
    "*Numerical Variables:*\n",
    "\n",
    "- Serving Size: The serving/portion size of a given dish/item in grams.\n",
    "- Calories: The number of calories contained in one serving size of that particular dish/item.\n",
    "- Calories from Fat: The number of calories from fat contained in one serving size of that particular dish/item.\n",
    "- Total Fat: The total grams of fat (saturated and trans) contained in one serving size of that particular dish/item.\n",
    "- Saturated Fat: The total grams of saturated fat contained in one serving size of that particular dish/item.\n",
    "- Trans Fat: The total grams of trans fat contained in one serving size of that particular dish/item.\n",
    "- Chol: The total *milli*grams of cholesterol contained in one serving size of that particular dish/item.\n",
    "- Sodium: The total *milli*grams of fat contained in one serving size of that particular dish/item.\n",
    "- Total Carbs: The total grams of carbohydrates contained in one serving size of that particular dish/item.\n",
    "- Dietary Fiber: The total grams of fiber contained in one serving size of that particular dish/item.\n",
    "- Total Sugar: The total grams of sugar contained in one serving size of that particular dish/item.\n",
    "- Protein: The total grams of protein contained in one serving size of that particular dish/item."
   ]
  },
  {
   "cell_type": "markdown",
   "id": "bebb641d",
   "metadata": {},
   "source": [
    "**Dataset 3: Nutrition in fast food**"
   ]
  },
  {
   "cell_type": "markdown",
   "id": "f2f49b01",
   "metadata": {},
   "source": [
    "*Categorical Variables:*\n",
    "\n",
    "- Restaurant: The type of restaurant the food item comes from.\n",
    "- Item: The dish or menu item.\n",
    "\n",
    "*Numerical Variables:*\n",
    "\n",
    "- Calories: The number of calories contained in one serving size of that particular dish/item.\n",
    "- Cal_fat: The number of calories from fat contained in one serving size of that particular dish/item.\n",
    "- Total_fat: The total grams of fat (saturated and trans) contained in one serving size of that particular dish/item.\n",
    "- Sat_Fat: The total grams of saturated fat contained in one serving size of that particular dish/item.\n",
    "- Trans_Fat: The total grams of trans fat contained in one serving size of that particular dish/item.\n",
    "- Cholesterol: The total *milli*grams of cholesterol contained in one serving size of that particular dish/item.\n",
    "- Sodium: The total *milli*grams of fat contained in one serving size of that particular dish/item.\n",
    "- Total_carb: The total grams of carbohydrates contained in one serving size of that particular dish/item.\n",
    "- Fiber: The total grams of fiber contained in one serving size of that particular dish/item.\n",
    "- Sugar: The total grams of sugar contained in one serving size of that particular dish/item.\n",
    "- Protein: The total grams of protein contained in one serving size of that particular dish/item\n",
    "- Vit_A: The total grams of Vitamin A contained in one serving size of that particular dish/item.\n",
    "- Vit_C: The total grams of Vitamin C contained in one serving size of that particular dish/item.\n",
    "- Calcium: The total grams of calcium contained in one serving size of that particular dish/item.\n",
    "- Salad: Is it a salad or not? \n",
    "    - I do not personally believe this value is necessary for preparation- as the name/nutritional values are what we are comparing. However, a salad may be more likely to be healthy, so it is not entirely useless as a prediction variable."
   ]
  },
  {
   "cell_type": "markdown",
   "id": "7fb424b9",
   "metadata": {},
   "source": [
    "**- What is the total size of the data sets?**"
   ]
  },
  {
   "cell_type": "code",
   "execution_count": 6,
   "id": "9256ad23",
   "metadata": {},
   "outputs": [
    {
     "name": "stdout",
     "output_type": "stream",
     "text": [
      "<class 'pandas.core.frame.DataFrame'>\n",
      "RangeIndex: 10000 entries, 0 to 9999\n",
      "Data columns (total 15 columns):\n",
      " #   Column       Non-Null Count  Dtype  \n",
      "---  ------       --------------  -----  \n",
      " 0   id           10000 non-null  object \n",
      " 1   dateAdded    10000 non-null  object \n",
      " 2   dateUpdated  10000 non-null  object \n",
      " 3   address      10000 non-null  object \n",
      " 4   categories   10000 non-null  object \n",
      " 5   city         10000 non-null  object \n",
      " 6   country      10000 non-null  object \n",
      " 7   keys         10000 non-null  object \n",
      " 8   latitude     10000 non-null  float64\n",
      " 9   longitude    10000 non-null  float64\n",
      " 10  name         10000 non-null  object \n",
      " 11  postalCode   10000 non-null  object \n",
      " 12  province     10000 non-null  object \n",
      " 13  sourceURLs   10000 non-null  object \n",
      " 14  websites     10000 non-null  object \n",
      "dtypes: float64(2), object(13)\n",
      "memory usage: 1.1+ MB\n"
     ]
    }
   ],
   "source": [
    "#Dataset 1:\n",
    "restaurant_list.info()"
   ]
  },
  {
   "cell_type": "code",
   "execution_count": 7,
   "id": "4d676bd2",
   "metadata": {},
   "outputs": [
    {
     "name": "stdout",
     "output_type": "stream",
     "text": [
      "<class 'pandas.core.frame.DataFrame'>\n",
      "RangeIndex: 500 entries, 0 to 499\n",
      "Data columns (total 15 columns):\n",
      " #   Column  Non-Null Count  Dtype \n",
      "---  ------  --------------  ----- \n",
      " 0   0       500 non-null    object\n",
      " 1   1       500 non-null    object\n",
      " 2   2       500 non-null    object\n",
      " 3   3       242 non-null    object\n",
      " 4   4       500 non-null    object\n",
      " 5   5       500 non-null    object\n",
      " 6   6       500 non-null    object\n",
      " 7   7       500 non-null    object\n",
      " 8   8       500 non-null    object\n",
      " 9   9       500 non-null    object\n",
      " 10  10      500 non-null    object\n",
      " 11  11      500 non-null    object\n",
      " 12  12      500 non-null    object\n",
      " 13  13      500 non-null    object\n",
      " 14  14      500 non-null    object\n",
      "dtypes: object(15)\n",
      "memory usage: 58.7+ KB\n"
     ]
    }
   ],
   "source": [
    "#Dataset 2:\n",
    "nutrition_mcd_bk.info()"
   ]
  },
  {
   "cell_type": "code",
   "execution_count": 8,
   "id": "b56d9ad6",
   "metadata": {},
   "outputs": [
    {
     "name": "stdout",
     "output_type": "stream",
     "text": [
      "<class 'pandas.core.frame.DataFrame'>\n",
      "RangeIndex: 515 entries, 0 to 514\n",
      "Data columns (total 17 columns):\n",
      " #   Column       Non-Null Count  Dtype  \n",
      "---  ------       --------------  -----  \n",
      " 0   restaurant   515 non-null    object \n",
      " 1   item         515 non-null    object \n",
      " 2   calories     515 non-null    int64  \n",
      " 3   cal_fat      515 non-null    int64  \n",
      " 4   total_fat    515 non-null    int64  \n",
      " 5   sat_fat      515 non-null    float64\n",
      " 6   trans_fat    515 non-null    float64\n",
      " 7   cholesterol  515 non-null    int64  \n",
      " 8   sodium       515 non-null    int64  \n",
      " 9   total_carb   515 non-null    int64  \n",
      " 10  fiber        503 non-null    float64\n",
      " 11  sugar        515 non-null    int64  \n",
      " 12  protein      514 non-null    float64\n",
      " 13  vit_a        301 non-null    float64\n",
      " 14  vit_c        305 non-null    float64\n",
      " 15  calcium      305 non-null    float64\n",
      " 16  salad        515 non-null    object \n",
      "dtypes: float64(7), int64(7), object(3)\n",
      "memory usage: 68.5+ KB\n"
     ]
    }
   ],
   "source": [
    "#Dataset 3:\n",
    "nutrition_others.info()"
   ]
  },
  {
   "cell_type": "markdown",
   "id": "d6cd1870",
   "metadata": {},
   "source": [
    "The largest of the three data sets is the Datafiniti restaurant dataset, but that size is not nearly as large as it could be- as that specific dataset is only a small snapshot of data, up to the middle of 2018. It features **10,000 different restaurants** (though, keep in mind that these restaurants may belong to the same chain) and their associated properties and values.\n",
    "\n",
    "The other two datasets are roughly the same size as each other- the second dataset has 500 rows, and the third dataset has 515 rows. Despite the fact that the third dataset is covering more than just McDonalds and Burger King, it still only contains barely more than the second dataset (this is most likely due to the second dataset's inclusion of sizes (ie: Large Diet Coke vs Medium Diet Coke vs Small Diet Coke) and will need to be accounted for when analyzing the data)."
   ]
  },
  {
   "cell_type": "markdown",
   "id": "65126805",
   "metadata": {},
   "source": [
    "- **What time boundaries are there in the dataset?  IOW, what time frame do they span?**\n",
    "\n",
    "The only dataset with a timestamp added into the data, itself, is the Datafiniti dataset, which has a \"date_Added\" and a \"dateUpdated\" field to keep track of when restaurants were added or updated to the dataset. These values span from 2014 to mid 2018.\n",
    "\n",
    "The other two datasets do not possess timestamps, outside of when their datasets were presented online. The second dataset was published one year ago in early 2021, while the third dataset was first used in OpenIntro's __OpenIntro Statistics__, which was published in 2010. While the third dataset is not as recent as the other two, the nutritional values of food are not likely to drastically change, meaning that comparisons between 2010, 2018, and 2021 are still somewhat valid."
   ]
  },
  {
   "cell_type": "code",
   "execution_count": 9,
   "id": "d4731923",
   "metadata": {},
   "outputs": [
    {
     "name": "stdout",
     "output_type": "stream",
     "text": [
      "Date Added:\n",
      "Max:  2018-06-26T02:59:43Z\n",
      "Min:  2014-01-03T03:29:05Z\n",
      "Date Updated\n",
      "Max:  2018-06-26T03:00:14Z\n",
      "Min:  2018-04-07T13:19:05Z\n"
     ]
    }
   ],
   "source": [
    "print(\"Date Added:\")\n",
    "print(\"Max: \", restaurant_list['dateAdded'].max())\n",
    "print(\"Min: \", restaurant_list['dateAdded'].min())\n",
    "\n",
    "print(\"Date Updated\")\n",
    "print(\"Max: \", restaurant_list['dateUpdated'].max())\n",
    "print(\"Min: \", restaurant_list['dateUpdated'].min())"
   ]
  },
  {
   "cell_type": "markdown",
   "id": "b9e41fb2",
   "metadata": {},
   "source": [
    "- **Are there any missing values in any of the variables?**"
   ]
  },
  {
   "cell_type": "code",
   "execution_count": 10,
   "id": "1eb1c0c6",
   "metadata": {},
   "outputs": [
    {
     "name": "stdout",
     "output_type": "stream",
     "text": [
      "Dataset 1: Restaurant Data\n",
      "-----------\n",
      "<class 'pandas.core.frame.DataFrame'>\n",
      "RangeIndex: 10000 entries, 0 to 9999\n",
      "Data columns (total 15 columns):\n",
      " #   Column       Non-Null Count  Dtype  \n",
      "---  ------       --------------  -----  \n",
      " 0   id           10000 non-null  object \n",
      " 1   dateAdded    10000 non-null  object \n",
      " 2   dateUpdated  10000 non-null  object \n",
      " 3   address      10000 non-null  object \n",
      " 4   categories   10000 non-null  object \n",
      " 5   city         10000 non-null  object \n",
      " 6   country      10000 non-null  object \n",
      " 7   keys         10000 non-null  object \n",
      " 8   latitude     10000 non-null  float64\n",
      " 9   longitude    10000 non-null  float64\n",
      " 10  name         10000 non-null  object \n",
      " 11  postalCode   10000 non-null  object \n",
      " 12  province     10000 non-null  object \n",
      " 13  sourceURLs   10000 non-null  object \n",
      " 14  websites     10000 non-null  object \n",
      "dtypes: float64(2), object(13)\n",
      "memory usage: 1.1+ MB\n",
      "Dataset 2: Nutritional Data- McDonalds and Burger King\n",
      "-----------\n",
      "<class 'pandas.core.frame.DataFrame'>\n",
      "RangeIndex: 500 entries, 0 to 499\n",
      "Data columns (total 15 columns):\n",
      " #   Column  Non-Null Count  Dtype \n",
      "---  ------  --------------  ----- \n",
      " 0   0       500 non-null    object\n",
      " 1   1       500 non-null    object\n",
      " 2   2       500 non-null    object\n",
      " 3   3       242 non-null    object\n",
      " 4   4       500 non-null    object\n",
      " 5   5       500 non-null    object\n",
      " 6   6       500 non-null    object\n",
      " 7   7       500 non-null    object\n",
      " 8   8       500 non-null    object\n",
      " 9   9       500 non-null    object\n",
      " 10  10      500 non-null    object\n",
      " 11  11      500 non-null    object\n",
      " 12  12      500 non-null    object\n",
      " 13  13      500 non-null    object\n",
      " 14  14      500 non-null    object\n",
      "dtypes: object(15)\n",
      "memory usage: 58.7+ KB\n",
      "Dataset 3: Nutritional Data- Others\n",
      "-----------\n",
      "<class 'pandas.core.frame.DataFrame'>\n",
      "RangeIndex: 515 entries, 0 to 514\n",
      "Data columns (total 17 columns):\n",
      " #   Column       Non-Null Count  Dtype  \n",
      "---  ------       --------------  -----  \n",
      " 0   restaurant   515 non-null    object \n",
      " 1   item         515 non-null    object \n",
      " 2   calories     515 non-null    int64  \n",
      " 3   cal_fat      515 non-null    int64  \n",
      " 4   total_fat    515 non-null    int64  \n",
      " 5   sat_fat      515 non-null    float64\n",
      " 6   trans_fat    515 non-null    float64\n",
      " 7   cholesterol  515 non-null    int64  \n",
      " 8   sodium       515 non-null    int64  \n",
      " 9   total_carb   515 non-null    int64  \n",
      " 10  fiber        503 non-null    float64\n",
      " 11  sugar        515 non-null    int64  \n",
      " 12  protein      514 non-null    float64\n",
      " 13  vit_a        301 non-null    float64\n",
      " 14  vit_c        305 non-null    float64\n",
      " 15  calcium      305 non-null    float64\n",
      " 16  salad        515 non-null    object \n",
      "dtypes: float64(7), int64(7), object(3)\n",
      "memory usage: 68.5+ KB\n"
     ]
    }
   ],
   "source": [
    "print(\"Dataset 1: Restaurant Data\")\n",
    "print(\"-----------\")\n",
    "restaurant_list.info()\n",
    "\n",
    "print(\"Dataset 2: Nutritional Data- McDonalds and Burger King\")\n",
    "print(\"-----------\")\n",
    "nutrition_mcd_bk.info()\n",
    "\n",
    "print(\"Dataset 3: Nutritional Data- Others\")\n",
    "print(\"-----------\")\n",
    "nutrition_others.info()"
   ]
  },
  {
   "cell_type": "markdown",
   "id": "da90bd0e",
   "metadata": {},
   "source": [
    "- Dataset 1:\n",
    "    - Completely clean, there are 10,000 restaurants, and each attribute has exactly 10,000 non-null values.\n",
    "- Dataset 2:\n",
    "    - The fourth column, corresponding to the **serving size** of each food item. Since all records (in both the second and third dataset) are listed by serving size, this **attribute can simply be removed**, as it is the only column with improper data.\n",
    "- Dataset 3:\n",
    "    - Several values are missing for \"fiber\", \"protein\", \"vitamin a\" and, \"vitamin c\". Of these, only the latter three are missing substantial fractions of the total number of instances. Missing almost 40% of the data, however, lends itself to simply **removing** those columns instead of attempting to impute or replace them, especially because the second dataset does not use them, either."
   ]
  },
  {
   "cell_type": "code",
   "execution_count": 11,
   "id": "0d1f6e1d",
   "metadata": {},
   "outputs": [],
   "source": [
    "#dataset 2 remove serving size\n",
    "nutrition_mcd_bk = nutrition_mcd_bk.drop(columns=[3]);\n",
    "\n",
    "#dataset 3 remove vitamin a, vitamin c, calclum\n",
    "nutrition_others = nutrition_others.drop(columns=['calcium','vit_a','vit_c']);"
   ]
  },
  {
   "cell_type": "code",
   "execution_count": 12,
   "id": "3f0d06cb",
   "metadata": {},
   "outputs": [
    {
     "data": {
      "text/html": [
       "<div>\n",
       "<style scoped>\n",
       "    .dataframe tbody tr th:only-of-type {\n",
       "        vertical-align: middle;\n",
       "    }\n",
       "\n",
       "    .dataframe tbody tr th {\n",
       "        vertical-align: top;\n",
       "    }\n",
       "\n",
       "    .dataframe thead th {\n",
       "        text-align: right;\n",
       "    }\n",
       "</style>\n",
       "<table border=\"1\" class=\"dataframe\">\n",
       "  <thead>\n",
       "    <tr style=\"text-align: right;\">\n",
       "      <th></th>\n",
       "      <th>0</th>\n",
       "      <th>1</th>\n",
       "      <th>2</th>\n",
       "      <th>4</th>\n",
       "      <th>5</th>\n",
       "      <th>6</th>\n",
       "      <th>7</th>\n",
       "      <th>8</th>\n",
       "      <th>9</th>\n",
       "      <th>10</th>\n",
       "      <th>11</th>\n",
       "      <th>12</th>\n",
       "      <th>13</th>\n",
       "      <th>14</th>\n",
       "    </tr>\n",
       "  </thead>\n",
       "  <tbody>\n",
       "    <tr>\n",
       "      <th>0</th>\n",
       "      <td>Chain</td>\n",
       "      <td>Item</td>\n",
       "      <td>Type</td>\n",
       "      <td>Calories</td>\n",
       "      <td>Calories from fat</td>\n",
       "      <td>Total Fat (g)</td>\n",
       "      <td>Saturated Fat (g)</td>\n",
       "      <td>Trans Fat (g)</td>\n",
       "      <td>Chol (mg)</td>\n",
       "      <td>Sodium (mg)</td>\n",
       "      <td>Total Carb (g)</td>\n",
       "      <td>Dietary Fiber (g)</td>\n",
       "      <td>Total Sugar (g)</td>\n",
       "      <td>Protein (g)</td>\n",
       "    </tr>\n",
       "    <tr>\n",
       "      <th>1</th>\n",
       "      <td>Burger King</td>\n",
       "      <td>Whopper Sandwich</td>\n",
       "      <td>Whopper Sandwiches</td>\n",
       "      <td>660</td>\n",
       "      <td>360</td>\n",
       "      <td>40</td>\n",
       "      <td>12</td>\n",
       "      <td>1,5</td>\n",
       "      <td>90</td>\n",
       "      <td>980</td>\n",
       "      <td>49</td>\n",
       "      <td>2</td>\n",
       "      <td>11</td>\n",
       "      <td>28</td>\n",
       "    </tr>\n",
       "    <tr>\n",
       "      <th>2</th>\n",
       "      <td>Burger King</td>\n",
       "      <td>Whopper Sandwich with Cheese</td>\n",
       "      <td>Whopper Sandwiches</td>\n",
       "      <td>740</td>\n",
       "      <td>420</td>\n",
       "      <td>46</td>\n",
       "      <td>16</td>\n",
       "      <td>2</td>\n",
       "      <td>115</td>\n",
       "      <td>1340</td>\n",
       "      <td>50</td>\n",
       "      <td>2</td>\n",
       "      <td>11</td>\n",
       "      <td>32</td>\n",
       "    </tr>\n",
       "    <tr>\n",
       "      <th>3</th>\n",
       "      <td>Burger King</td>\n",
       "      <td>Bacon &amp; Cheese Whopper Sandwich</td>\n",
       "      <td>Whopper Sandwiches</td>\n",
       "      <td>790</td>\n",
       "      <td>460</td>\n",
       "      <td>51</td>\n",
       "      <td>17</td>\n",
       "      <td>2</td>\n",
       "      <td>125</td>\n",
       "      <td>1560</td>\n",
       "      <td>50</td>\n",
       "      <td>2</td>\n",
       "      <td>11</td>\n",
       "      <td>35</td>\n",
       "    </tr>\n",
       "    <tr>\n",
       "      <th>4</th>\n",
       "      <td>Burger King</td>\n",
       "      <td>Double Whopper Sandwich</td>\n",
       "      <td>Whopper Sandwiches</td>\n",
       "      <td>900</td>\n",
       "      <td>520</td>\n",
       "      <td>58</td>\n",
       "      <td>20</td>\n",
       "      <td>3</td>\n",
       "      <td>175</td>\n",
       "      <td>1050</td>\n",
       "      <td>49</td>\n",
       "      <td>2</td>\n",
       "      <td>11</td>\n",
       "      <td>48</td>\n",
       "    </tr>\n",
       "  </tbody>\n",
       "</table>\n",
       "</div>"
      ],
      "text/plain": [
       "            0                                1                   2         4   \\\n",
       "0        Chain                             Item                Type  Calories   \n",
       "1  Burger King                 Whopper Sandwich  Whopper Sandwiches       660   \n",
       "2  Burger King     Whopper Sandwich with Cheese  Whopper Sandwiches       740   \n",
       "3  Burger King  Bacon & Cheese Whopper Sandwich  Whopper Sandwiches       790   \n",
       "4  Burger King          Double Whopper Sandwich  Whopper Sandwiches       900   \n",
       "\n",
       "                  5              6                  7              8   \\\n",
       "0  Calories from fat  Total Fat (g)  Saturated Fat (g)  Trans Fat (g)   \n",
       "1                360             40                 12            1,5   \n",
       "2                420             46                 16              2   \n",
       "3                460             51                 17              2   \n",
       "4                520             58                 20              3   \n",
       "\n",
       "          9            10              11                 12               13  \\\n",
       "0  Chol (mg)  Sodium (mg)  Total Carb (g)  Dietary Fiber (g)  Total Sugar (g)   \n",
       "1         90          980              49                  2               11   \n",
       "2        115         1340              50                  2               11   \n",
       "3        125         1560              50                  2               11   \n",
       "4        175         1050              49                  2               11   \n",
       "\n",
       "            14  \n",
       "0  Protein (g)  \n",
       "1           28  \n",
       "2           32  \n",
       "3           35  \n",
       "4           48  "
      ]
     },
     "execution_count": 12,
     "metadata": {},
     "output_type": "execute_result"
    }
   ],
   "source": [
    "nutrition_mcd_bk.head()"
   ]
  },
  {
   "cell_type": "code",
   "execution_count": 13,
   "id": "fa5a800c",
   "metadata": {},
   "outputs": [
    {
     "data": {
      "text/html": [
       "<div>\n",
       "<style scoped>\n",
       "    .dataframe tbody tr th:only-of-type {\n",
       "        vertical-align: middle;\n",
       "    }\n",
       "\n",
       "    .dataframe tbody tr th {\n",
       "        vertical-align: top;\n",
       "    }\n",
       "\n",
       "    .dataframe thead th {\n",
       "        text-align: right;\n",
       "    }\n",
       "</style>\n",
       "<table border=\"1\" class=\"dataframe\">\n",
       "  <thead>\n",
       "    <tr style=\"text-align: right;\">\n",
       "      <th></th>\n",
       "      <th>restaurant</th>\n",
       "      <th>item</th>\n",
       "      <th>calories</th>\n",
       "      <th>cal_fat</th>\n",
       "      <th>total_fat</th>\n",
       "      <th>sat_fat</th>\n",
       "      <th>trans_fat</th>\n",
       "      <th>cholesterol</th>\n",
       "      <th>sodium</th>\n",
       "      <th>total_carb</th>\n",
       "      <th>fiber</th>\n",
       "      <th>sugar</th>\n",
       "      <th>protein</th>\n",
       "      <th>salad</th>\n",
       "    </tr>\n",
       "  </thead>\n",
       "  <tbody>\n",
       "    <tr>\n",
       "      <th>0</th>\n",
       "      <td>Mcdonalds</td>\n",
       "      <td>Artisan Grilled Chicken Sandwich</td>\n",
       "      <td>380</td>\n",
       "      <td>60</td>\n",
       "      <td>7</td>\n",
       "      <td>2.0</td>\n",
       "      <td>0.0</td>\n",
       "      <td>95</td>\n",
       "      <td>1110</td>\n",
       "      <td>44</td>\n",
       "      <td>3.0</td>\n",
       "      <td>11</td>\n",
       "      <td>37.0</td>\n",
       "      <td>Other</td>\n",
       "    </tr>\n",
       "    <tr>\n",
       "      <th>1</th>\n",
       "      <td>Mcdonalds</td>\n",
       "      <td>Single Bacon Smokehouse Burger</td>\n",
       "      <td>840</td>\n",
       "      <td>410</td>\n",
       "      <td>45</td>\n",
       "      <td>17.0</td>\n",
       "      <td>1.5</td>\n",
       "      <td>130</td>\n",
       "      <td>1580</td>\n",
       "      <td>62</td>\n",
       "      <td>2.0</td>\n",
       "      <td>18</td>\n",
       "      <td>46.0</td>\n",
       "      <td>Other</td>\n",
       "    </tr>\n",
       "    <tr>\n",
       "      <th>2</th>\n",
       "      <td>Mcdonalds</td>\n",
       "      <td>Double Bacon Smokehouse Burger</td>\n",
       "      <td>1130</td>\n",
       "      <td>600</td>\n",
       "      <td>67</td>\n",
       "      <td>27.0</td>\n",
       "      <td>3.0</td>\n",
       "      <td>220</td>\n",
       "      <td>1920</td>\n",
       "      <td>63</td>\n",
       "      <td>3.0</td>\n",
       "      <td>18</td>\n",
       "      <td>70.0</td>\n",
       "      <td>Other</td>\n",
       "    </tr>\n",
       "    <tr>\n",
       "      <th>3</th>\n",
       "      <td>Mcdonalds</td>\n",
       "      <td>Grilled Bacon Smokehouse Chicken Sandwich</td>\n",
       "      <td>750</td>\n",
       "      <td>280</td>\n",
       "      <td>31</td>\n",
       "      <td>10.0</td>\n",
       "      <td>0.5</td>\n",
       "      <td>155</td>\n",
       "      <td>1940</td>\n",
       "      <td>62</td>\n",
       "      <td>2.0</td>\n",
       "      <td>18</td>\n",
       "      <td>55.0</td>\n",
       "      <td>Other</td>\n",
       "    </tr>\n",
       "    <tr>\n",
       "      <th>4</th>\n",
       "      <td>Mcdonalds</td>\n",
       "      <td>Crispy Bacon Smokehouse Chicken Sandwich</td>\n",
       "      <td>920</td>\n",
       "      <td>410</td>\n",
       "      <td>45</td>\n",
       "      <td>12.0</td>\n",
       "      <td>0.5</td>\n",
       "      <td>120</td>\n",
       "      <td>1980</td>\n",
       "      <td>81</td>\n",
       "      <td>4.0</td>\n",
       "      <td>18</td>\n",
       "      <td>46.0</td>\n",
       "      <td>Other</td>\n",
       "    </tr>\n",
       "  </tbody>\n",
       "</table>\n",
       "</div>"
      ],
      "text/plain": [
       "  restaurant                                       item  calories  cal_fat  \\\n",
       "0  Mcdonalds           Artisan Grilled Chicken Sandwich       380       60   \n",
       "1  Mcdonalds             Single Bacon Smokehouse Burger       840      410   \n",
       "2  Mcdonalds             Double Bacon Smokehouse Burger      1130      600   \n",
       "3  Mcdonalds  Grilled Bacon Smokehouse Chicken Sandwich       750      280   \n",
       "4  Mcdonalds   Crispy Bacon Smokehouse Chicken Sandwich       920      410   \n",
       "\n",
       "   total_fat  sat_fat  trans_fat  cholesterol  sodium  total_carb  fiber  \\\n",
       "0          7      2.0        0.0           95    1110          44    3.0   \n",
       "1         45     17.0        1.5          130    1580          62    2.0   \n",
       "2         67     27.0        3.0          220    1920          63    3.0   \n",
       "3         31     10.0        0.5          155    1940          62    2.0   \n",
       "4         45     12.0        0.5          120    1980          81    4.0   \n",
       "\n",
       "   sugar  protein  salad  \n",
       "0     11     37.0  Other  \n",
       "1     18     46.0  Other  \n",
       "2     18     70.0  Other  \n",
       "3     18     55.0  Other  \n",
       "4     18     46.0  Other  "
      ]
     },
     "execution_count": 13,
     "metadata": {},
     "output_type": "execute_result"
    }
   ],
   "source": [
    "nutrition_others.head()"
   ]
  },
  {
   "cell_type": "code",
   "execution_count": 14,
   "id": "687394f6",
   "metadata": {},
   "outputs": [
    {
     "data": {
      "text/html": [
       "<div>\n",
       "<style scoped>\n",
       "    .dataframe tbody tr th:only-of-type {\n",
       "        vertical-align: middle;\n",
       "    }\n",
       "\n",
       "    .dataframe tbody tr th {\n",
       "        vertical-align: top;\n",
       "    }\n",
       "\n",
       "    .dataframe thead th {\n",
       "        text-align: right;\n",
       "    }\n",
       "</style>\n",
       "<table border=\"1\" class=\"dataframe\">\n",
       "  <thead>\n",
       "    <tr style=\"text-align: right;\">\n",
       "      <th></th>\n",
       "      <th>restaurant</th>\n",
       "      <th>item</th>\n",
       "      <th>calories</th>\n",
       "      <th>cal_fat</th>\n",
       "      <th>total_fat</th>\n",
       "      <th>sat_fat</th>\n",
       "      <th>trans_fat</th>\n",
       "      <th>cholesterol</th>\n",
       "      <th>sodium</th>\n",
       "      <th>total_carb</th>\n",
       "      <th>fiber</th>\n",
       "      <th>sugar</th>\n",
       "      <th>protein</th>\n",
       "      <th>salad</th>\n",
       "    </tr>\n",
       "  </thead>\n",
       "  <tbody>\n",
       "    <tr>\n",
       "      <th>82</th>\n",
       "      <td>Chick Fil-A</td>\n",
       "      <td>Chicken Enchiladas Meal Kit</td>\n",
       "      <td>860</td>\n",
       "      <td>423</td>\n",
       "      <td>47</td>\n",
       "      <td>16.0</td>\n",
       "      <td>1.0</td>\n",
       "      <td>100</td>\n",
       "      <td>2520</td>\n",
       "      <td>70</td>\n",
       "      <td>NaN</td>\n",
       "      <td>8</td>\n",
       "      <td>39.0</td>\n",
       "      <td>Other</td>\n",
       "    </tr>\n",
       "    <tr>\n",
       "      <th>83</th>\n",
       "      <td>Chick Fil-A</td>\n",
       "      <td>Chicken Parmesan Meal Kit</td>\n",
       "      <td>720</td>\n",
       "      <td>279</td>\n",
       "      <td>31</td>\n",
       "      <td>15.0</td>\n",
       "      <td>0.0</td>\n",
       "      <td>120</td>\n",
       "      <td>1780</td>\n",
       "      <td>65</td>\n",
       "      <td>NaN</td>\n",
       "      <td>7</td>\n",
       "      <td>48.0</td>\n",
       "      <td>Other</td>\n",
       "    </tr>\n",
       "    <tr>\n",
       "      <th>198</th>\n",
       "      <td>Burger King</td>\n",
       "      <td>BBQ Bacon King</td>\n",
       "      <td>1100</td>\n",
       "      <td>675</td>\n",
       "      <td>75</td>\n",
       "      <td>29.0</td>\n",
       "      <td>3.0</td>\n",
       "      <td>220</td>\n",
       "      <td>1850</td>\n",
       "      <td>51</td>\n",
       "      <td>NaN</td>\n",
       "      <td>13</td>\n",
       "      <td>57.0</td>\n",
       "      <td>Other</td>\n",
       "    </tr>\n",
       "    <tr>\n",
       "      <th>205</th>\n",
       "      <td>Burger King</td>\n",
       "      <td>Farmhouse King</td>\n",
       "      <td>1220</td>\n",
       "      <td>720</td>\n",
       "      <td>80</td>\n",
       "      <td>28.0</td>\n",
       "      <td>3.0</td>\n",
       "      <td>335</td>\n",
       "      <td>2050</td>\n",
       "      <td>62</td>\n",
       "      <td>NaN</td>\n",
       "      <td>15</td>\n",
       "      <td>NaN</td>\n",
       "      <td>Other</td>\n",
       "    </tr>\n",
       "    <tr>\n",
       "      <th>209</th>\n",
       "      <td>Burger King</td>\n",
       "      <td>Mushroom &amp; Swiss King</td>\n",
       "      <td>940</td>\n",
       "      <td>567</td>\n",
       "      <td>63</td>\n",
       "      <td>21.0</td>\n",
       "      <td>2.5</td>\n",
       "      <td>175</td>\n",
       "      <td>1380</td>\n",
       "      <td>45</td>\n",
       "      <td>NaN</td>\n",
       "      <td>8</td>\n",
       "      <td>49.0</td>\n",
       "      <td>Other</td>\n",
       "    </tr>\n",
       "    <tr>\n",
       "      <th>214</th>\n",
       "      <td>Burger King</td>\n",
       "      <td>Steakhouse King</td>\n",
       "      <td>1100</td>\n",
       "      <td>666</td>\n",
       "      <td>74</td>\n",
       "      <td>24.0</td>\n",
       "      <td>1.0</td>\n",
       "      <td>180</td>\n",
       "      <td>1620</td>\n",
       "      <td>59</td>\n",
       "      <td>NaN</td>\n",
       "      <td>13</td>\n",
       "      <td>50.0</td>\n",
       "      <td>Other</td>\n",
       "    </tr>\n",
       "    <tr>\n",
       "      <th>234</th>\n",
       "      <td>Burger King</td>\n",
       "      <td>Bacon Cheddar Ranch Crispy Chicken Sandwich</td>\n",
       "      <td>830</td>\n",
       "      <td>468</td>\n",
       "      <td>52</td>\n",
       "      <td>14.0</td>\n",
       "      <td>0.5</td>\n",
       "      <td>110</td>\n",
       "      <td>2100</td>\n",
       "      <td>57</td>\n",
       "      <td>NaN</td>\n",
       "      <td>9</td>\n",
       "      <td>34.0</td>\n",
       "      <td>Other</td>\n",
       "    </tr>\n",
       "    <tr>\n",
       "      <th>235</th>\n",
       "      <td>Burger King</td>\n",
       "      <td>BBQ Bacon Crispy Chicken Sandwich</td>\n",
       "      <td>440</td>\n",
       "      <td>243</td>\n",
       "      <td>27</td>\n",
       "      <td>4.5</td>\n",
       "      <td>0.0</td>\n",
       "      <td>15</td>\n",
       "      <td>630</td>\n",
       "      <td>44</td>\n",
       "      <td>NaN</td>\n",
       "      <td>13</td>\n",
       "      <td>7.0</td>\n",
       "      <td>Other</td>\n",
       "    </tr>\n",
       "    <tr>\n",
       "      <th>239</th>\n",
       "      <td>Burger King</td>\n",
       "      <td>Chicken Cordon Bleu Sandwich</td>\n",
       "      <td>730</td>\n",
       "      <td>351</td>\n",
       "      <td>39</td>\n",
       "      <td>9.0</td>\n",
       "      <td>0.0</td>\n",
       "      <td>90</td>\n",
       "      <td>1930</td>\n",
       "      <td>63</td>\n",
       "      <td>NaN</td>\n",
       "      <td>16</td>\n",
       "      <td>32.0</td>\n",
       "      <td>Other</td>\n",
       "    </tr>\n",
       "    <tr>\n",
       "      <th>245</th>\n",
       "      <td>Burger King</td>\n",
       "      <td>Chicken Parmesan Sandwich</td>\n",
       "      <td>570</td>\n",
       "      <td>225</td>\n",
       "      <td>25</td>\n",
       "      <td>8.0</td>\n",
       "      <td>0.0</td>\n",
       "      <td>70</td>\n",
       "      <td>1340</td>\n",
       "      <td>57</td>\n",
       "      <td>NaN</td>\n",
       "      <td>9</td>\n",
       "      <td>32.0</td>\n",
       "      <td>Other</td>\n",
       "    </tr>\n",
       "    <tr>\n",
       "      <th>246</th>\n",
       "      <td>Burger King</td>\n",
       "      <td>Crispy Buffalo Chicken Melt</td>\n",
       "      <td>580</td>\n",
       "      <td>252</td>\n",
       "      <td>28</td>\n",
       "      <td>8.0</td>\n",
       "      <td>0.5</td>\n",
       "      <td>70</td>\n",
       "      <td>2310</td>\n",
       "      <td>56</td>\n",
       "      <td>NaN</td>\n",
       "      <td>8</td>\n",
       "      <td>30.0</td>\n",
       "      <td>Other</td>\n",
       "    </tr>\n",
       "    <tr>\n",
       "      <th>258</th>\n",
       "      <td>Burger King</td>\n",
       "      <td>Spicy Chicken Nuggets</td>\n",
       "      <td>530</td>\n",
       "      <td>333</td>\n",
       "      <td>37</td>\n",
       "      <td>7.0</td>\n",
       "      <td>0.0</td>\n",
       "      <td>55</td>\n",
       "      <td>1420</td>\n",
       "      <td>28</td>\n",
       "      <td>NaN</td>\n",
       "      <td>0</td>\n",
       "      <td>20.0</td>\n",
       "      <td>Other</td>\n",
       "    </tr>\n",
       "  </tbody>\n",
       "</table>\n",
       "</div>"
      ],
      "text/plain": [
       "      restaurant                                         item  calories  \\\n",
       "82   Chick Fil-A                  Chicken Enchiladas Meal Kit       860   \n",
       "83   Chick Fil-A                    Chicken Parmesan Meal Kit       720   \n",
       "198  Burger King                               BBQ Bacon King      1100   \n",
       "205  Burger King                               Farmhouse King      1220   \n",
       "209  Burger King                        Mushroom & Swiss King       940   \n",
       "214  Burger King                              Steakhouse King      1100   \n",
       "234  Burger King  Bacon Cheddar Ranch Crispy Chicken Sandwich       830   \n",
       "235  Burger King            BBQ Bacon Crispy Chicken Sandwich       440   \n",
       "239  Burger King                 Chicken Cordon Bleu Sandwich       730   \n",
       "245  Burger King                    Chicken Parmesan Sandwich       570   \n",
       "246  Burger King                  Crispy Buffalo Chicken Melt       580   \n",
       "258  Burger King                        Spicy Chicken Nuggets       530   \n",
       "\n",
       "     cal_fat  total_fat  sat_fat  trans_fat  cholesterol  sodium  total_carb  \\\n",
       "82       423         47     16.0        1.0          100    2520          70   \n",
       "83       279         31     15.0        0.0          120    1780          65   \n",
       "198      675         75     29.0        3.0          220    1850          51   \n",
       "205      720         80     28.0        3.0          335    2050          62   \n",
       "209      567         63     21.0        2.5          175    1380          45   \n",
       "214      666         74     24.0        1.0          180    1620          59   \n",
       "234      468         52     14.0        0.5          110    2100          57   \n",
       "235      243         27      4.5        0.0           15     630          44   \n",
       "239      351         39      9.0        0.0           90    1930          63   \n",
       "245      225         25      8.0        0.0           70    1340          57   \n",
       "246      252         28      8.0        0.5           70    2310          56   \n",
       "258      333         37      7.0        0.0           55    1420          28   \n",
       "\n",
       "     fiber  sugar  protein  salad  \n",
       "82     NaN      8     39.0  Other  \n",
       "83     NaN      7     48.0  Other  \n",
       "198    NaN     13     57.0  Other  \n",
       "205    NaN     15      NaN  Other  \n",
       "209    NaN      8     49.0  Other  \n",
       "214    NaN     13     50.0  Other  \n",
       "234    NaN      9     34.0  Other  \n",
       "235    NaN     13      7.0  Other  \n",
       "239    NaN     16     32.0  Other  \n",
       "245    NaN      9     32.0  Other  \n",
       "246    NaN      8     30.0  Other  \n",
       "258    NaN      0     20.0  Other  "
      ]
     },
     "execution_count": 14,
     "metadata": {},
     "output_type": "execute_result"
    }
   ],
   "source": [
    "#Checking nulls in dataset 3 with those removed\n",
    "null_data = nutrition_others[nutrition_others.isnull().any(axis=1)]\n",
    "null_data"
   ]
  },
  {
   "cell_type": "code",
   "execution_count": 15,
   "id": "d4417c82",
   "metadata": {},
   "outputs": [],
   "source": [
    "#I could not find the two Chick-Fil-A entries on the Chick-Fil-A website\n",
    "#and the Burger King entries are already covered by the second dataset\n",
    "nutrition_others = nutrition_others.dropna()"
   ]
  },
  {
   "cell_type": "code",
   "execution_count": 16,
   "id": "e9802111",
   "metadata": {},
   "outputs": [
    {
     "name": "stdout",
     "output_type": "stream",
     "text": [
      "<class 'pandas.core.frame.DataFrame'>\n",
      "Int64Index: 503 entries, 0 to 514\n",
      "Data columns (total 14 columns):\n",
      " #   Column       Non-Null Count  Dtype  \n",
      "---  ------       --------------  -----  \n",
      " 0   restaurant   503 non-null    object \n",
      " 1   item         503 non-null    object \n",
      " 2   calories     503 non-null    int64  \n",
      " 3   cal_fat      503 non-null    int64  \n",
      " 4   total_fat    503 non-null    int64  \n",
      " 5   sat_fat      503 non-null    float64\n",
      " 6   trans_fat    503 non-null    float64\n",
      " 7   cholesterol  503 non-null    int64  \n",
      " 8   sodium       503 non-null    int64  \n",
      " 9   total_carb   503 non-null    int64  \n",
      " 10  fiber        503 non-null    float64\n",
      " 11  sugar        503 non-null    int64  \n",
      " 12  protein      503 non-null    float64\n",
      " 13  salad        503 non-null    object \n",
      "dtypes: float64(4), int64(7), object(3)\n",
      "memory usage: 58.9+ KB\n"
     ]
    }
   ],
   "source": [
    "nutrition_others.info()"
   ]
  },
  {
   "cell_type": "code",
   "execution_count": 17,
   "id": "2085d5de",
   "metadata": {},
   "outputs": [
    {
     "data": {
      "text/html": [
       "<div>\n",
       "<style scoped>\n",
       "    .dataframe tbody tr th:only-of-type {\n",
       "        vertical-align: middle;\n",
       "    }\n",
       "\n",
       "    .dataframe tbody tr th {\n",
       "        vertical-align: top;\n",
       "    }\n",
       "\n",
       "    .dataframe thead th {\n",
       "        text-align: right;\n",
       "    }\n",
       "</style>\n",
       "<table border=\"1\" class=\"dataframe\">\n",
       "  <thead>\n",
       "    <tr style=\"text-align: right;\">\n",
       "      <th></th>\n",
       "      <th>Chain</th>\n",
       "      <th>Item</th>\n",
       "      <th>Type</th>\n",
       "      <th>Calories</th>\n",
       "      <th>Calories from Fat</th>\n",
       "      <th>Total Fat</th>\n",
       "      <th>Saturated Fat</th>\n",
       "      <th>Trans Fat</th>\n",
       "      <th>Chol</th>\n",
       "      <th>Sodium</th>\n",
       "      <th>Total Carb</th>\n",
       "      <th>Dietary Fiber</th>\n",
       "      <th>Total Sugar</th>\n",
       "      <th>Protein</th>\n",
       "    </tr>\n",
       "  </thead>\n",
       "  <tbody>\n",
       "    <tr>\n",
       "      <th>1</th>\n",
       "      <td>Burger King</td>\n",
       "      <td>Whopper Sandwich</td>\n",
       "      <td>Whopper Sandwiches</td>\n",
       "      <td>660</td>\n",
       "      <td>360</td>\n",
       "      <td>40</td>\n",
       "      <td>12</td>\n",
       "      <td>1,5</td>\n",
       "      <td>90</td>\n",
       "      <td>980</td>\n",
       "      <td>49</td>\n",
       "      <td>2</td>\n",
       "      <td>11</td>\n",
       "      <td>28</td>\n",
       "    </tr>\n",
       "    <tr>\n",
       "      <th>2</th>\n",
       "      <td>Burger King</td>\n",
       "      <td>Whopper Sandwich with Cheese</td>\n",
       "      <td>Whopper Sandwiches</td>\n",
       "      <td>740</td>\n",
       "      <td>420</td>\n",
       "      <td>46</td>\n",
       "      <td>16</td>\n",
       "      <td>2</td>\n",
       "      <td>115</td>\n",
       "      <td>1340</td>\n",
       "      <td>50</td>\n",
       "      <td>2</td>\n",
       "      <td>11</td>\n",
       "      <td>32</td>\n",
       "    </tr>\n",
       "    <tr>\n",
       "      <th>3</th>\n",
       "      <td>Burger King</td>\n",
       "      <td>Bacon &amp; Cheese Whopper Sandwich</td>\n",
       "      <td>Whopper Sandwiches</td>\n",
       "      <td>790</td>\n",
       "      <td>460</td>\n",
       "      <td>51</td>\n",
       "      <td>17</td>\n",
       "      <td>2</td>\n",
       "      <td>125</td>\n",
       "      <td>1560</td>\n",
       "      <td>50</td>\n",
       "      <td>2</td>\n",
       "      <td>11</td>\n",
       "      <td>35</td>\n",
       "    </tr>\n",
       "    <tr>\n",
       "      <th>4</th>\n",
       "      <td>Burger King</td>\n",
       "      <td>Double Whopper Sandwich</td>\n",
       "      <td>Whopper Sandwiches</td>\n",
       "      <td>900</td>\n",
       "      <td>520</td>\n",
       "      <td>58</td>\n",
       "      <td>20</td>\n",
       "      <td>3</td>\n",
       "      <td>175</td>\n",
       "      <td>1050</td>\n",
       "      <td>49</td>\n",
       "      <td>2</td>\n",
       "      <td>11</td>\n",
       "      <td>48</td>\n",
       "    </tr>\n",
       "    <tr>\n",
       "      <th>5</th>\n",
       "      <td>Burger King</td>\n",
       "      <td>Double Whopper Sandwich with Cheese</td>\n",
       "      <td>Whopper Sandwiches</td>\n",
       "      <td>980</td>\n",
       "      <td>580</td>\n",
       "      <td>64</td>\n",
       "      <td>24</td>\n",
       "      <td>3</td>\n",
       "      <td>195</td>\n",
       "      <td>1410</td>\n",
       "      <td>50</td>\n",
       "      <td>2</td>\n",
       "      <td>11</td>\n",
       "      <td>52</td>\n",
       "    </tr>\n",
       "  </tbody>\n",
       "</table>\n",
       "</div>"
      ],
      "text/plain": [
       "         Chain                                 Item                Type  \\\n",
       "1  Burger King                     Whopper Sandwich  Whopper Sandwiches   \n",
       "2  Burger King         Whopper Sandwich with Cheese  Whopper Sandwiches   \n",
       "3  Burger King      Bacon & Cheese Whopper Sandwich  Whopper Sandwiches   \n",
       "4  Burger King              Double Whopper Sandwich  Whopper Sandwiches   \n",
       "5  Burger King  Double Whopper Sandwich with Cheese  Whopper Sandwiches   \n",
       "\n",
       "  Calories Calories from Fat Total Fat Saturated Fat Trans Fat Chol Sodium  \\\n",
       "1      660               360        40            12       1,5   90    980   \n",
       "2      740               420        46            16         2  115   1340   \n",
       "3      790               460        51            17         2  125   1560   \n",
       "4      900               520        58            20         3  175   1050   \n",
       "5      980               580        64            24         3  195   1410   \n",
       "\n",
       "  Total Carb Dietary Fiber Total Sugar Protein  \n",
       "1         49             2          11      28  \n",
       "2         50             2          11      32  \n",
       "3         50             2          11      35  \n",
       "4         49             2          11      48  \n",
       "5         50             2          11      52  "
      ]
     },
     "execution_count": 17,
     "metadata": {},
     "output_type": "execute_result"
    }
   ],
   "source": [
    "#Column names need to be fixed in dataset 2 (to not just be numbers)\n",
    "nutrition_mcd_bk.columns = [\"Chain\", \"Item\", \"Type\", \"Calories\", \n",
    "                               \"Calories from Fat\", \"Total Fat\", \n",
    "                               \"Saturated Fat\", \"Trans Fat\", \n",
    "                               \"Chol\", \"Sodium\", \"Total Carb\", \"Dietary Fiber\", \n",
    "                               \"Total Sugar\", \"Protein\"]\n",
    "nutrition_mcd_bk.drop(index=nutrition_mcd_bk.index[0], \n",
    "        axis=0, \n",
    "        inplace=True)\n",
    "\n",
    "nutrition_mcd_bk.head()\n"
   ]
  },
  {
   "cell_type": "code",
   "execution_count": 18,
   "id": "d666fe05",
   "metadata": {},
   "outputs": [
    {
     "data": {
      "text/html": [
       "<div>\n",
       "<style scoped>\n",
       "    .dataframe tbody tr th:only-of-type {\n",
       "        vertical-align: middle;\n",
       "    }\n",
       "\n",
       "    .dataframe tbody tr th {\n",
       "        vertical-align: top;\n",
       "    }\n",
       "\n",
       "    .dataframe thead th {\n",
       "        text-align: right;\n",
       "    }\n",
       "</style>\n",
       "<table border=\"1\" class=\"dataframe\">\n",
       "  <thead>\n",
       "    <tr style=\"text-align: right;\">\n",
       "      <th></th>\n",
       "      <th>id</th>\n",
       "      <th>dateAdded</th>\n",
       "      <th>dateUpdated</th>\n",
       "      <th>address</th>\n",
       "      <th>categories</th>\n",
       "      <th>city</th>\n",
       "      <th>country</th>\n",
       "      <th>latitude</th>\n",
       "      <th>longitude</th>\n",
       "      <th>name</th>\n",
       "      <th>postalCode</th>\n",
       "      <th>province</th>\n",
       "      <th>websites</th>\n",
       "    </tr>\n",
       "  </thead>\n",
       "  <tbody>\n",
       "    <tr>\n",
       "      <th>0</th>\n",
       "      <td>AVwcmSyZIN2L1WUfmxyw</td>\n",
       "      <td>2015-10-19T23:47:58Z</td>\n",
       "      <td>2018-06-26T03:00:14Z</td>\n",
       "      <td>800 N Canal Blvd</td>\n",
       "      <td>American Restaurant and Fast Food Restaurant</td>\n",
       "      <td>Thibodaux</td>\n",
       "      <td>US</td>\n",
       "      <td>29.814697</td>\n",
       "      <td>-90.814742</td>\n",
       "      <td>SONIC Drive In</td>\n",
       "      <td>70301</td>\n",
       "      <td>LA</td>\n",
       "      <td>https://locations.sonicdrivein.com/la/thibodau...</td>\n",
       "    </tr>\n",
       "    <tr>\n",
       "      <th>1</th>\n",
       "      <td>AVwcmSyZIN2L1WUfmxyw</td>\n",
       "      <td>2015-10-19T23:47:58Z</td>\n",
       "      <td>2018-06-26T03:00:14Z</td>\n",
       "      <td>800 N Canal Blvd</td>\n",
       "      <td>Fast Food Restaurants</td>\n",
       "      <td>Thibodaux</td>\n",
       "      <td>US</td>\n",
       "      <td>29.814697</td>\n",
       "      <td>-90.814742</td>\n",
       "      <td>SONIC Drive In</td>\n",
       "      <td>70301</td>\n",
       "      <td>LA</td>\n",
       "      <td>https://locations.sonicdrivein.com/la/thibodau...</td>\n",
       "    </tr>\n",
       "    <tr>\n",
       "      <th>2</th>\n",
       "      <td>AVwcopQoByjofQCxgfVa</td>\n",
       "      <td>2016-03-29T05:06:36Z</td>\n",
       "      <td>2018-06-26T02:59:52Z</td>\n",
       "      <td>206 Wears Valley Rd</td>\n",
       "      <td>Fast Food Restaurant</td>\n",
       "      <td>Pigeon Forge</td>\n",
       "      <td>US</td>\n",
       "      <td>35.803788</td>\n",
       "      <td>-83.580553</td>\n",
       "      <td>Taco Bell</td>\n",
       "      <td>37863</td>\n",
       "      <td>TN</td>\n",
       "      <td>http://www.tacobell.com,https://locations.taco...</td>\n",
       "    </tr>\n",
       "    <tr>\n",
       "      <th>3</th>\n",
       "      <td>AVweXN5RByjofQCxxilK</td>\n",
       "      <td>2017-01-03T07:46:11Z</td>\n",
       "      <td>2018-06-26T02:59:51Z</td>\n",
       "      <td>3652 Parkway</td>\n",
       "      <td>Fast Food</td>\n",
       "      <td>Pigeon Forge</td>\n",
       "      <td>US</td>\n",
       "      <td>35.782339</td>\n",
       "      <td>-83.551408</td>\n",
       "      <td>Arby's</td>\n",
       "      <td>37863</td>\n",
       "      <td>TN</td>\n",
       "      <td>http://www.arbys.com,https://locations.arbys.c...</td>\n",
       "    </tr>\n",
       "    <tr>\n",
       "      <th>4</th>\n",
       "      <td>AWQ6MUvo3-Khe5l_j3SG</td>\n",
       "      <td>2018-06-26T02:59:43Z</td>\n",
       "      <td>2018-06-26T02:59:43Z</td>\n",
       "      <td>2118 Mt Zion Parkway</td>\n",
       "      <td>Fast Food Restaurant</td>\n",
       "      <td>Morrow</td>\n",
       "      <td>US</td>\n",
       "      <td>33.562738</td>\n",
       "      <td>-84.321143</td>\n",
       "      <td>Steak 'n Shake</td>\n",
       "      <td>30260</td>\n",
       "      <td>GA</td>\n",
       "      <td>http://www.steaknshake.com/locations/23851-ste...</td>\n",
       "    </tr>\n",
       "  </tbody>\n",
       "</table>\n",
       "</div>"
      ],
      "text/plain": [
       "                     id             dateAdded           dateUpdated  \\\n",
       "0  AVwcmSyZIN2L1WUfmxyw  2015-10-19T23:47:58Z  2018-06-26T03:00:14Z   \n",
       "1  AVwcmSyZIN2L1WUfmxyw  2015-10-19T23:47:58Z  2018-06-26T03:00:14Z   \n",
       "2  AVwcopQoByjofQCxgfVa  2016-03-29T05:06:36Z  2018-06-26T02:59:52Z   \n",
       "3  AVweXN5RByjofQCxxilK  2017-01-03T07:46:11Z  2018-06-26T02:59:51Z   \n",
       "4  AWQ6MUvo3-Khe5l_j3SG  2018-06-26T02:59:43Z  2018-06-26T02:59:43Z   \n",
       "\n",
       "                address                                    categories  \\\n",
       "0      800 N Canal Blvd  American Restaurant and Fast Food Restaurant   \n",
       "1      800 N Canal Blvd                         Fast Food Restaurants   \n",
       "2   206 Wears Valley Rd                          Fast Food Restaurant   \n",
       "3          3652 Parkway                                     Fast Food   \n",
       "4  2118 Mt Zion Parkway                          Fast Food Restaurant   \n",
       "\n",
       "           city country   latitude  longitude            name postalCode  \\\n",
       "0     Thibodaux      US  29.814697 -90.814742  SONIC Drive In      70301   \n",
       "1     Thibodaux      US  29.814697 -90.814742  SONIC Drive In      70301   \n",
       "2  Pigeon Forge      US  35.803788 -83.580553       Taco Bell      37863   \n",
       "3  Pigeon Forge      US  35.782339 -83.551408          Arby's      37863   \n",
       "4        Morrow      US  33.562738 -84.321143  Steak 'n Shake      30260   \n",
       "\n",
       "  province                                           websites  \n",
       "0       LA  https://locations.sonicdrivein.com/la/thibodau...  \n",
       "1       LA  https://locations.sonicdrivein.com/la/thibodau...  \n",
       "2       TN  http://www.tacobell.com,https://locations.taco...  \n",
       "3       TN  http://www.arbys.com,https://locations.arbys.c...  \n",
       "4       GA  http://www.steaknshake.com/locations/23851-ste...  "
      ]
     },
     "execution_count": 18,
     "metadata": {},
     "output_type": "execute_result"
    }
   ],
   "source": [
    "#Remove the keys and sourceURLs columns in dataset 1\n",
    "restaurant_list = restaurant_list.drop(columns=['keys','sourceURLs'])\n",
    "restaurant_list.head()"
   ]
  },
  {
   "cell_type": "markdown",
   "id": "9615228d",
   "metadata": {},
   "source": [
    "*To make a more accurate comparison and more easily visualize differences in restaurants based on the data that we have, we will only compare across the restaurants contained in all datasets* (as there would be no comparison to make on restaurants without data). We also need to consolidate names so that they all properly match."
   ]
  },
  {
   "cell_type": "code",
   "execution_count": 19,
   "id": "4204da47",
   "metadata": {},
   "outputs": [
    {
     "data": {
      "text/plain": [
       "Taco Bell      115\n",
       "Subway          96\n",
       "Burger King     60\n",
       "Mcdonalds       57\n",
       "Arbys           55\n",
       "Sonic           53\n",
       "Dairy Queen     42\n",
       "Chick Fil-A     25\n",
       "Name: restaurant, dtype: int64"
      ]
     },
     "execution_count": 19,
     "metadata": {},
     "output_type": "execute_result"
    }
   ],
   "source": [
    "nutrition_others['restaurant'].value_counts()\n",
    "#in restaurant list:\n",
    "#Taco Bell is listed as \"Taco Bell\"\n",
    "#Subway is listed as \"SUBWAY\"\n",
    "#Burger King is listed as \"Burger King\"\n",
    "#Mcdonalds is listed as \"McDonald's\"\n",
    "#Arbys is listed as \"Arby's\"\n",
    "#Sonic is listed as \"Sonic Drive In\" and \"SONIC Drive In\"\n",
    "#Dairy Queen is listed as \"Dairy Queen\"\n",
    "#Chick Fil-A is listed as \"Chick-Fil-A\""
   ]
  },
  {
   "cell_type": "code",
   "execution_count": 20,
   "id": "1c472939",
   "metadata": {},
   "outputs": [
    {
     "data": {
      "text/plain": [
       "Mcdonalds                         1902\n",
       "Taco Bell                         1032\n",
       "Burger King                        833\n",
       "Subway                             833\n",
       "Arbys                              666\n",
       "                                  ... \n",
       "Tony Wang's Chinese Restaurant       1\n",
       "Arthur Treacher's Fish & Chips       1\n",
       "Bistro To Go                         1\n",
       "Abruzzi Pizza                        1\n",
       "Stoko's                              1\n",
       "Name: name, Length: 566, dtype: int64"
      ]
     },
     "execution_count": 20,
     "metadata": {},
     "output_type": "execute_result"
    }
   ],
   "source": [
    "restaurant_list.name = restaurant_list.name.replace({\"SUBWAY\": \"Subway\", \n",
    "                                                     \"McDonald's\": \"Mcdonalds\",\n",
    "                                                    \"Arby's\": \"Arbys\",\n",
    "                                                    \"SONIC Drive In\": \"Sonic\",\n",
    "                                                    \"Sonic Drive In\": \"Sonic\",\n",
    "                                                    \"Chick-Fil-A\": \"Chick Fil-A\"})\n",
    "\n",
    "restaurant_list['name'].value_counts() #check to make sure we actually replaced them"
   ]
  },
  {
   "cell_type": "code",
   "execution_count": 21,
   "id": "aaf5a75e",
   "metadata": {},
   "outputs": [
    {
     "data": {
      "text/plain": [
       "Mc Donalds     325\n",
       "Burger King    174\n",
       "Name: Chain, dtype: int64"
      ]
     },
     "execution_count": 21,
     "metadata": {},
     "output_type": "execute_result"
    }
   ],
   "source": [
    "#The second dataset also contains Mcdonalds and Burger King labeled differently, which need to be reconciled\n",
    "nutrition_mcd_bk[\"Chain\"].value_counts()"
   ]
  },
  {
   "cell_type": "code",
   "execution_count": 22,
   "id": "a0c8dc3b",
   "metadata": {},
   "outputs": [
    {
     "data": {
      "text/plain": [
       "Mcdonalds      325\n",
       "Burger King    174\n",
       "Name: Chain, dtype: int64"
      ]
     },
     "execution_count": 22,
     "metadata": {},
     "output_type": "execute_result"
    }
   ],
   "source": [
    "nutrition_mcd_bk.Chain = nutrition_mcd_bk.Chain.replace({\"Mc Donalds\": \"Mcdonalds\"})\n",
    "nutrition_mcd_bk['Chain'].value_counts()"
   ]
  },
  {
   "cell_type": "code",
   "execution_count": 23,
   "id": "9edc3904",
   "metadata": {},
   "outputs": [
    {
     "data": {
      "text/plain": [
       "Mcdonalds      1902\n",
       "Taco Bell      1032\n",
       "Burger King     833\n",
       "Subway          833\n",
       "Arbys           666\n",
       "Dairy Queen     218\n",
       "Sonic           147\n",
       "Chick Fil-A      22\n",
       "Name: name, dtype: int64"
      ]
     },
     "execution_count": 23,
     "metadata": {},
     "output_type": "execute_result"
    }
   ],
   "source": [
    "#Consolidate data so that it can be merged, for later\n",
    "#Remove \"extra\" restaurants from the datafininity datasets\n",
    "restaurant_list_small = restaurant_list[restaurant_list.name.isin(['Taco Bell', 'Subway', 'Burger King',\n",
    "                                                            'Mcdonalds', 'Arbys', 'Sonic',\n",
    "                                                            'Dairy Queen', 'Chick Fil-A'])]\n",
    "\n",
    "restaurant_list_small['name'].value_counts()"
   ]
  },
  {
   "cell_type": "markdown",
   "id": "7d781358",
   "metadata": {
    "tags": []
   },
   "source": [
    "### Part 3 - Data Description\n",
    "\n",
    "- Create a data description (data dictionary) for your data sets.\n",
    "    - Describe each variable\n",
    "    - If categorical, what levels are present? If the levels are encoded, what do the codes mean?\n",
    "    - If numeric, provide min, max, median and any other univariate stats you'd like to add in. \n",
    "- Where appropriate, provide histograms or other visualizations to characterize each variable. "
   ]
  },
  {
   "cell_type": "code",
   "execution_count": 24,
   "id": "69a94c4d",
   "metadata": {},
   "outputs": [],
   "source": [
    "#Attached schema for each variable:\n",
    "\n",
    "#Dataset 1: https://developer.datafiniti.co/docs/business-data-schema\n",
    "#Dataset 2: None present with database.\n",
    "#Dataset 3: https://www.openintro.org/data/index.php?data=fastfood"
   ]
  },
  {
   "cell_type": "markdown",
   "id": "80789336",
   "metadata": {},
   "source": [
    "**Dataset 1: Restaurant List:**"
   ]
  },
  {
   "cell_type": "markdown",
   "id": "f7446f2e",
   "metadata": {},
   "source": [
    "*Categorical Variables:*\n",
    "\n",
    "- id: The unique identification of each row in the table (as the only other way to identify each row uniquely is a combination of other traits (such as address + name)\n",
    "- dateAdded/dateUpdated: These variables show the date that the restaurant was first added/updated to the dataset.\n",
    "- address: The address of the listed restaurant.\n",
    "- categories: The list of keywords that are associated with the restaurant- for instance, if it is a seafood restaurant.\n",
    "- city: The city that the restaurant is in.\n",
    "- country: The country that the restaurant is in.\n",
    "- name: The name of the listed restaurant.\n",
    "- postalCode: The postal code associated with the restaurant's location.\n",
    "- province: The province or state for the restaurant.\n",
    "- websites: The restaurant's website (if it has one).\n",
    "\n",
    "*Numerical Variables:*\n",
    "\n",
    "- latitude/longitude: The latitude and longitude coordinate types for the given business (where it is located)."
   ]
  },
  {
   "cell_type": "markdown",
   "id": "90d6715c",
   "metadata": {},
   "source": [
    "Many of these variables are related to each other- ie: an address will most likely be unique and be related to the city/postal Code/province."
   ]
  },
  {
   "cell_type": "code",
   "execution_count": 25,
   "id": "49c007da",
   "metadata": {},
   "outputs": [
    {
     "name": "stdout",
     "output_type": "stream",
     "text": [
      "Earliest date:  2014-01-03T03:29:05Z\n",
      "Latest date:  2018-06-26T02:59:43Z\n"
     ]
    }
   ],
   "source": [
    "#The times that dates were added\n",
    "print(\"Earliest date: \", restaurant_list['dateAdded'].min())\n",
    "print(\"Latest date: \", restaurant_list['dateAdded'].max())"
   ]
  },
  {
   "cell_type": "markdown",
   "id": "e17865f8",
   "metadata": {},
   "source": [
    "We now know this data spans across four years. Can we do anything with that? Perhaps different years mean different trends? This would require more datasets to analyze, however, as the datasets with menus we are given do not also have a time constraint."
   ]
  },
  {
   "cell_type": "code",
   "execution_count": 26,
   "id": "66ae3181",
   "metadata": {},
   "outputs": [
    {
     "data": {
      "text/plain": [
       "Text(0, 0.5, 'Number of Restaurants')"
      ]
     },
     "execution_count": 26,
     "metadata": {},
     "output_type": "execute_result"
    },
    {
     "data": {
      "image/png": "[encoded data removed]",
      "text/plain": [
       "<Figure size 432x288 with 1 Axes>"
      ]
     },
     "metadata": {
      "needs_background": "light"
     },
     "output_type": "display_data"
    }
   ],
   "source": [
    "restaurant_list_small['country'].value_counts().plot(kind='bar');\n",
    "plt.xlabel(\"Country\")\n",
    "plt.title(\"Restaurants by Country\")\n",
    "plt.ylabel(\"Number of Restaurants\")"
   ]
  },
  {
   "cell_type": "code",
   "execution_count": 27,
   "id": "f46c6f4f",
   "metadata": {},
   "outputs": [
    {
     "data": {
      "image/png": "[encoded data removed]",
      "text/plain": [
       "<Figure size 432x288 with 1 Axes>"
      ]
     },
     "metadata": {
      "needs_background": "light"
     },
     "output_type": "display_data"
    }
   ],
   "source": [
    "restaurant_list_small['city'].value_counts().plot(kind='bar');"
   ]
  },
  {
   "cell_type": "code",
   "execution_count": 28,
   "id": "39b3c2a3",
   "metadata": {},
   "outputs": [
    {
     "data": {
      "text/plain": [
       "Houston          45\n",
       "Columbus         43\n",
       "Orlando          41\n",
       "Miami            40\n",
       "Phoenix          39\n",
       "Las Vegas        35\n",
       "Louisville       29\n",
       "Minneapolis      28\n",
       "Los Angeles      28\n",
       "Dallas           27\n",
       "San Antonio      27\n",
       "Denver           27\n",
       "Glendale         25\n",
       "Tucson           25\n",
       "Springfield      24\n",
       "Columbia         24\n",
       "Oklahoma City    24\n",
       "Chicago          23\n",
       "Indianapolis     20\n",
       "Lexington        20\n",
       "Name: city, dtype: int64"
      ]
     },
     "execution_count": 28,
     "metadata": {},
     "output_type": "execute_result"
    }
   ],
   "source": [
    "#Top 20 cities in a more readable format\n",
    "restaurant_list_small['city'].value_counts().head(20)"
   ]
  },
  {
   "cell_type": "code",
   "execution_count": 29,
   "id": "b9c03672",
   "metadata": {},
   "outputs": [
    {
     "data": {
      "text/plain": [
       "name       province\n",
       "Arbys      OH          52\n",
       "           IN          48\n",
       "           FL          47\n",
       "           MI          43\n",
       "           VA          37\n",
       "                       ..\n",
       "Taco Bell  ID           2\n",
       "           SD           2\n",
       "           HI           1\n",
       "           VT           1\n",
       "           WY           1\n",
       "Name: province, Length: 314, dtype: int64"
      ]
     },
     "execution_count": 29,
     "metadata": {},
     "output_type": "execute_result"
    }
   ],
   "source": [
    "restaurant_list_small.groupby('name').province.value_counts()"
   ]
  },
  {
   "cell_type": "markdown",
   "id": "573c75f1",
   "metadata": {},
   "source": [
    "Every single country in this dataset is in the United States, and plotting by city or state is far too cluttered, visually. The number of restaurants is spread roughly equally throughout the United States, as all of them are fast food chains with businesses everywhere. This makes it hard to determine a \"healthier\" state or city based on this information. \n",
    "\n",
    "It is, however, still possible to ascertain which of these *restaurants* is the most healthy from this data."
   ]
  },
  {
   "cell_type": "code",
   "execution_count": null,
   "id": "4c41246b",
   "metadata": {},
   "outputs": [],
   "source": []
  },
  {
   "cell_type": "markdown",
   "id": "14195d74",
   "metadata": {},
   "source": [
    "**Dataset 2: Fast Food Chains- Nutritional Values**"
   ]
  },
  {
   "cell_type": "markdown",
   "id": "415e8196",
   "metadata": {},
   "source": [
    "*Categorical Variables:*\n",
    "\n",
    "- Chain: The type of restaurant the food item comes from- either \"Mcdonalds\" or \"Burger King\"\n",
    "- Item: The dish or menu item. Since these are all unique, this serves as an \"id\" for each row.\n",
    "- Type: The type of dish, grouped into categories- such as Desserts, Breakfasts, or Burgers).\n",
    "\n",
    "*Numerical Variables:*\n",
    "\n",
    "- Calories: The number of calories contained in one serving size of that particular dish/item.\n",
    "- Calories from Fat: The number of calories from fat contained in one serving size of that particular dish/item.\n",
    "- Total Fat: The total grams of fat (saturated and trans) contained in one serving size of that particular dish/item.\n",
    "- Saturated Fat: The total grams of saturated fat contained in one serving size of that particular dish/item.\n",
    "- Trans Fat: The total grams of trans fat contained in one serving size of that particular dish/item.\n",
    "- Chol: The total *milli*grams of cholesterol contained in one serving size of that particular dish/item.\n",
    "- Sodium: The total *milli*grams of fat contained in one serving size of that particular dish/item.\n",
    "- Total Carbs: The total grams of carbohydrates contained in one serving size of that particular dish/item.\n",
    "- Dietary Fiber: The total grams of fiber contained in one serving size of that particular dish/item.\n",
    "- Total Sugar: The total grams of sugar contained in one serving size of that particular dish/item.\n",
    "- Protein: The total grams of protein contained in one serving size of that particular dish/item."
   ]
  },
  {
   "cell_type": "markdown",
   "id": "a7a2da72",
   "metadata": {},
   "source": [
    "What *types* of food is served between these two franchises? There exists a \"type\" category that will be very useful in evaulating the \"healthiness\" of each fast-food restaurant. Since all of the restaurants we will be comparing are all \"fast-food\", they should logically have similar enough menu compositions that deviations from this type will help forward that overall classification."
   ]
  },
  {
   "cell_type": "code",
   "execution_count": 30,
   "id": "55204943",
   "metadata": {},
   "outputs": [
    {
     "data": {
      "text/plain": [
       "Text(0, 0.5, 'Number of Menu Items')"
      ]
     },
     "execution_count": 30,
     "metadata": {},
     "output_type": "execute_result"
    },
    {
     "data": {
      "image/png": "[encoded data removed]",
      "text/plain": [
       "<Figure size 432x288 with 1 Axes>"
      ]
     },
     "metadata": {
      "needs_background": "light"
     },
     "output_type": "display_data"
    }
   ],
   "source": [
    "nutrition_mcd_bk['Chain'].value_counts().plot(kind='bar');\n",
    "plt.xlabel(\"Franchise\")\n",
    "plt.title(\"Number of Recorded Menu Items for Mcdonalds and Burger King\")\n",
    "plt.ylabel(\"Number of Menu Items\")"
   ]
  },
  {
   "cell_type": "code",
   "execution_count": 31,
   "id": "4b1252d2",
   "metadata": {},
   "outputs": [
    {
     "data": {
      "text/plain": [
       "Text(0, 0.5, 'Number of Menu Items')"
      ]
     },
     "execution_count": 31,
     "metadata": {},
     "output_type": "execute_result"
    },
    {
     "data": {
      "image/png": "[encoded data removed]",
      "text/plain": [
       "<Figure size 432x288 with 1 Axes>"
      ]
     },
     "metadata": {
      "needs_background": "light"
     },
     "output_type": "display_data"
    }
   ],
   "source": [
    "nutrition_mcd_bk.groupby('Chain').Type.value_counts().plot(kind='bar', subplots=True);\n",
    "plt.xlabel(\"Type of Food\")\n",
    "plt.title(\"Different Types of Food Served\")\n",
    "plt.ylabel(\"Number of Menu Items\")"
   ]
  },
  {
   "cell_type": "code",
   "execution_count": 32,
   "id": "5543646a",
   "metadata": {},
   "outputs": [
    {
     "data": {
      "text/plain": [
       "Chain        Type                        \n",
       "Burger King  Soft Drinks                     42\n",
       "             Breakfast                       23\n",
       "             Chicken & More                  18\n",
       "             Salads & Sides                  15\n",
       "             Flame Broiled Burgers           14\n",
       "             Additional Options              10\n",
       "             Desserts                         9\n",
       "             Whopper Sandwiches               8\n",
       "             Frappes                          6\n",
       "             Hot Coffees                      6\n",
       "             Iced Coffees                     6\n",
       "             Shakes/Smoothies                 6\n",
       "             King Jr Meals - Entrees          5\n",
       "             King Jr Meals - Beverages        3\n",
       "             King Jr Meals - Desserts         2\n",
       "             King Jr Meals - Sides            1\n",
       "Mcdonalds    McCafe Coffees - Nonfat Milk    58\n",
       "             McCafe Coffees - Whole Milk     58\n",
       "             Beverages                       56\n",
       "             Desserts/Shakes                 40\n",
       "             Sandwiches                      34\n",
       "             Breakfast                       32\n",
       "             Chicken & Sauce                 13\n",
       "             Salads                          12\n",
       "             McCafe Frappes                   6\n",
       "             McCafe Smoothies                 6\n",
       "             French Fries                     5\n",
       "             Salad Dressings                  5\n",
       "Name: Type, dtype: int64"
      ]
     },
     "execution_count": 32,
     "metadata": {},
     "output_type": "execute_result"
    }
   ],
   "source": [
    "nutrition_mcd_bk.groupby('Chain')['Type'].value_counts()"
   ]
  },
  {
   "cell_type": "markdown",
   "id": "8348764c",
   "metadata": {},
   "source": [
    "There are several avenues of similar categories to pursue, here- such as Soft Drinks/Beverages (many times, there is a debacle over the healthiness of soft drinks in just about every fast food market around), breakfasts, chicken-based items, and desserts. It will be possible to further compare these two restaurants using this variable, later."
   ]
  },
  {
   "cell_type": "code",
   "execution_count": 33,
   "id": "28b1b570",
   "metadata": {},
   "outputs": [
    {
     "ename": "KeyError",
     "evalue": "'Whopper Sandwiches'",
     "output_type": "error",
     "traceback": [
      "\u001b[1;31m---------------------------------------------------------------------------\u001b[0m",
      "\u001b[1;31mKeyError\u001b[0m                                  Traceback (most recent call last)",
      "\u001b[1;32m~\\Anaconda3\\lib\\site-packages\\pandas\\core\\indexes\\base.py\u001b[0m in \u001b[0;36mget_loc\u001b[1;34m(self, key, method, tolerance)\u001b[0m\n\u001b[0;32m   3360\u001b[0m             \u001b[1;32mtry\u001b[0m\u001b[1;33m:\u001b[0m\u001b[1;33m\u001b[0m\u001b[1;33m\u001b[0m\u001b[0m\n\u001b[1;32m-> 3361\u001b[1;33m                 \u001b[1;32mreturn\u001b[0m \u001b[0mself\u001b[0m\u001b[1;33m.\u001b[0m\u001b[0m_engine\u001b[0m\u001b[1;33m.\u001b[0m\u001b[0mget_loc\u001b[0m\u001b[1;33m(\u001b[0m\u001b[0mcasted_key\u001b[0m\u001b[1;33m)\u001b[0m\u001b[1;33m\u001b[0m\u001b[1;33m\u001b[0m\u001b[0m\n\u001b[0m\u001b[0;32m   3362\u001b[0m             \u001b[1;32mexcept\u001b[0m \u001b[0mKeyError\u001b[0m \u001b[1;32mas\u001b[0m \u001b[0merr\u001b[0m\u001b[1;33m:\u001b[0m\u001b[1;33m\u001b[0m\u001b[1;33m\u001b[0m\u001b[0m\n",
      "\u001b[1;32m~\\Anaconda3\\lib\\site-packages\\pandas\\_libs\\index.pyx\u001b[0m in \u001b[0;36mpandas._libs.index.IndexEngine.get_loc\u001b[1;34m()\u001b[0m\n",
      "\u001b[1;32mpandas\\_libs\\index_class_helper.pxi\u001b[0m in \u001b[0;36mpandas._libs.index.Int64Engine._check_type\u001b[1;34m()\u001b[0m\n",
      "\u001b[1;32mpandas\\_libs\\index_class_helper.pxi\u001b[0m in \u001b[0;36mpandas._libs.index.Int64Engine._check_type\u001b[1;34m()\u001b[0m\n",
      "\u001b[1;31mKeyError\u001b[0m: 'Whopper Sandwiches'",
      "\nThe above exception was the direct cause of the following exception:\n",
      "\u001b[1;31mKeyError\u001b[0m                                  Traceback (most recent call last)",
      "\u001b[1;32m~\\AppData\\Local\\Temp/ipykernel_8800/3488186799.py\u001b[0m in \u001b[0;36m<module>\u001b[1;34m\u001b[0m\n\u001b[0;32m      1\u001b[0m \u001b[1;32mfor\u001b[0m \u001b[0mcategory\u001b[0m \u001b[1;32min\u001b[0m \u001b[0mnutrition_mcd_bk\u001b[0m\u001b[1;33m[\u001b[0m\u001b[1;34m'Type'\u001b[0m\u001b[1;33m]\u001b[0m\u001b[1;33m.\u001b[0m\u001b[0mtolist\u001b[0m\u001b[1;33m(\u001b[0m\u001b[1;33m)\u001b[0m\u001b[1;33m:\u001b[0m\u001b[1;33m\u001b[0m\u001b[1;33m\u001b[0m\u001b[0m\n\u001b[1;32m----> 2\u001b[1;33m     \u001b[0mnutrition_mcd_bk\u001b[0m\u001b[1;33m[\u001b[0m\u001b[1;34m'Type'\u001b[0m\u001b[1;33m]\u001b[0m\u001b[1;33m[\u001b[0m\u001b[0mcategory\u001b[0m\u001b[1;33m]\u001b[0m\u001b[1;33m.\u001b[0m\u001b[0mplot\u001b[0m\u001b[1;33m(\u001b[0m\u001b[0mkind\u001b[0m\u001b[1;33m=\u001b[0m\u001b[1;34m'bar'\u001b[0m\u001b[1;33m,\u001b[0m \u001b[0msubplots\u001b[0m\u001b[1;33m=\u001b[0m\u001b[1;32mTrue\u001b[0m\u001b[1;33m)\u001b[0m\u001b[1;33m;\u001b[0m\u001b[1;33m\u001b[0m\u001b[1;33m\u001b[0m\u001b[0m\n\u001b[0m",
      "\u001b[1;32m~\\Anaconda3\\lib\\site-packages\\pandas\\core\\series.py\u001b[0m in \u001b[0;36m__getitem__\u001b[1;34m(self, key)\u001b[0m\n\u001b[0;32m    940\u001b[0m \u001b[1;33m\u001b[0m\u001b[0m\n\u001b[0;32m    941\u001b[0m         \u001b[1;32melif\u001b[0m \u001b[0mkey_is_scalar\u001b[0m\u001b[1;33m:\u001b[0m\u001b[1;33m\u001b[0m\u001b[1;33m\u001b[0m\u001b[0m\n\u001b[1;32m--> 942\u001b[1;33m             \u001b[1;32mreturn\u001b[0m \u001b[0mself\u001b[0m\u001b[1;33m.\u001b[0m\u001b[0m_get_value\u001b[0m\u001b[1;33m(\u001b[0m\u001b[0mkey\u001b[0m\u001b[1;33m)\u001b[0m\u001b[1;33m\u001b[0m\u001b[1;33m\u001b[0m\u001b[0m\n\u001b[0m\u001b[0;32m    943\u001b[0m \u001b[1;33m\u001b[0m\u001b[0m\n\u001b[0;32m    944\u001b[0m         \u001b[1;32mif\u001b[0m \u001b[0mis_hashable\u001b[0m\u001b[1;33m(\u001b[0m\u001b[0mkey\u001b[0m\u001b[1;33m)\u001b[0m\u001b[1;33m:\u001b[0m\u001b[1;33m\u001b[0m\u001b[1;33m\u001b[0m\u001b[0m\n",
      "\u001b[1;32m~\\Anaconda3\\lib\\site-packages\\pandas\\core\\series.py\u001b[0m in \u001b[0;36m_get_value\u001b[1;34m(self, label, takeable)\u001b[0m\n\u001b[0;32m   1049\u001b[0m \u001b[1;33m\u001b[0m\u001b[0m\n\u001b[0;32m   1050\u001b[0m         \u001b[1;31m# Similar to Index.get_value, but we do not fall back to positional\u001b[0m\u001b[1;33m\u001b[0m\u001b[1;33m\u001b[0m\u001b[1;33m\u001b[0m\u001b[0m\n\u001b[1;32m-> 1051\u001b[1;33m         \u001b[0mloc\u001b[0m \u001b[1;33m=\u001b[0m \u001b[0mself\u001b[0m\u001b[1;33m.\u001b[0m\u001b[0mindex\u001b[0m\u001b[1;33m.\u001b[0m\u001b[0mget_loc\u001b[0m\u001b[1;33m(\u001b[0m\u001b[0mlabel\u001b[0m\u001b[1;33m)\u001b[0m\u001b[1;33m\u001b[0m\u001b[1;33m\u001b[0m\u001b[0m\n\u001b[0m\u001b[0;32m   1052\u001b[0m         \u001b[1;32mreturn\u001b[0m \u001b[0mself\u001b[0m\u001b[1;33m.\u001b[0m\u001b[0mindex\u001b[0m\u001b[1;33m.\u001b[0m\u001b[0m_get_values_for_loc\u001b[0m\u001b[1;33m(\u001b[0m\u001b[0mself\u001b[0m\u001b[1;33m,\u001b[0m \u001b[0mloc\u001b[0m\u001b[1;33m,\u001b[0m \u001b[0mlabel\u001b[0m\u001b[1;33m)\u001b[0m\u001b[1;33m\u001b[0m\u001b[1;33m\u001b[0m\u001b[0m\n\u001b[0;32m   1053\u001b[0m \u001b[1;33m\u001b[0m\u001b[0m\n",
      "\u001b[1;32m~\\Anaconda3\\lib\\site-packages\\pandas\\core\\indexes\\base.py\u001b[0m in \u001b[0;36mget_loc\u001b[1;34m(self, key, method, tolerance)\u001b[0m\n\u001b[0;32m   3361\u001b[0m                 \u001b[1;32mreturn\u001b[0m \u001b[0mself\u001b[0m\u001b[1;33m.\u001b[0m\u001b[0m_engine\u001b[0m\u001b[1;33m.\u001b[0m\u001b[0mget_loc\u001b[0m\u001b[1;33m(\u001b[0m\u001b[0mcasted_key\u001b[0m\u001b[1;33m)\u001b[0m\u001b[1;33m\u001b[0m\u001b[1;33m\u001b[0m\u001b[0m\n\u001b[0;32m   3362\u001b[0m             \u001b[1;32mexcept\u001b[0m \u001b[0mKeyError\u001b[0m \u001b[1;32mas\u001b[0m \u001b[0merr\u001b[0m\u001b[1;33m:\u001b[0m\u001b[1;33m\u001b[0m\u001b[1;33m\u001b[0m\u001b[0m\n\u001b[1;32m-> 3363\u001b[1;33m                 \u001b[1;32mraise\u001b[0m \u001b[0mKeyError\u001b[0m\u001b[1;33m(\u001b[0m\u001b[0mkey\u001b[0m\u001b[1;33m)\u001b[0m \u001b[1;32mfrom\u001b[0m \u001b[0merr\u001b[0m\u001b[1;33m\u001b[0m\u001b[1;33m\u001b[0m\u001b[0m\n\u001b[0m\u001b[0;32m   3364\u001b[0m \u001b[1;33m\u001b[0m\u001b[0m\n\u001b[0;32m   3365\u001b[0m         \u001b[1;32mif\u001b[0m \u001b[0mis_scalar\u001b[0m\u001b[1;33m(\u001b[0m\u001b[0mkey\u001b[0m\u001b[1;33m)\u001b[0m \u001b[1;32mand\u001b[0m \u001b[0misna\u001b[0m\u001b[1;33m(\u001b[0m\u001b[0mkey\u001b[0m\u001b[1;33m)\u001b[0m \u001b[1;32mand\u001b[0m \u001b[1;32mnot\u001b[0m \u001b[0mself\u001b[0m\u001b[1;33m.\u001b[0m\u001b[0mhasnans\u001b[0m\u001b[1;33m:\u001b[0m\u001b[1;33m\u001b[0m\u001b[1;33m\u001b[0m\u001b[0m\n",
      "\u001b[1;31mKeyError\u001b[0m: 'Whopper Sandwiches'"
     ]
    }
   ],
   "source": [
    "for category in nutrition_mcd_bk['Type'].tolist():\n",
    "    nutrition_mcd_bk['Type'][category].plot(kind='bar', subplots=True);"
   ]
  },
  {
   "cell_type": "code",
   "execution_count": 34,
   "id": "87e2b8a4",
   "metadata": {},
   "outputs": [
    {
     "data": {
      "text/html": [
       "<div>\n",
       "<style scoped>\n",
       "    .dataframe tbody tr th:only-of-type {\n",
       "        vertical-align: middle;\n",
       "    }\n",
       "\n",
       "    .dataframe tbody tr th {\n",
       "        vertical-align: top;\n",
       "    }\n",
       "\n",
       "    .dataframe thead tr th {\n",
       "        text-align: left;\n",
       "    }\n",
       "\n",
       "    .dataframe thead tr:last-of-type th {\n",
       "        text-align: right;\n",
       "    }\n",
       "</style>\n",
       "<table border=\"1\" class=\"dataframe\">\n",
       "  <thead>\n",
       "    <tr>\n",
       "      <th></th>\n",
       "      <th colspan=\"4\" halign=\"left\">Item</th>\n",
       "      <th colspan=\"4\" halign=\"left\">Type</th>\n",
       "      <th colspan=\"2\" halign=\"left\">Calories</th>\n",
       "      <th>...</th>\n",
       "      <th colspan=\"2\" halign=\"left\">Dietary Fiber</th>\n",
       "      <th colspan=\"4\" halign=\"left\">Total Sugar</th>\n",
       "      <th colspan=\"4\" halign=\"left\">Protein</th>\n",
       "    </tr>\n",
       "    <tr>\n",
       "      <th></th>\n",
       "      <th>count</th>\n",
       "      <th>unique</th>\n",
       "      <th>top</th>\n",
       "      <th>freq</th>\n",
       "      <th>count</th>\n",
       "      <th>unique</th>\n",
       "      <th>top</th>\n",
       "      <th>freq</th>\n",
       "      <th>count</th>\n",
       "      <th>unique</th>\n",
       "      <th>...</th>\n",
       "      <th>top</th>\n",
       "      <th>freq</th>\n",
       "      <th>count</th>\n",
       "      <th>unique</th>\n",
       "      <th>top</th>\n",
       "      <th>freq</th>\n",
       "      <th>count</th>\n",
       "      <th>unique</th>\n",
       "      <th>top</th>\n",
       "      <th>freq</th>\n",
       "    </tr>\n",
       "    <tr>\n",
       "      <th>Chain</th>\n",
       "      <th></th>\n",
       "      <th></th>\n",
       "      <th></th>\n",
       "      <th></th>\n",
       "      <th></th>\n",
       "      <th></th>\n",
       "      <th></th>\n",
       "      <th></th>\n",
       "      <th></th>\n",
       "      <th></th>\n",
       "      <th></th>\n",
       "      <th></th>\n",
       "      <th></th>\n",
       "      <th></th>\n",
       "      <th></th>\n",
       "      <th></th>\n",
       "      <th></th>\n",
       "      <th></th>\n",
       "      <th></th>\n",
       "      <th></th>\n",
       "      <th></th>\n",
       "    </tr>\n",
       "  </thead>\n",
       "  <tbody>\n",
       "    <tr>\n",
       "      <th>Burger King</th>\n",
       "      <td>174</td>\n",
       "      <td>169</td>\n",
       "      <td>Soft Serve Cone</td>\n",
       "      <td>2</td>\n",
       "      <td>174</td>\n",
       "      <td>16</td>\n",
       "      <td>Soft Drinks</td>\n",
       "      <td>42</td>\n",
       "      <td>174</td>\n",
       "      <td>67</td>\n",
       "      <td>...</td>\n",
       "      <td>0</td>\n",
       "      <td>77</td>\n",
       "      <td>174</td>\n",
       "      <td>66</td>\n",
       "      <td>0</td>\n",
       "      <td>30</td>\n",
       "      <td>174</td>\n",
       "      <td>39</td>\n",
       "      <td>0</td>\n",
       "      <td>60</td>\n",
       "    </tr>\n",
       "    <tr>\n",
       "      <th>Mcdonalds</th>\n",
       "      <td>325</td>\n",
       "      <td>325</td>\n",
       "      <td>Hamburger</td>\n",
       "      <td>1</td>\n",
       "      <td>325</td>\n",
       "      <td>12</td>\n",
       "      <td>McCafe Coffees - Nonfat Milk</td>\n",
       "      <td>58</td>\n",
       "      <td>325</td>\n",
       "      <td>76</td>\n",
       "      <td>...</td>\n",
       "      <td>0</td>\n",
       "      <td>211</td>\n",
       "      <td>325</td>\n",
       "      <td>82</td>\n",
       "      <td>0</td>\n",
       "      <td>26</td>\n",
       "      <td>325</td>\n",
       "      <td>39</td>\n",
       "      <td>0</td>\n",
       "      <td>49</td>\n",
       "    </tr>\n",
       "  </tbody>\n",
       "</table>\n",
       "<p>2 rows × 52 columns</p>\n",
       "</div>"
      ],
      "text/plain": [
       "             Item                               Type         \\\n",
       "            count unique              top freq count unique   \n",
       "Chain                                                         \n",
       "Burger King   174    169  Soft Serve Cone    2   174     16   \n",
       "Mcdonalds     325    325        Hamburger    1   325     12   \n",
       "\n",
       "                                               Calories         ...  \\\n",
       "                                      top freq    count unique  ...   \n",
       "Chain                                                           ...   \n",
       "Burger King                   Soft Drinks   42      174     67  ...   \n",
       "Mcdonalds    McCafe Coffees - Nonfat Milk   58      325     76  ...   \n",
       "\n",
       "            Dietary Fiber      Total Sugar                 Protein             \\\n",
       "                      top freq       count unique top freq   count unique top   \n",
       "Chain                                                                           \n",
       "Burger King             0   77         174     66   0   30     174     39   0   \n",
       "Mcdonalds               0  211         325     82   0   26     325     39   0   \n",
       "\n",
       "                  \n",
       "            freq  \n",
       "Chain             \n",
       "Burger King   60  \n",
       "Mcdonalds     49  \n",
       "\n",
       "[2 rows x 52 columns]"
      ]
     },
     "execution_count": 34,
     "metadata": {},
     "output_type": "execute_result"
    }
   ],
   "source": [
    "nutrition_mcd_bk.groupby('Chain').describe()"
   ]
  },
  {
   "cell_type": "markdown",
   "id": "55adfe34",
   "metadata": {},
   "source": [
    "**Dataset 3: Nutrition in fast food**"
   ]
  },
  {
   "cell_type": "markdown",
   "id": "7be46cfe",
   "metadata": {},
   "source": [
    "*Categorical Variables:*\n",
    "\n",
    "- Restaurant: The type of restaurant the food item comes from.\n",
    "- Item: The dish or menu item.\n",
    "\n",
    "*Numerical Variables:*\n",
    "\n",
    "- Calories: The number of calories contained in one serving size of that particular dish/item.\n",
    "- Cal_fat: The number of calories from fat contained in one serving size of that particular dish/item.\n",
    "- Total_fat: The total grams of fat (saturated and trans) contained in one serving size of that particular dish/item.\n",
    "- Sat_Fat: The total grams of saturated fat contained in one serving size of that particular dish/item.\n",
    "- Trans_Fat: The total grams of trans fat contained in one serving size of that particular dish/item.\n",
    "- Cholesterol: The total *milli*grams of cholesterol contained in one serving size of that particular dish/item.\n",
    "- Sodium: The total *milli*grams of fat contained in one serving size of that particular dish/item.\n",
    "- Total_carb: The total grams of carbohydrates contained in one serving size of that particular dish/item.\n",
    "- Fiber: The total grams of fiber contained in one serving size of that particular dish/item.\n",
    "- Sugar: The total grams of sugar contained in one serving size of that particular dish/item.\n",
    "- Protein: The total grams of protein contained in one serving size of that particular dish/item\n",
    "- Salad: Is it a salad or not? \n",
    "    - I do not personally believe this value is necessary for preparation- as the name/nutritional values are what we are comparing. However, a salad may be more likely to be healthy, so it is not entirely useless as a prediction variable."
   ]
  },
  {
   "cell_type": "markdown",
   "id": "331d0c47",
   "metadata": {},
   "source": [
    "As this dataset is similar to the second dataset, while expanding the number of restaurants augmented, it can be explored the same way. Note that, because this dataset does not include \"small\", \"medium\", and \"large\" sizes for various items (as the second dataset does), the number of items for Mcdonalds and Burger King is significantly less."
   ]
  },
  {
   "cell_type": "code",
   "execution_count": 35,
   "id": "9629159f",
   "metadata": {
    "scrolled": true
   },
   "outputs": [
    {
     "data": {
      "text/plain": [
       "Text(0, 0.5, 'Number of Menu Items')"
      ]
     },
     "execution_count": 35,
     "metadata": {},
     "output_type": "execute_result"
    },
    {
     "data": {
      "image/png": "[encoded data removed]",
      "text/plain": [
       "<Figure size 432x288 with 1 Axes>"
      ]
     },
     "metadata": {
      "needs_background": "light"
     },
     "output_type": "display_data"
    }
   ],
   "source": [
    "nutrition_others['restaurant'].value_counts().plot(kind='bar');\n",
    "plt.xlabel(\"Franchise\")\n",
    "plt.title(\"Number of Recorded Menu Items for Various Restaurants\")\n",
    "plt.ylabel(\"Number of Menu Items\")"
   ]
  },
  {
   "cell_type": "code",
   "execution_count": 36,
   "id": "d70e2b8d",
   "metadata": {},
   "outputs": [
    {
     "data": {
      "text/plain": [
       "Text(0, 0.5, 'Number of Salads')"
      ]
     },
     "execution_count": 36,
     "metadata": {},
     "output_type": "execute_result"
    },
    {
     "data": {
      "image/png": "[encoded data removed]",
      "text/plain": [
       "<Figure size 432x288 with 1 Axes>"
      ]
     },
     "metadata": {
      "needs_background": "light"
     },
     "output_type": "display_data"
    }
   ],
   "source": [
    "#There are no \"type\" variables, but there are \"salad options\"- which may be useful to look at\n",
    "nutrition_others.groupby('restaurant').salad.value_counts().plot(kind='bar');\n",
    "plt.xlabel(\"Franchise\")\n",
    "plt.title(\"Number of Salads for each Restaurant\")\n",
    "plt.ylabel(\"Number of Salads\")"
   ]
  },
  {
   "cell_type": "code",
   "execution_count": 37,
   "id": "e484532d",
   "metadata": {},
   "outputs": [
    {
     "data": {
      "text/html": [
       "<div>\n",
       "<style scoped>\n",
       "    .dataframe tbody tr th:only-of-type {\n",
       "        vertical-align: middle;\n",
       "    }\n",
       "\n",
       "    .dataframe tbody tr th {\n",
       "        vertical-align: top;\n",
       "    }\n",
       "\n",
       "    .dataframe thead tr th {\n",
       "        text-align: left;\n",
       "    }\n",
       "\n",
       "    .dataframe thead tr:last-of-type th {\n",
       "        text-align: right;\n",
       "    }\n",
       "</style>\n",
       "<table border=\"1\" class=\"dataframe\">\n",
       "  <thead>\n",
       "    <tr>\n",
       "      <th></th>\n",
       "      <th colspan=\"8\" halign=\"left\">calories</th>\n",
       "      <th colspan=\"2\" halign=\"left\">cal_fat</th>\n",
       "      <th>...</th>\n",
       "      <th colspan=\"2\" halign=\"left\">sugar</th>\n",
       "      <th colspan=\"8\" halign=\"left\">protein</th>\n",
       "    </tr>\n",
       "    <tr>\n",
       "      <th></th>\n",
       "      <th>count</th>\n",
       "      <th>mean</th>\n",
       "      <th>std</th>\n",
       "      <th>min</th>\n",
       "      <th>25%</th>\n",
       "      <th>50%</th>\n",
       "      <th>75%</th>\n",
       "      <th>max</th>\n",
       "      <th>count</th>\n",
       "      <th>mean</th>\n",
       "      <th>...</th>\n",
       "      <th>75%</th>\n",
       "      <th>max</th>\n",
       "      <th>count</th>\n",
       "      <th>mean</th>\n",
       "      <th>std</th>\n",
       "      <th>min</th>\n",
       "      <th>25%</th>\n",
       "      <th>50%</th>\n",
       "      <th>75%</th>\n",
       "      <th>max</th>\n",
       "    </tr>\n",
       "    <tr>\n",
       "      <th>restaurant</th>\n",
       "      <th></th>\n",
       "      <th></th>\n",
       "      <th></th>\n",
       "      <th></th>\n",
       "      <th></th>\n",
       "      <th></th>\n",
       "      <th></th>\n",
       "      <th></th>\n",
       "      <th></th>\n",
       "      <th></th>\n",
       "      <th></th>\n",
       "      <th></th>\n",
       "      <th></th>\n",
       "      <th></th>\n",
       "      <th></th>\n",
       "      <th></th>\n",
       "      <th></th>\n",
       "      <th></th>\n",
       "      <th></th>\n",
       "      <th></th>\n",
       "      <th></th>\n",
       "    </tr>\n",
       "  </thead>\n",
       "  <tbody>\n",
       "    <tr>\n",
       "      <th>Arbys</th>\n",
       "      <td>55.0</td>\n",
       "      <td>532.727273</td>\n",
       "      <td>210.338832</td>\n",
       "      <td>70.0</td>\n",
       "      <td>360.0</td>\n",
       "      <td>550.0</td>\n",
       "      <td>690.0</td>\n",
       "      <td>1030.0</td>\n",
       "      <td>55.0</td>\n",
       "      <td>237.836364</td>\n",
       "      <td>...</td>\n",
       "      <td>9.00</td>\n",
       "      <td>23.0</td>\n",
       "      <td>55.0</td>\n",
       "      <td>29.254545</td>\n",
       "      <td>12.386101</td>\n",
       "      <td>5.0</td>\n",
       "      <td>20.00</td>\n",
       "      <td>29.0</td>\n",
       "      <td>38.00</td>\n",
       "      <td>62.0</td>\n",
       "    </tr>\n",
       "    <tr>\n",
       "      <th>Burger King</th>\n",
       "      <td>60.0</td>\n",
       "      <td>576.000000</td>\n",
       "      <td>281.901533</td>\n",
       "      <td>190.0</td>\n",
       "      <td>337.5</td>\n",
       "      <td>530.0</td>\n",
       "      <td>730.0</td>\n",
       "      <td>1550.0</td>\n",
       "      <td>60.0</td>\n",
       "      <td>314.383333</td>\n",
       "      <td>...</td>\n",
       "      <td>10.00</td>\n",
       "      <td>37.0</td>\n",
       "      <td>60.0</td>\n",
       "      <td>29.333333</td>\n",
       "      <td>20.002260</td>\n",
       "      <td>5.0</td>\n",
       "      <td>15.75</td>\n",
       "      <td>27.0</td>\n",
       "      <td>35.25</td>\n",
       "      <td>134.0</td>\n",
       "    </tr>\n",
       "    <tr>\n",
       "      <th>Chick Fil-A</th>\n",
       "      <td>25.0</td>\n",
       "      <td>352.000000</td>\n",
       "      <td>193.541555</td>\n",
       "      <td>70.0</td>\n",
       "      <td>210.0</td>\n",
       "      <td>350.0</td>\n",
       "      <td>450.0</td>\n",
       "      <td>970.0</td>\n",
       "      <td>25.0</td>\n",
       "      <td>128.920000</td>\n",
       "      <td>...</td>\n",
       "      <td>6.00</td>\n",
       "      <td>12.0</td>\n",
       "      <td>25.0</td>\n",
       "      <td>30.760000</td>\n",
       "      <td>17.210171</td>\n",
       "      <td>11.0</td>\n",
       "      <td>22.00</td>\n",
       "      <td>29.0</td>\n",
       "      <td>34.00</td>\n",
       "      <td>103.0</td>\n",
       "    </tr>\n",
       "    <tr>\n",
       "      <th>Dairy Queen</th>\n",
       "      <td>42.0</td>\n",
       "      <td>520.238095</td>\n",
       "      <td>259.337694</td>\n",
       "      <td>20.0</td>\n",
       "      <td>350.0</td>\n",
       "      <td>485.0</td>\n",
       "      <td>630.0</td>\n",
       "      <td>1260.0</td>\n",
       "      <td>42.0</td>\n",
       "      <td>260.476190</td>\n",
       "      <td>...</td>\n",
       "      <td>8.75</td>\n",
       "      <td>30.0</td>\n",
       "      <td>42.0</td>\n",
       "      <td>24.833333</td>\n",
       "      <td>11.544013</td>\n",
       "      <td>1.0</td>\n",
       "      <td>17.00</td>\n",
       "      <td>23.0</td>\n",
       "      <td>34.00</td>\n",
       "      <td>49.0</td>\n",
       "    </tr>\n",
       "    <tr>\n",
       "      <th>Mcdonalds</th>\n",
       "      <td>57.0</td>\n",
       "      <td>640.350877</td>\n",
       "      <td>410.696120</td>\n",
       "      <td>140.0</td>\n",
       "      <td>380.0</td>\n",
       "      <td>540.0</td>\n",
       "      <td>740.0</td>\n",
       "      <td>2430.0</td>\n",
       "      <td>57.0</td>\n",
       "      <td>285.614035</td>\n",
       "      <td>...</td>\n",
       "      <td>13.00</td>\n",
       "      <td>87.0</td>\n",
       "      <td>57.0</td>\n",
       "      <td>40.298246</td>\n",
       "      <td>29.479390</td>\n",
       "      <td>7.0</td>\n",
       "      <td>25.00</td>\n",
       "      <td>33.0</td>\n",
       "      <td>46.00</td>\n",
       "      <td>186.0</td>\n",
       "    </tr>\n",
       "    <tr>\n",
       "      <th>Sonic</th>\n",
       "      <td>53.0</td>\n",
       "      <td>631.698113</td>\n",
       "      <td>300.881627</td>\n",
       "      <td>100.0</td>\n",
       "      <td>410.0</td>\n",
       "      <td>570.0</td>\n",
       "      <td>740.0</td>\n",
       "      <td>1350.0</td>\n",
       "      <td>53.0</td>\n",
       "      <td>338.301887</td>\n",
       "      <td>...</td>\n",
       "      <td>9.00</td>\n",
       "      <td>17.0</td>\n",
       "      <td>53.0</td>\n",
       "      <td>29.188679</td>\n",
       "      <td>14.532532</td>\n",
       "      <td>6.0</td>\n",
       "      <td>18.00</td>\n",
       "      <td>30.0</td>\n",
       "      <td>35.00</td>\n",
       "      <td>67.0</td>\n",
       "    </tr>\n",
       "    <tr>\n",
       "      <th>Subway</th>\n",
       "      <td>96.0</td>\n",
       "      <td>503.020833</td>\n",
       "      <td>282.220965</td>\n",
       "      <td>50.0</td>\n",
       "      <td>287.5</td>\n",
       "      <td>460.0</td>\n",
       "      <td>740.0</td>\n",
       "      <td>1160.0</td>\n",
       "      <td>96.0</td>\n",
       "      <td>165.104167</td>\n",
       "      <td>...</td>\n",
       "      <td>14.00</td>\n",
       "      <td>36.0</td>\n",
       "      <td>96.0</td>\n",
       "      <td>30.312500</td>\n",
       "      <td>16.144292</td>\n",
       "      <td>3.0</td>\n",
       "      <td>18.00</td>\n",
       "      <td>26.0</td>\n",
       "      <td>40.00</td>\n",
       "      <td>78.0</td>\n",
       "    </tr>\n",
       "    <tr>\n",
       "      <th>Taco Bell</th>\n",
       "      <td>115.0</td>\n",
       "      <td>443.652174</td>\n",
       "      <td>184.344883</td>\n",
       "      <td>140.0</td>\n",
       "      <td>320.0</td>\n",
       "      <td>420.0</td>\n",
       "      <td>575.0</td>\n",
       "      <td>880.0</td>\n",
       "      <td>115.0</td>\n",
       "      <td>188.000000</td>\n",
       "      <td>...</td>\n",
       "      <td>5.00</td>\n",
       "      <td>8.0</td>\n",
       "      <td>115.0</td>\n",
       "      <td>17.417391</td>\n",
       "      <td>7.135263</td>\n",
       "      <td>6.0</td>\n",
       "      <td>12.00</td>\n",
       "      <td>16.0</td>\n",
       "      <td>22.00</td>\n",
       "      <td>37.0</td>\n",
       "    </tr>\n",
       "  </tbody>\n",
       "</table>\n",
       "<p>8 rows × 88 columns</p>\n",
       "</div>"
      ],
      "text/plain": [
       "            calories                                                      \\\n",
       "               count        mean         std    min    25%    50%    75%   \n",
       "restaurant                                                                 \n",
       "Arbys           55.0  532.727273  210.338832   70.0  360.0  550.0  690.0   \n",
       "Burger King     60.0  576.000000  281.901533  190.0  337.5  530.0  730.0   \n",
       "Chick Fil-A     25.0  352.000000  193.541555   70.0  210.0  350.0  450.0   \n",
       "Dairy Queen     42.0  520.238095  259.337694   20.0  350.0  485.0  630.0   \n",
       "Mcdonalds       57.0  640.350877  410.696120  140.0  380.0  540.0  740.0   \n",
       "Sonic           53.0  631.698113  300.881627  100.0  410.0  570.0  740.0   \n",
       "Subway          96.0  503.020833  282.220965   50.0  287.5  460.0  740.0   \n",
       "Taco Bell      115.0  443.652174  184.344883  140.0  320.0  420.0  575.0   \n",
       "\n",
       "                    cal_fat              ...  sugar       protein             \\\n",
       "                max   count        mean  ...    75%   max   count       mean   \n",
       "restaurant                               ...                                   \n",
       "Arbys        1030.0    55.0  237.836364  ...   9.00  23.0    55.0  29.254545   \n",
       "Burger King  1550.0    60.0  314.383333  ...  10.00  37.0    60.0  29.333333   \n",
       "Chick Fil-A   970.0    25.0  128.920000  ...   6.00  12.0    25.0  30.760000   \n",
       "Dairy Queen  1260.0    42.0  260.476190  ...   8.75  30.0    42.0  24.833333   \n",
       "Mcdonalds    2430.0    57.0  285.614035  ...  13.00  87.0    57.0  40.298246   \n",
       "Sonic        1350.0    53.0  338.301887  ...   9.00  17.0    53.0  29.188679   \n",
       "Subway       1160.0    96.0  165.104167  ...  14.00  36.0    96.0  30.312500   \n",
       "Taco Bell     880.0   115.0  188.000000  ...   5.00   8.0   115.0  17.417391   \n",
       "\n",
       "                                                         \n",
       "                   std   min    25%   50%    75%    max  \n",
       "restaurant                                               \n",
       "Arbys        12.386101   5.0  20.00  29.0  38.00   62.0  \n",
       "Burger King  20.002260   5.0  15.75  27.0  35.25  134.0  \n",
       "Chick Fil-A  17.210171  11.0  22.00  29.0  34.00  103.0  \n",
       "Dairy Queen  11.544013   1.0  17.00  23.0  34.00   49.0  \n",
       "Mcdonalds    29.479390   7.0  25.00  33.0  46.00  186.0  \n",
       "Sonic        14.532532   6.0  18.00  30.0  35.00   67.0  \n",
       "Subway       16.144292   3.0  18.00  26.0  40.00   78.0  \n",
       "Taco Bell     7.135263   6.0  12.00  16.0  22.00   37.0  \n",
       "\n",
       "[8 rows x 88 columns]"
      ]
     },
     "execution_count": 37,
     "metadata": {},
     "output_type": "execute_result"
    }
   ],
   "source": [
    "nutrition_others.groupby('restaurant').describe()"
   ]
  },
  {
   "cell_type": "markdown",
   "id": "e7ee8a09",
   "metadata": {},
   "source": [
    "### Part 4 - Merge the data\n",
    "\n",
    "Now that you have a better feel for each of your two (or three, for the 7394 students) data sets, it is time to merge them. Describe your strategy for merging the data sets and then actually perform the merge.  \n",
    "\n",
    "**The datasets can be merged on the basis of restaurant- ie: if a food comes from a specific restaurant (based on either dataset 2 or 3), then it is merged with the appropriate row in dataset 1. For the purpose of this observation, this assumes that all copies of the same restaurant (ie: every single Mcdonalds) has the same menu and serves all of the required items."
   ]
  },
  {
   "cell_type": "markdown",
   "id": "362951dd",
   "metadata": {},
   "source": [
    "Develop a strategy for verifying that the data is properly merged (hoping and finger-crossing are not valid strategies). \n",
    "\n",
    "**Based on this given merge method/strategy, we can conclude the merge was successful if\n",
    "1. All foods in dataset 2 and 3 are able to be matched with a row in dataset 1 (every food must be served by a restaurant)\n",
    "2. All restaurants in dataset 1 that can serve foods, serve all of them (our previous graphs tell us how many items each restaurant serves, so each restaurant should have that many items).\n",
    "3. The total number of rows should be the same as each number of items for the number of restaurants that it is served in."
   ]
  },
  {
   "cell_type": "code",
   "execution_count": 38,
   "id": "c2644047",
   "metadata": {},
   "outputs": [],
   "source": [
    "restaurant_list_data = restaurant_list_small.copy(deep=True)\n",
    "nutrition_mcd_bk_data = nutrition_mcd_bk.copy(deep=True)\n",
    "nutrition_others_data = nutrition_others.copy(deep=True)"
   ]
  },
  {
   "cell_type": "code",
   "execution_count": 39,
   "id": "9fe06eee",
   "metadata": {},
   "outputs": [
    {
     "name": "stdout",
     "output_type": "stream",
     "text": [
      "<class 'pandas.core.frame.DataFrame'>\n",
      "Int64Index: 5653 entries, 0 to 9993\n",
      "Data columns (total 13 columns):\n",
      " #   Column       Non-Null Count  Dtype  \n",
      "---  ------       --------------  -----  \n",
      " 0   id           5653 non-null   object \n",
      " 1   dateAdded    5653 non-null   object \n",
      " 2   dateUpdated  5653 non-null   object \n",
      " 3   address      5653 non-null   object \n",
      " 4   categories   5653 non-null   object \n",
      " 5   city         5653 non-null   object \n",
      " 6   country      5653 non-null   object \n",
      " 7   latitude     5653 non-null   float64\n",
      " 8   longitude    5653 non-null   float64\n",
      " 9   name         5653 non-null   object \n",
      " 10  postalCode   5653 non-null   object \n",
      " 11  province     5653 non-null   object \n",
      " 12  websites     5653 non-null   object \n",
      "dtypes: float64(2), object(11)\n",
      "memory usage: 618.3+ KB\n"
     ]
    }
   ],
   "source": [
    "restaurant_list_data.info()"
   ]
  },
  {
   "cell_type": "code",
   "execution_count": 40,
   "id": "d9c021db",
   "metadata": {},
   "outputs": [
    {
     "name": "stdout",
     "output_type": "stream",
     "text": [
      "<class 'pandas.core.frame.DataFrame'>\n",
      "Int64Index: 499 entries, 1 to 499\n",
      "Data columns (total 14 columns):\n",
      " #   Column             Non-Null Count  Dtype \n",
      "---  ------             --------------  ----- \n",
      " 0   Chain              499 non-null    object\n",
      " 1   Item               499 non-null    object\n",
      " 2   Type               499 non-null    object\n",
      " 3   Calories           499 non-null    object\n",
      " 4   Calories from Fat  499 non-null    object\n",
      " 5   Total Fat          499 non-null    object\n",
      " 6   Saturated Fat      499 non-null    object\n",
      " 7   Trans Fat          499 non-null    object\n",
      " 8   Chol               499 non-null    object\n",
      " 9   Sodium             499 non-null    object\n",
      " 10  Total Carb         499 non-null    object\n",
      " 11  Dietary Fiber      499 non-null    object\n",
      " 12  Total Sugar        499 non-null    object\n",
      " 13  Protein            499 non-null    object\n",
      "dtypes: object(14)\n",
      "memory usage: 74.6+ KB\n"
     ]
    }
   ],
   "source": [
    "nutrition_mcd_bk_data.info()"
   ]
  },
  {
   "cell_type": "code",
   "execution_count": 41,
   "id": "9c5676cb",
   "metadata": {},
   "outputs": [
    {
     "name": "stdout",
     "output_type": "stream",
     "text": [
      "<class 'pandas.core.frame.DataFrame'>\n",
      "Int64Index: 503 entries, 0 to 514\n",
      "Data columns (total 14 columns):\n",
      " #   Column       Non-Null Count  Dtype  \n",
      "---  ------       --------------  -----  \n",
      " 0   restaurant   503 non-null    object \n",
      " 1   item         503 non-null    object \n",
      " 2   calories     503 non-null    int64  \n",
      " 3   cal_fat      503 non-null    int64  \n",
      " 4   total_fat    503 non-null    int64  \n",
      " 5   sat_fat      503 non-null    float64\n",
      " 6   trans_fat    503 non-null    float64\n",
      " 7   cholesterol  503 non-null    int64  \n",
      " 8   sodium       503 non-null    int64  \n",
      " 9   total_carb   503 non-null    int64  \n",
      " 10  fiber        503 non-null    float64\n",
      " 11  sugar        503 non-null    int64  \n",
      " 12  protein      503 non-null    float64\n",
      " 13  salad        503 non-null    object \n",
      "dtypes: float64(4), int64(7), object(3)\n",
      "memory usage: 58.9+ KB\n"
     ]
    }
   ],
   "source": [
    "nutrition_others_data.info()"
   ]
  },
  {
   "cell_type": "code",
   "execution_count": 42,
   "id": "8c16abb2",
   "metadata": {},
   "outputs": [
    {
     "name": "stdout",
     "output_type": "stream",
     "text": [
      "<class 'pandas.core.frame.DataFrame'>\n",
      "Int64Index: 503 entries, 0 to 514\n",
      "Data columns (total 14 columns):\n",
      " #   Column             Non-Null Count  Dtype  \n",
      "---  ------             --------------  -----  \n",
      " 0   Chain              503 non-null    object \n",
      " 1   Item               503 non-null    object \n",
      " 2   Calories           503 non-null    int64  \n",
      " 3   Calories from Fat  503 non-null    int64  \n",
      " 4   Total Fat          503 non-null    int64  \n",
      " 5   Saturated Fat      503 non-null    float64\n",
      " 6   Trans Fat          503 non-null    float64\n",
      " 7   Chol               503 non-null    int64  \n",
      " 8   Sodium             503 non-null    int64  \n",
      " 9   Total Carb         503 non-null    int64  \n",
      " 10  Dietary Fiber      503 non-null    float64\n",
      " 11  Total Sugar        503 non-null    int64  \n",
      " 12  Protein            503 non-null    float64\n",
      " 13  salad              503 non-null    object \n",
      "dtypes: float64(4), int64(7), object(3)\n",
      "memory usage: 58.9+ KB\n"
     ]
    }
   ],
   "source": [
    "#Step 1: Put the two nutritional-based rows together\n",
    "## To properly merge datasets, we need to rename rows between datasets 2 and 3 \n",
    "## (ie: Item = item, \n",
    "## Calories from Fat = cal_fat, etc)\n",
    "\n",
    "nutrition_others_data = nutrition_others_data.rename(columns = {\"restaurant\": \"Chain\", \"item\": 'Item', \"calories\": \"Calories\",\n",
    "                        \"cal_fat\": \"Calories from Fat\", \"total_fat\": \"Total Fat\",\n",
    "                        \"sat_fat\": \"Saturated Fat\", \"trans_fat\": \"Trans Fat\",\n",
    "                        \"cholesterol\": \"Chol\", \"sodium\": \"Sodium\", \"total_carb\": \"Total Carb\",\n",
    "                        \"fiber\": \"Dietary Fiber\", \"sugar\": \"Total Sugar\", \"protein\": \"Protein\"})\n",
    "nutrition_others_data.info()"
   ]
  },
  {
   "cell_type": "code",
   "execution_count": 43,
   "id": "8899d78c",
   "metadata": {},
   "outputs": [
    {
     "name": "stdout",
     "output_type": "stream",
     "text": [
      "<class 'pandas.core.frame.DataFrame'>\n",
      "Int64Index: 499 entries, 1 to 499\n",
      "Data columns (total 14 columns):\n",
      " #   Column             Non-Null Count  Dtype \n",
      "---  ------             --------------  ----- \n",
      " 0   Chain              499 non-null    object\n",
      " 1   Item               499 non-null    object\n",
      " 2   Type               499 non-null    object\n",
      " 3   Calories           499 non-null    int64 \n",
      " 4   Calories from Fat  499 non-null    int64 \n",
      " 5   Total Fat          499 non-null    object\n",
      " 6   Saturated Fat      499 non-null    object\n",
      " 7   Trans Fat          499 non-null    object\n",
      " 8   Chol               499 non-null    int64 \n",
      " 9   Sodium             499 non-null    int64 \n",
      " 10  Total Carb         499 non-null    int64 \n",
      " 11  Dietary Fiber      499 non-null    int64 \n",
      " 12  Total Sugar        499 non-null    int64 \n",
      " 13  Protein            499 non-null    int64 \n",
      "dtypes: int64(8), object(6)\n",
      "memory usage: 74.6+ KB\n"
     ]
    }
   ],
   "source": [
    "##We also need to convert objects representing numbers (ie: dataset 2's calories are an object)\n",
    "##into integers\n",
    "\n",
    "nutrition_mcd_bk_data[[\"Calories\", \"Calories from Fat\", \"Total Fat\", \"Saturated Fat\",\n",
    "                 \"Trans Fat\", \"Chol\", \"Sodium\", \"Total Carb\", \"Dietary Fiber\", \"Total Sugar\",\n",
    "                 \"Protein\"]] = nutrition_mcd_bk_data[[\"Calories\", \"Calories from Fat\", \"Total Fat\", \"Saturated Fat\",\n",
    "                 \"Trans Fat\", \"Chol\", \"Sodium\", \"Total Carb\", \"Dietary Fiber\", \"Total Sugar\",\n",
    "                 \"Protein\"]].apply(pd.to_numeric, errors='ignore')\n",
    "\n",
    "nutrition_mcd_bk_data.info()\n",
    "# nutrition_total = nutrition_mcd_bk_data.merge(nutrition_others_data)\n",
    "# nutrition_total.info()"
   ]
  },
  {
   "cell_type": "code",
   "execution_count": 44,
   "id": "1e556345",
   "metadata": {},
   "outputs": [],
   "source": [
    "# found = nutrition_mcd_bk_data[nutrition_mcd_bk_data[\"Total Fat\"].str.contains('2,5')]\n",
    "# print(found)\n",
    "#it becomes an object because someone entered '2,5' instead of '2.5'\n",
    "nutrition_mcd_bk_data[\"Total Fat\"] = nutrition_mcd_bk_data[\"Total Fat\"].str.replace(',', '.')"
   ]
  },
  {
   "cell_type": "code",
   "execution_count": 45,
   "id": "50dc983e",
   "metadata": {},
   "outputs": [
    {
     "name": "stdout",
     "output_type": "stream",
     "text": [
      "<class 'pandas.core.frame.DataFrame'>\n",
      "Int64Index: 499 entries, 1 to 499\n",
      "Data columns (total 14 columns):\n",
      " #   Column             Non-Null Count  Dtype  \n",
      "---  ------             --------------  -----  \n",
      " 0   Chain              499 non-null    object \n",
      " 1   Item               499 non-null    object \n",
      " 2   Type               499 non-null    object \n",
      " 3   Calories           499 non-null    int64  \n",
      " 4   Calories from Fat  499 non-null    int64  \n",
      " 5   Total Fat          499 non-null    float64\n",
      " 6   Saturated Fat      499 non-null    object \n",
      " 7   Trans Fat          499 non-null    object \n",
      " 8   Chol               499 non-null    int64  \n",
      " 9   Sodium             499 non-null    int64  \n",
      " 10  Total Carb         499 non-null    int64  \n",
      " 11  Dietary Fiber      499 non-null    float64\n",
      " 12  Total Sugar        499 non-null    int64  \n",
      " 13  Protein            499 non-null    float64\n",
      "dtypes: float64(3), int64(6), object(5)\n",
      "memory usage: 74.6+ KB\n"
     ]
    }
   ],
   "source": [
    "nutrition_mcd_bk_data = nutrition_mcd_bk_data.astype({\"Total Fat\": float, \n",
    "                                                      \"Dietary Fiber\": float,\n",
    "                                                     \"Protein\": float})\n",
    "nutrition_mcd_bk_data.info()"
   ]
  },
  {
   "cell_type": "code",
   "execution_count": 46,
   "id": "77e24de2",
   "metadata": {},
   "outputs": [
    {
     "name": "stdout",
     "output_type": "stream",
     "text": [
      "<class 'pandas.core.frame.DataFrame'>\n",
      "RangeIndex: 1002 entries, 0 to 1001\n",
      "Data columns (total 15 columns):\n",
      " #   Column             Non-Null Count  Dtype  \n",
      "---  ------             --------------  -----  \n",
      " 0   Chain              1002 non-null   object \n",
      " 1   Item               1002 non-null   object \n",
      " 2   Type               499 non-null    object \n",
      " 3   Calories           1002 non-null   int64  \n",
      " 4   Calories from Fat  1002 non-null   int64  \n",
      " 5   Total Fat          1002 non-null   float64\n",
      " 6   Saturated Fat      1002 non-null   object \n",
      " 7   Trans Fat          1002 non-null   object \n",
      " 8   Chol               1002 non-null   int64  \n",
      " 9   Sodium             1002 non-null   int64  \n",
      " 10  Total Carb         1002 non-null   int64  \n",
      " 11  Dietary Fiber      1002 non-null   float64\n",
      " 12  Total Sugar        1002 non-null   int64  \n",
      " 13  Protein            1002 non-null   float64\n",
      " 14  salad              503 non-null    object \n",
      "dtypes: float64(3), int64(6), object(6)\n",
      "memory usage: 117.5+ KB\n"
     ]
    }
   ],
   "source": [
    "nutrition_total = pd.concat([nutrition_mcd_bk_data, nutrition_others_data], ignore_index=True)\n",
    "nutrition_total.info()"
   ]
  },
  {
   "cell_type": "code",
   "execution_count": 47,
   "id": "b4d20024",
   "metadata": {},
   "outputs": [
    {
     "name": "stdout",
     "output_type": "stream",
     "text": [
      "<class 'pandas.core.frame.DataFrame'>\n",
      "Int64Index: 1174261 entries, 0 to 1174260\n",
      "Data columns (total 28 columns):\n",
      " #   Column             Non-Null Count    Dtype  \n",
      "---  ------             --------------    -----  \n",
      " 0   id                 1174261 non-null  object \n",
      " 1   dateAdded          1174261 non-null  object \n",
      " 2   dateUpdated        1174261 non-null  object \n",
      " 3   address            1174261 non-null  object \n",
      " 4   categories         1174261 non-null  object \n",
      " 5   city               1174261 non-null  object \n",
      " 6   country            1174261 non-null  object \n",
      " 7   latitude           1174261 non-null  float64\n",
      " 8   longitude          1174261 non-null  float64\n",
      " 9   name               1174261 non-null  object \n",
      " 10  postalCode         1174261 non-null  object \n",
      " 11  province           1174261 non-null  object \n",
      " 12  websites           1174261 non-null  object \n",
      " 13  Chain              1174261 non-null  object \n",
      " 14  Item               1174261 non-null  object \n",
      " 15  Type               763092 non-null   object \n",
      " 16  Calories           1174261 non-null  int64  \n",
      " 17  Calories from Fat  1174261 non-null  int64  \n",
      " 18  Total Fat          1174261 non-null  float64\n",
      " 19  Saturated Fat      1174261 non-null  object \n",
      " 20  Trans Fat          1174261 non-null  object \n",
      " 21  Chol               1174261 non-null  int64  \n",
      " 22  Sodium             1174261 non-null  int64  \n",
      " 23  Total Carb         1174261 non-null  int64  \n",
      " 24  Dietary Fiber      1174261 non-null  float64\n",
      " 25  Total Sugar        1174261 non-null  int64  \n",
      " 26  Protein            1174261 non-null  float64\n",
      " 27  salad              411169 non-null   object \n",
      "dtypes: float64(5), int64(6), object(17)\n",
      "memory usage: 259.8+ MB\n"
     ]
    }
   ],
   "source": [
    "full_dataset = restaurant_list_data.merge(nutrition_total, left_on='name', right_on='Chain')\n",
    "full_dataset.info()"
   ]
  },
  {
   "cell_type": "code",
   "execution_count": 48,
   "id": "1eef7c31",
   "metadata": {},
   "outputs": [
    {
     "name": "stdout",
     "output_type": "stream",
     "text": [
      "Number of Restaurants:\n"
     ]
    },
    {
     "data": {
      "text/plain": [
       "Mcdonalds      1902\n",
       "Taco Bell      1032\n",
       "Burger King     833\n",
       "Subway          833\n",
       "Arbys           666\n",
       "Dairy Queen     218\n",
       "Sonic           147\n",
       "Chick Fil-A      22\n",
       "Name: name, dtype: int64"
      ]
     },
     "execution_count": 48,
     "metadata": {},
     "output_type": "execute_result"
    }
   ],
   "source": [
    "print(\"Number of Restaurants:\")\n",
    "restaurant_list_data.name.value_counts()"
   ]
  },
  {
   "cell_type": "code",
   "execution_count": 49,
   "id": "6edb166d",
   "metadata": {},
   "outputs": [
    {
     "name": "stdout",
     "output_type": "stream",
     "text": [
      "Number of items per Restaurant:\n",
      "Chain\n",
      "Arbys           55\n",
      "Burger King    234\n",
      "Chick Fil-A     25\n",
      "Dairy Queen     42\n",
      "Mcdonalds      382\n",
      "Sonic           53\n",
      "Subway          96\n",
      "Taco Bell      115\n",
      "dtype: int64\n"
     ]
    }
   ],
   "source": [
    "print(\"Number of items per Restaurant:\")\n",
    "print(nutrition_total.groupby('Chain').size())"
   ]
  },
  {
   "cell_type": "code",
   "execution_count": 50,
   "id": "c8594b00",
   "metadata": {},
   "outputs": [
    {
     "data": {
      "text/plain": [
       "Mcdonalds      726564\n",
       "Burger King    194922\n",
       "Taco Bell      118680\n",
       "Subway          79968\n",
       "Arbys           36630\n",
       "Dairy Queen      9156\n",
       "Sonic            7791\n",
       "Chick Fil-A       550\n",
       "Name: name, dtype: int64"
      ]
     },
     "execution_count": 50,
     "metadata": {},
     "output_type": "execute_result"
    }
   ],
   "source": [
    "full_dataset.name.value_counts()"
   ]
  },
  {
   "cell_type": "markdown",
   "id": "2017bc3b",
   "metadata": {},
   "source": [
    "## **Merge Check**\n",
    "\n",
    "- There are 666 Arbys, and each Arbys serves 55 items, so there should be 36630 total Arbys rows\n",
    "- There are 833 Burger Kings, and each Burger King serves 234 items, so there should be 194922 total Burger King rows\n",
    "- There are 22 Chick Fil-As, and each Chick Fil-A serves 25 items, so there should be 550 total Chick-Fil-A rows\n",
    "- There are 218 Dairy Queens, and each Dairy Queen serves 42 items, so there should be 9156 total Dairy Queen rows\n",
    "- There are 1902 Mcdonalds, and each Mcdonalds serves 382 items, so there should be 726564 total Mcdonalds rows\n",
    "- There are 147 Sonics, and each Sonic serves 53 items, so there should be 7791 total Sonic rows\n",
    "- There are 833 Subways, and each Subway serves 96 items, so there should be 79968 total Subway rows\n",
    "- There are 1032 Taco Bells, and each Taco Bell serves 115 items, so there should be 118680 total Taco Bell rows\n",
    "\n",
    "As all this information is correct (in regards to menu item count), we can conclude the merge was performed successfully."
   ]
  },
  {
   "cell_type": "markdown",
   "id": "0522b0d0",
   "metadata": {
    "tags": []
   },
   "source": [
    "### Part 5 - Explore Bivariate relationships\n",
    "\n",
    "- Choose a reasoned set of variables to explore further.  You don't have to explore all possible pairs of variables, nor do we want to grade that much.  Choose 7 - 9 variables. One should be a variable that you'd like to predict (target variable) using the others (predictor variables). \n",
    "- List your predictor variables\n",
    "- List your target variable\n",
    "- Briefly describe why you have chosen these. \n",
    "\n",
    "Use any of the available visualizations from Seaborn to explore the relationships between the variables. Explore the relationships among the predictor variables as well as the relationship between each predictor variable and the target variable.  Which of the predictor variables are most strongly related?  Are there any interesting relationships between categorical predictors and numeric predictors?  If there are any dichotomous variables, does that influence any of the relationships? Are the relationships positive or negative? \n",
    "\n",
    "Below each plot, you should provide a description and interpretation of the plot.  Make sure to include why the variables in that plot were chosen and what you hope the reader would gain from it as well. "
   ]
  },
  {
   "cell_type": "markdown",
   "id": "276a1c30",
   "metadata": {},
   "source": [
    "First, let's look back at our initial questions we can hopefully answer:\n",
    "\n",
    "1. Is it possible to find the **healthiest restaurant** using this dataset? ie: who has the healthiest menu- by calorie and by fat count, or by nutrition?\n",
    "\n",
    "2. Are **certain restaurants geared more towards fast food, towards healthier food, or a mixture of both?** This is intuition for more common examples, such as McDonalds, but the choices of more obscure restaurants may not be as easy to understand.\n",
    "\n",
    "3. Is there a trend between **location** and the **type of food served**? \n",
    "\n",
    "4. What **cities/states** have the most **different** restaurants in them?\n",
    "\n",
    "Of these, the question that best lends itself to the merged dataset is the **first question**- the concept of the \"healthiest restaurant\" (question 2).\n",
    "\n",
    "The restaurant is also the variable that we can use for prediction/classification and analysis, because the main piece that differs from food to food (provided they are not from the same franchise, as this analysis assumes that all copies of the same restaurant serve the same menu items, down to their identical nutritional values) is the restaurant in which they are served (as a soft drink from Arbys is different than soft drink from Sonic, for example). Given our data, and the nutrition values of the food in question, a possible prediction task would be to to predict which restaurant it comes from."
   ]
  },
  {
   "cell_type": "markdown",
   "id": "a91f0821",
   "metadata": {},
   "source": [
    "- List your predictor variables\n",
    "    - The nutritional values of food: Calories, Total Fat, Cholesterol, Sodium, Total Carbohydrates, Dietary Fiber, Total Sugar, and Protein\n",
    "- List your target variable\n",
    "    - The Chain/restaurant- where a given food item is served.\n",
    "- Briefly describe why you have chosen these.\n",
    "    - For each food item, the value that differs (disregarding duplicate items that are served at the same brand of restaurant) between them is the restaurant they come from. Given this information, the question that can be solved is placing each food item's location.\n",
    "    - After several Google searches and speaking with my sister, who researches nutrition at a significantly deeper level than me, of the values present within this dataset- the ones used should be Calories, Total Fat, Cholesterol, Sodium, Total Carbohydrates, Dietary Fiber, Total Sugar, and Protein, with an emphasis on the \"big three nutrients\"- Total Fat, Carbohydrates, and Protein. To be considered a 'balanced meal', it should be composed of 50% carbohydrates, 25% protein, and 25% fat.\n",
    "    - Saturated/Trans Fat are encompassed strongly enough by \"Total Fat\", and Calories from Fat is already encompassed by Calories and Total Fat, for the purpose of this analysis.\n",
    "    \n",
    "    -**Note:** Too much of a good thing *can* be a bad thing, however. To assess 'healthiness', this must be taken into account, as well. The average human needs 0.8g of protein for each kilogram of body mass, assuming a diet of roughly 2,000 calories. So, the average U.S. adult (weighing 181 pounds), they need to consume approximately 66 grams of protein per day. Foods with close to this amount, all at once, may not be considered healthy (considering this assumes that said person eats nothing else that day). This argument can also be extended to other predictors such as Total Fat (about 67 grams per day), Fiber (about 30-31 grams per day), and Carbohydrates (about 270 grams per day)."
   ]
  },
  {
   "cell_type": "markdown",
   "id": "39b4c56a",
   "metadata": {},
   "source": [
    "**Explore the relationships among the predictor variables as well as the relationship between each predictor variable and the target variable.**"
   ]
  },
  {
   "cell_type": "markdown",
   "id": "d15ccc00",
   "metadata": {},
   "source": [
    "Since the \"big three\" nutrients are Total Fat, Carbohydrates, and Protein, any analysis should start by comparing the distributions of each of the three."
   ]
  },
  {
   "cell_type": "code",
   "execution_count": 51,
   "id": "ab556ffe",
   "metadata": {},
   "outputs": [
    {
     "data": {
      "text/plain": [
       "<AxesSubplot:ylabel='Frequency'>"
      ]
     },
     "execution_count": 51,
     "metadata": {},
     "output_type": "execute_result"
    },
    {
     "data": {
      "image/png": "[encoded data removed]",
      "text/plain": [
       "<Figure size 432x288 with 1 Axes>"
      ]
     },
     "metadata": {
      "needs_background": "light"
     },
     "output_type": "display_data"
    }
   ],
   "source": [
    "full_dataset[[\"Total Fat\", \"Total Carb\", \"Protein\"]].plot.hist(alpha=0.4)"
   ]
  },
  {
   "cell_type": "code",
   "execution_count": 66,
   "id": "40c7fec8",
   "metadata": {},
   "outputs": [
    {
     "data": {
      "image/png": "[encoded data removed]",
      "text/plain": [
       "<Figure size 1440x720 with 9 Axes>"
      ]
     },
     "metadata": {
      "needs_background": "light"
     },
     "output_type": "display_data"
    }
   ],
   "source": [
    "full_dataset.hist(by=\"Chain\", column=\"Total Fat\", figsize=(20,10))\n",
    "plt.xlabel(\"Grams of Fat\")\n",
    "plt.ylabel(\"Number of Items Across All Chains\")\n",
    "plt.tight_layout()\n",
    "plt.show()"
   ]
  },
  {
   "cell_type": "code",
   "execution_count": 67,
   "id": "ba50b592",
   "metadata": {},
   "outputs": [
    {
     "data": {
      "image/png": "[encoded data removed]",
      "text/plain": [
       "<Figure size 1440x720 with 9 Axes>"
      ]
     },
     "metadata": {
      "needs_background": "light"
     },
     "output_type": "display_data"
    }
   ],
   "source": [
    "full_dataset.hist(by=\"Chain\", column=\"Total Carb\", figsize=(20,10))\n",
    "plt.xlabel(\"Grams of Carbohydrates\")\n",
    "plt.ylabel(\"Number of Items Across All Chains\")\n",
    "plt.tight_layout()\n",
    "plt.show()"
   ]
  },
  {
   "cell_type": "code",
   "execution_count": 69,
   "id": "723c7a35",
   "metadata": {},
   "outputs": [
    {
     "data": {
      "image/png": "[encoded data removed]",
      "text/plain": [
       "<Figure size 1440x720 with 9 Axes>"
      ]
     },
     "metadata": {
      "needs_background": "light"
     },
     "output_type": "display_data"
    }
   ],
   "source": [
    "full_dataset.hist(by=\"Chain\", column=\"Protein\", figsize=(20,10))\n",
    "plt.xlabel(\"Grams of Fat\")\n",
    "plt.ylabel(\"Number of Items Across All Chains\")\n",
    "plt.tight_layout()\n",
    "plt.show()"
   ]
  },
  {
   "cell_type": "markdown",
   "id": "0ac2de2e",
   "metadata": {},
   "source": [
    "Of the three different main predictors (keeping in mind that the McDonalds and Burger King menus are slightly skewed due to an abundance of those respective chains):\n",
    "\n",
    "- **Burger King, Mcdonalds, and Sonic seems to have the most foods that are high in fat** (some even double over the benchmark of 67 grams per day). On the other hand, restaurants like *Chick Fil-A and Subway* (which either outright serve salads in additions to fast food (in the former's case), or have healthier options in addition to healthier dishes (in the latter's case)) *have very low fat counts across most of their menu*- most of which fall under the recommended benchmark by far. Sonic also contains many low-fat menu options (as they also serve different types of fruits and vegetables as sides), but it is significantly more polarizing than the other two restaurants.\n",
    "- **Arbys has very balanced choices for foods**- there are some foods that are very high in all three categories, but the vast majority of its menu gives roughly one-third to one-half of required daily consumption of specified nutrients.\n",
    "- **Burger King and Mcdonalds serve foods with the highest carbohydrate counts**, many of which happen to belong to the same dish (ie: a Triple Bacon Cheesburger is high in carbohydrates, fat, and protein). This leads to these two restaurants being candidates for the least healthiest restaurants.\n",
    "- **Subway, Sonic, and Chick Fil-A all serve items with large amounts of Protein** while tending to also serve fewer items that expand past the 'daily limits' for each of these three main restaurants. This leads to a conclusion that *these restaurants, in general, tend to be healthier than other choices.*"
   ]
  },
  {
   "cell_type": "markdown",
   "id": "3f4bac18",
   "metadata": {},
   "source": [
    "Now that we have a general understanding using the \"big three nutrients\", the other predictors can also be analyzed for further clarifying towards ranking restaurants."
   ]
  },
  {
   "cell_type": "code",
   "execution_count": 71,
   "id": "9acd1b7d",
   "metadata": {},
   "outputs": [
    {
     "data": {
      "image/png": "[encoded data removed]",
      "text/plain": [
       "<Figure size 1440x720 with 9 Axes>"
      ]
     },
     "metadata": {
      "needs_background": "light"
     },
     "output_type": "display_data"
    }
   ],
   "source": [
    "full_dataset.hist(by=\"Chain\", column=\"Calories\", figsize=(20,10))\n",
    "plt.xlabel(\"Grams of Calories\")\n",
    "plt.ylabel(\"Number of Items Across All Chains\")\n",
    "plt.tight_layout()\n",
    "plt.show()"
   ]
  },
  {
   "cell_type": "markdown",
   "id": "dbda48e5",
   "metadata": {},
   "source": [
    "- **Burger King and Mcdonalds, once again, serve dishes with the highest average calorie counts,** even when accounting for their low-calorie soft-drink abundance from the second used dataset. Given that they both have at least a few dishes that are higher, **on their own**, than the daily recommended caloric intake, they are once again chosen to be the least healthy.\n",
    "-  *Taco Bell and Subway have the least amount of dishes with large calorie counts*."
   ]
  },
  {
   "cell_type": "code",
   "execution_count": 72,
   "id": "de7146b6",
   "metadata": {},
   "outputs": [
    {
     "data": {
      "image/png": "[encoded data removed]",
      "text/plain": [
       "<Figure size 1440x720 with 9 Axes>"
      ]
     },
     "metadata": {
      "needs_background": "light"
     },
     "output_type": "display_data"
    }
   ],
   "source": [
    "full_dataset.hist(by=\"Chain\", column=\"Chol\", figsize=(20,10))\n",
    "plt.xlabel(\"Milligrams of Cholesterol\")\n",
    "plt.ylabel(\"Number of Items Across All Chains\")\n",
    "plt.tight_layout()\n",
    "plt.show()"
   ]
  },
  {
   "cell_type": "markdown",
   "id": "77080fa0",
   "metadata": {},
   "source": [
    "- The average daily cholesterol limit is around 300 milligrams. By cholesterol count, this means that the *healthiest restaurants are Taco Bell and Subway* while the **least healthy are still Mcdonalds and Burger King.**"
   ]
  },
  {
   "cell_type": "code",
   "execution_count": 74,
   "id": "c2a85ef3",
   "metadata": {},
   "outputs": [
    {
     "data": {
      "image/png": "[encoded data removed]",
      "text/plain": [
       "<Figure size 1440x720 with 9 Axes>"
      ]
     },
     "metadata": {
      "needs_background": "light"
     },
     "output_type": "display_data"
    }
   ],
   "source": [
    "full_dataset.hist(by=\"Chain\", column=\"Dietary Fiber\", figsize=(20,10))\n",
    "plt.xlabel(\"Grams of Fat\")\n",
    "plt.ylabel(\"Number of Items Across All Chains\")\n",
    "plt.tight_layout()\n",
    "plt.show()"
   ]
  },
  {
   "cell_type": "markdown",
   "id": "48a75af5",
   "metadata": {},
   "source": [
    "- The average daily fiber intake is around 31 grams, with the upper echelons of 50+ grams being considered unreasonable. With this data, assuming that this would be considered a \"dinner\" meal, *Arbys is the most likely to not encroach on this limit*, while **Taco Bell and Subway serve  the most foods with large amounts of fiber**."
   ]
  },
  {
   "cell_type": "code",
   "execution_count": 75,
   "id": "d64ae91e",
   "metadata": {},
   "outputs": [
    {
     "data": {
      "image/png": "[encoded data removed]",
      "text/plain": [
       "<Figure size 1440x720 with 9 Axes>"
      ]
     },
     "metadata": {
      "needs_background": "light"
     },
     "output_type": "display_data"
    }
   ],
   "source": [
    "full_dataset.hist(by=\"Chain\", column=\"Total Sugar\", figsize=(20,10))\n",
    "plt.xlabel(\"Grams of Sugar\")\n",
    "plt.ylabel(\"Number of Items Across All Chains\")\n",
    "plt.tight_layout()\n",
    "plt.show()"
   ]
  },
  {
   "cell_type": "markdown",
   "id": "35bb8d81",
   "metadata": {},
   "source": [
    "- As there is no nutritional benefit from sugar, the upper limit should be more respected within meals. The AHA (American Heart Association) recommends 25-37 grams of sugar per day- and **Mcdonalds and Burger King serve items far beyond this**, which makes them a clear candidate for the unhealthiest restaurants. By this measure, *Chick Fil-A and Taco Bell* are the healthiest in regards to sugar consumption."
   ]
  },
  {
   "cell_type": "code",
   "execution_count": 76,
   "id": "9a745d23",
   "metadata": {},
   "outputs": [
    {
     "data": {
      "image/png": "[encoded data removed]",
      "text/plain": [
       "<Figure size 1440x720 with 9 Axes>"
      ]
     },
     "metadata": {
      "needs_background": "light"
     },
     "output_type": "display_data"
    }
   ],
   "source": [
    "full_dataset.hist(by=\"Chain\", column=\"Sodium\", figsize=(20,10))\n",
    "plt.xlabel(\"Milligrams of Sodium\")\n",
    "plt.ylabel(\"Number of Items Across All Chains\")\n",
    "plt.tight_layout()\n",
    "plt.show()"
   ]
  },
  {
   "cell_type": "markdown",
   "id": "ac2b37c8",
   "metadata": {},
   "source": [
    "- The average daily sodium limit is around 1750 milligrams (with an upper limit of 2300 milligrams). By this measure, the *healthiest restaurants are Dairy Queen, Subway, and Sonic* while the **least healthy are still Mcdonalds and Burger King.**"
   ]
  },
  {
   "cell_type": "code",
   "execution_count": null,
   "id": "ff850b95",
   "metadata": {},
   "outputs": [],
   "source": [
    "#HOW TO CORRELATE TARGET VARIABLE (not dichotomous categorical) WITH OTHER VARIABLES"
   ]
  },
  {
   "cell_type": "markdown",
   "id": "2b723fd3",
   "metadata": {},
   "source": [
    "**Which of the predictor variables are most strongly related?**"
   ]
  },
  {
   "cell_type": "code",
   "execution_count": 80,
   "id": "7bb22cdc",
   "metadata": {},
   "outputs": [
    {
     "data": {
      "text/plain": [
       "<AxesSubplot:>"
      ]
     },
     "execution_count": 80,
     "metadata": {},
     "output_type": "execute_result"
    },
    {
     "data": {
      "image/png": "[encoded data removed]",
      "text/plain": [
       "<Figure size 432x288 with 2 Axes>"
      ]
     },
     "metadata": {
      "needs_background": "light"
     },
     "output_type": "display_data"
    }
   ],
   "source": [
    "#Correlation between predictors and target variable\n",
    "predictors = full_dataset[[\"Protein\", \"Calories\", \"Total Fat\", \n",
    "             \"Chol\", \"Sodium\", \"Total Carb\", \"Dietary Fiber\", \n",
    "             \"Total Sugar\"]]\n",
    "\n",
    "corr = predictors.corr()\n",
    "\n",
    "sns.heatmap(corr, xticklabels=corr.columns, yticklabels=corr.columns)"
   ]
  },
  {
   "cell_type": "code",
   "execution_count": null,
   "id": "434a7bfd",
   "metadata": {},
   "outputs": [],
   "source": []
  },
  {
   "cell_type": "code",
   "execution_count": 78,
   "id": "443b3fb9",
   "metadata": {},
   "outputs": [
    {
     "data": {
      "text/plain": [
       "<AxesSubplot:>"
      ]
     },
     "execution_count": 78,
     "metadata": {},
     "output_type": "execute_result"
    },
    {
     "data": {
      "image/png": "[encoded data removed]",
      "text/plain": [
       "<Figure size 432x288 with 2 Axes>"
      ]
     },
     "metadata": {
      "needs_background": "light"
     },
     "output_type": "display_data"
    }
   ],
   "source": [
    "corr = predictors.corr()\n",
    "\n",
    "sns.heatmap(corr, xticklabels=corr.columns, yticklabels=corr.columns)"
   ]
  },
  {
   "cell_type": "markdown",
   "id": "a53e375d",
   "metadata": {},
   "source": [
    "Notable Conclusions:\n",
    "- **Protein and Fat contribute strongly towards an increase in calories**. This makes sense, as the two are two of the densest nutrients in food and are part of a balanced meal- which includes consumption of calories. Of course, too *much* of a good thing is still terrible for oneself, nutritionally, so to measure healthiness, the amount of Protein/Fat/Calories should also be considered.\n",
    "- There is a somewhat strong **negative** correlation between Carbohydrates, Sugar, and Fat. ***WHY?***\n",
    "- On this menu, there are many foods that are high in sugars but low in calories, and vice versa. This is most likely due to an abundance of soft drinks, which are very sugary but also not calorically-dense."
   ]
  },
  {
   "cell_type": "code",
   "execution_count": 79,
   "id": "a6ca8cde",
   "metadata": {},
   "outputs": [],
   "source": [
    "#Find foods that are larger than this amount of protein/fiber/calories "
   ]
  },
  {
   "cell_type": "markdown",
   "id": "d5062f1a",
   "metadata": {},
   "source": [
    "Are there any interesting relationships between categorical predictors and numeric predictors?\n",
    "\n",
    "**All chosen predictors in this case are numeric.**\n",
    "\n",
    "If there are any dichotomous variables, does that influence any of the relationships?\n",
    "\n",
    "**All chosen predictors are continuous and numeric (and thus, none are dichotomous). If the full dataset contained the \"salad\" variable (and not just one of the component datasets), this would be a reasonable choice for a dichotomous variable to analyze.**"
   ]
  },
  {
   "cell_type": "markdown",
   "id": "f51fc434",
   "metadata": {},
   "source": [
    "**Overall Health Ranking:**\n",
    "\n",
    "Based on this analysis, the \"healthiest\" restaurants based on the food they commonly serve would be (from healthiest to most unhealthy). These were scored relative to their notability in each category (with combinations of higher values across the board tending to unhealthier restaurants and combinations of more moderate values across the board tending to healthier restaurants).\n",
    "1. Subway\n",
    "2. Chick Fil-A\n",
    "3. Taco Bell\n",
    "4. Arbys\n",
    "5. Dairy Queen\n",
    "6. Sonic\n",
    "7. Mcdonalds\n",
    "8. Burger King"
   ]
  },
  {
   "cell_type": "markdown",
   "id": "5e3ca936",
   "metadata": {},
   "source": [
    "This list tends to somewhat agree with most lists on the internet, which **also rank Chick Fil-A, Subway, and Taco Bell highly**. Mcdonalds and Burger King are typically only healthy when they are portioned properly (You can eat healthy in those places if you skimp on sides and certain condiments and the like, which this list does not take into account, treating each item in its entirety and not only portioned sizes of it)- thus, they are rated as predominantly unhealthy in almost every category, as they tend to have large portions with large doses of all sorts of nutrients.\n",
    "\n",
    "**Lists consulted:**\n",
    "- https://www.businessinsider.com/healthy-fast-food-chains-ranking-2016-2 (ranks Chick Fil-A, Taco Bell, and Subway as the top 3)\n",
    "- https://whbl.com/2021/03/09/americas-healthiest-fast-food-restaurants-ranked/ (ranks Burger King very low, and Mcdonalds- when portioned properly- highly. It does also, interestingly, rank Dairy Queen higher than Taco Bell, though Arbys also bridges this gap, akin to the list here)\n",
    "- Students at North Georgia University ran statistic tests between Chick Fil-A's food and Mcdonalds' food, finding that the former possessed significantly higher protein counts across the board (another conclusion of this list).\n",
    "- https://www.tasteofhome.com/article/healthiest-fast-food-chain-taco-bell/ (ranks Taco Bell as the healthiest fast food restaurant)"
   ]
  },
  {
   "cell_type": "code",
   "execution_count": null,
   "id": "3b54c540",
   "metadata": {},
   "outputs": [],
   "source": []
  }
 ],
 "metadata": {
  "kernelspec": {
   "display_name": "Python 3 (ipykernel)",
   "language": "python",
   "name": "python3"
  },
  "language_info": {
   "codemirror_mode": {
    "name": "ipython",
    "version": 3
   },
   "file_extension": ".py",
   "mimetype": "text/x-python",
   "name": "python",
   "nbconvert_exporter": "python",
   "pygments_lexer": "ipython3",
   "version": "3.7.1"
  }
 },
 "nbformat": 4,
 "nbformat_minor": 5
}
