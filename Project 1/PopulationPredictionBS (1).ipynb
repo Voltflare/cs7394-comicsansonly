{
 "cells": [
  {
   "cell_type": "code",
   "execution_count": 1,
   "id": "7472a0c2",
   "metadata": {},
   "outputs": [],
   "source": [
    "import pandas as pd\n",
    "import numpy as np\n",
    "from statistics import mean"
   ]
  },
  {
   "cell_type": "code",
   "execution_count": 2,
   "id": "667ec7db",
   "metadata": {},
   "outputs": [
    {
     "data": {
      "text/html": [
       "<div>\n",
       "<style scoped>\n",
       "    .dataframe tbody tr th:only-of-type {\n",
       "        vertical-align: middle;\n",
       "    }\n",
       "\n",
       "    .dataframe tbody tr th {\n",
       "        vertical-align: top;\n",
       "    }\n",
       "\n",
       "    .dataframe thead th {\n",
       "        text-align: right;\n",
       "    }\n",
       "</style>\n",
       "<table border=\"1\" class=\"dataframe\">\n",
       "  <thead>\n",
       "    <tr style=\"text-align: right;\">\n",
       "      <th></th>\n",
       "      <th>Entity</th>\n",
       "      <th>Code</th>\n",
       "      <th>Year</th>\n",
       "      <th>Population</th>\n",
       "      <th>Unnamed: 4</th>\n",
       "      <th>Unnamed: 5</th>\n",
       "    </tr>\n",
       "  </thead>\n",
       "  <tbody>\n",
       "    <tr>\n",
       "      <th>0</th>\n",
       "      <td>Afghanistan</td>\n",
       "      <td>AFG</td>\n",
       "      <td>1800</td>\n",
       "      <td>3280000</td>\n",
       "      <td>NaN</td>\n",
       "      <td>NaN</td>\n",
       "    </tr>\n",
       "    <tr>\n",
       "      <th>1</th>\n",
       "      <td>Afghanistan</td>\n",
       "      <td>AFG</td>\n",
       "      <td>1801</td>\n",
       "      <td>3280000</td>\n",
       "      <td>NaN</td>\n",
       "      <td>NaN</td>\n",
       "    </tr>\n",
       "    <tr>\n",
       "      <th>2</th>\n",
       "      <td>Afghanistan</td>\n",
       "      <td>AFG</td>\n",
       "      <td>1802</td>\n",
       "      <td>3280000</td>\n",
       "      <td>NaN</td>\n",
       "      <td>NaN</td>\n",
       "    </tr>\n",
       "    <tr>\n",
       "      <th>3</th>\n",
       "      <td>Afghanistan</td>\n",
       "      <td>AFG</td>\n",
       "      <td>1803</td>\n",
       "      <td>3280000</td>\n",
       "      <td>NaN</td>\n",
       "      <td>NaN</td>\n",
       "    </tr>\n",
       "    <tr>\n",
       "      <th>4</th>\n",
       "      <td>Afghanistan</td>\n",
       "      <td>AFG</td>\n",
       "      <td>1804</td>\n",
       "      <td>3280000</td>\n",
       "      <td>NaN</td>\n",
       "      <td>NaN</td>\n",
       "    </tr>\n",
       "  </tbody>\n",
       "</table>\n",
       "</div>"
      ],
      "text/plain": [
       "        Entity Code  Year  Population  Unnamed: 4  Unnamed: 5\n",
       "0  Afghanistan  AFG  1800     3280000         NaN         NaN\n",
       "1  Afghanistan  AFG  1801     3280000         NaN         NaN\n",
       "2  Afghanistan  AFG  1802     3280000         NaN         NaN\n",
       "3  Afghanistan  AFG  1803     3280000         NaN         NaN\n",
       "4  Afghanistan  AFG  1804     3280000         NaN         NaN"
      ]
     },
     "execution_count": 2,
     "metadata": {},
     "output_type": "execute_result"
    }
   ],
   "source": [
    "metadata = pd.DataFrame()\n",
    "metadata = pd.read_csv('world-population-by-world-regions-post-1820 - UPDATED.csv')\n",
    "metadata.head()"
   ]
  },
  {
   "cell_type": "code",
   "execution_count": 26,
   "id": "eb9b9f7f-0888-46ec-8558-47da1507e731",
   "metadata": {},
   "outputs": [],
   "source": [
    "Extras = ['World', 'North America', 'Asia', 'South America', 'Africa','Europe','Oceania']"
   ]
  },
  {
   "cell_type": "code",
   "execution_count": 28,
   "id": "25f0c3eb",
   "metadata": {},
   "outputs": [
    {
     "name": "stdout",
     "output_type": "stream",
     "text": [
      "7875289422\n"
     ]
    }
   ],
   "source": [
    "countries = metadata.Code.unique()\n",
    "\n",
    "avg_change = dict()\n",
    "df_names = dict()\n",
    "for k, v in metadata.groupby('Entity'):\n",
    "    df_names[k] = v\n",
    "for e in Extras:\n",
    "    del df_names[e]\n",
    "total_pop = 0\n",
    "begin_pop = 0\n",
    "for i in df_names:\n",
    "    #print(df_names[i]['Population'])\n",
    "    start_pop = df_names[i].iloc[0, 3]\n",
    "    #print(start_pop)\n",
    "    end_pop = df_names[i].iloc[len(df_names[i]) - 1, 3]\n",
    "    #print(end_pop)\n",
    "    start_yr = df_names[i].iloc[0, 2]\n",
    "    end_yr = df_names[i].iloc[len(df_names[i]) - 1, 2]\n",
    "    begin_pop += start_pop\n",
    "    total_pop+=end_pop\n",
    "    # print(end_pop)\n",
    "#     print(end_pop - start_pop)\n",
    "    avg = (end_pop - start_pop) / start_pop\n",
    "    avg = avg/(end_yr - start_yr)\n",
    "    avg_change[i] = avg\n",
    "    \n",
    "# for n in avg_change:\n",
    "#     print(n)\n",
    "#     print(avg_change[n])\n",
    "\n",
    "print(total_pop)\n",
    " "
   ]
  },
  {
   "cell_type": "code",
   "execution_count": 24,
   "id": "c96eaf2a-cedf-4e0e-b169-fcd5414d979b",
   "metadata": {},
   "outputs": [],
   "source": []
  },
  {
   "cell_type": "code",
   "execution_count": null,
   "id": "6750a8f0-3105-4010-85b3-8d557d4be099",
   "metadata": {},
   "outputs": [],
   "source": []
  },
  {
   "cell_type": "code",
   "execution_count": null,
   "id": "48fd87e2-5ae7-45ae-90ca-fb5cdb50f573",
   "metadata": {},
   "outputs": [],
   "source": []
  }
 ],
 "metadata": {
  "kernelspec": {
   "display_name": "Python 3",
   "language": "python",
   "name": "python3"
  },
  "language_info": {
   "codemirror_mode": {
    "name": "ipython",
    "version": 3
   },
   "file_extension": ".py",
   "mimetype": "text/x-python",
   "name": "python",
   "nbconvert_exporter": "python",
   "pygments_lexer": "ipython3",
   "version": "3.7.1"
  }
 },
 "nbformat": 4,
 "nbformat_minor": 5
}
