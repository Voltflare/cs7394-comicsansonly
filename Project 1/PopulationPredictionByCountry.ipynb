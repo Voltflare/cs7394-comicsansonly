{
 "cells": [
  {
   "cell_type": "code",
   "execution_count": 2,
   "id": "contained-running",
   "metadata": {},
   "outputs": [],
   "source": [
    "import pandas as pd\n",
    "import numpy as np\n",
    "from statistics import mean"
   ]
  },
  {
   "cell_type": "code",
   "execution_count": 3,
   "id": "piano-verification",
   "metadata": {},
   "outputs": [
    {
     "data": {
      "text/html": [
       "<div>\n",
       "<style scoped>\n",
       "    .dataframe tbody tr th:only-of-type {\n",
       "        vertical-align: middle;\n",
       "    }\n",
       "\n",
       "    .dataframe tbody tr th {\n",
       "        vertical-align: top;\n",
       "    }\n",
       "\n",
       "    .dataframe thead th {\n",
       "        text-align: right;\n",
       "    }\n",
       "</style>\n",
       "<table border=\"1\" class=\"dataframe\">\n",
       "  <thead>\n",
       "    <tr style=\"text-align: right;\">\n",
       "      <th></th>\n",
       "      <th>Entity</th>\n",
       "      <th>Code</th>\n",
       "      <th>Year</th>\n",
       "      <th>Population</th>\n",
       "      <th>Unnamed: 4</th>\n",
       "      <th>Unnamed: 5</th>\n",
       "    </tr>\n",
       "  </thead>\n",
       "  <tbody>\n",
       "    <tr>\n",
       "      <th>0</th>\n",
       "      <td>Afghanistan</td>\n",
       "      <td>AFG</td>\n",
       "      <td>1800</td>\n",
       "      <td>3280000</td>\n",
       "      <td>NaN</td>\n",
       "      <td>NaN</td>\n",
       "    </tr>\n",
       "    <tr>\n",
       "      <th>1</th>\n",
       "      <td>Afghanistan</td>\n",
       "      <td>AFG</td>\n",
       "      <td>1801</td>\n",
       "      <td>3280000</td>\n",
       "      <td>NaN</td>\n",
       "      <td>NaN</td>\n",
       "    </tr>\n",
       "    <tr>\n",
       "      <th>2</th>\n",
       "      <td>Afghanistan</td>\n",
       "      <td>AFG</td>\n",
       "      <td>1802</td>\n",
       "      <td>3280000</td>\n",
       "      <td>NaN</td>\n",
       "      <td>NaN</td>\n",
       "    </tr>\n",
       "    <tr>\n",
       "      <th>3</th>\n",
       "      <td>Afghanistan</td>\n",
       "      <td>AFG</td>\n",
       "      <td>1803</td>\n",
       "      <td>3280000</td>\n",
       "      <td>NaN</td>\n",
       "      <td>NaN</td>\n",
       "    </tr>\n",
       "    <tr>\n",
       "      <th>4</th>\n",
       "      <td>Afghanistan</td>\n",
       "      <td>AFG</td>\n",
       "      <td>1804</td>\n",
       "      <td>3280000</td>\n",
       "      <td>NaN</td>\n",
       "      <td>NaN</td>\n",
       "    </tr>\n",
       "  </tbody>\n",
       "</table>\n",
       "</div>"
      ],
      "text/plain": [
       "        Entity Code  Year  Population  Unnamed: 4  Unnamed: 5\n",
       "0  Afghanistan  AFG  1800     3280000         NaN         NaN\n",
       "1  Afghanistan  AFG  1801     3280000         NaN         NaN\n",
       "2  Afghanistan  AFG  1802     3280000         NaN         NaN\n",
       "3  Afghanistan  AFG  1803     3280000         NaN         NaN\n",
       "4  Afghanistan  AFG  1804     3280000         NaN         NaN"
      ]
     },
     "execution_count": 3,
     "metadata": {},
     "output_type": "execute_result"
    }
   ],
   "source": [
    "metadata = pd.DataFrame()\n",
    "metadata = pd.read_csv('world-population-by-world-regions-post-1820 - UPDATED.csv')\n",
    "metadata.head()"
   ]
  },
  {
   "cell_type": "code",
   "execution_count": 4,
   "id": "duplicate-valley",
   "metadata": {},
   "outputs": [],
   "source": [
    "Extras = ['World', 'North America', 'Asia', 'South America', 'Africa','Europe','Oceania']"
   ]
  },
  {
   "cell_type": "code",
   "execution_count": 5,
   "id": "juvenile-roulette",
   "metadata": {},
   "outputs": [
    {
     "name": "stdout",
     "output_type": "stream",
     "text": [
      "[39835428, 2872934, 44616626, 55103, 77354, 33933611, 15125, 98728, 45605823, 2968128, 107195, 25788217, 9043072, 10223344, 396914, 1748295, 166303494, 287708, 9442867, 11632334, 404915, 12451031, 62092, 779900, 11832936, 26445, 3263459, 2397240, 213993441, 30423, 441532, 6896655, 21497097, 12255429, 16946446, 27224262, 38067913, 561901, 66498, 4919987, 16914985, 175244, 19212362, 1444216102, 51265841, 888456, 5657017, 17572, 5139053, 27053629, 4081657, 11317498, 164796, 1215588, 10724553, 92377986, 5813302, 1002197, 72172, 10953714, 17888474, 104258327, 6518500, 1449891, 3601462, 1325188, 1172369, 117876226, 49053, 3528, 902899, 5548361, 65426177, 306450, 282534, 2278829, 2486937, 3979773, 83900471, 31732128, 33691, 10370747, 56868, 113015, 400013, 170184, 18249868, 13497237, 2015490, 790329, 11541683, 10062994, 7552800, 9634162, 343360, 1393409033, 276361788, 85028760, 41179351, 4982904, 85410, 8789776, 60367471, 2973462, 126050796, 10269022, 18994958, 54985702, 121388, 4328553, 6628347, 7379358, 1866934, 6769151, 2159067, 5180208, 6958538, 38254, 2689862, 634814, 658391, 28427333, 19647681, 32776195, 543620, 20855724, 442790, 59618, 374743, 4775110, 1273428, 279507, 130262220, 116255, 4024025, 39520, 3329282, 628051, 4981, 37344787, 32163045, 54806014, 2587344, 10873, 29674920, 17173094, 321292, 288217, 4860642, 6702379, 25130810, 211400704, 1614, 25887045, 2082661, 57910, 5465629, 5223376, 225199929, 18174, 5222756, 4381583, 9119005, 7219641, 33359415, 111046910, 37797000, 10167923, 2828246, 2930524, 901696, 19127772, 145912022, 13276517, 9909, 6095, 53546, 184401, 39239, 5771, 111269, 200144, 34010, 223364, 35340680, 17196308, 8697547, 98910, 8141343, 5896684, 43421, 5460726, 2078723, 703995, 16359500, 60041996, 51305184, 11381377, 46745211, 21497306, 44909351, 591798, 2400, 10160159, 8715494, 18275704, 23855008, 9749625, 61498438, 69950844, 1343875, 8478242, 1368, 106759, 1403374, 11935764, 85042736, 6117933, 39226, 11925, 47123533, 43466822, 9991083, 68207114, 332915074, 104218, 3485152, 33935765, 314464, 812, 28704947, 98168829, 11094, 611872, 30490639, 18920657, 15092171]\n",
      "7875289422\n"
     ]
    }
   ],
   "source": [
    "countries = metadata.Code.unique()\n",
    "\n",
    "avg_change = dict()\n",
    "df_names = dict()\n",
    "for k, v in metadata.groupby('Entity'):\n",
    "    df_names[k] = v\n",
    "for e in Extras:\n",
    "    del df_names[e]\n",
    "total_pop = []\n",
    "begin_pop = []\n",
    "for i in df_names:\n",
    "    #print(df_names[i]['Population'])\n",
    "    start_pop = df_names[i].iloc[0, 3]\n",
    "    #print(start_pop)\n",
    "    end_pop = df_names[i].iloc[len(df_names[i]) - 1, 3]\n",
    "    #print(end_pop)\n",
    "    start_yr = df_names[i].iloc[0, 2]\n",
    "    end_yr = df_names[i].iloc[len(df_names[i]) - 1, 2]\n",
    "    begin_pop.append(start_pop)\n",
    "    total_pop.append(end_pop)\n",
    "    # print(end_pop)\n",
    "#     print(end_pop - start_pop)\n",
    "    avg = (end_pop - start_pop) / start_pop\n",
    "    avg = avg/(end_yr - start_yr)\n",
    "    avg_change[i] = avg\n",
    "    \n",
    "# for n in avg_change:\n",
    "#     print(n)\n",
    "#     print(avg_change[n])\n",
    "\n",
    "print(total_pop)\n",
    "print(sum(total_pop))\n",
    " "
   ]
  },
  {
   "cell_type": "code",
   "execution_count": 8,
   "id": "christian-party",
   "metadata": {},
   "outputs": [
    {
     "name": "stdout",
     "output_type": "stream",
     "text": [
      "Predicted Population:  9280786519.051214\n"
     ]
    }
   ],
   "source": [
    "#Tally up all changed rates\n",
    "#Initial Population: 7875289422\n",
    "import copy\n",
    "\n",
    "initial_population = sum(total_pop)\n",
    "initial_population\n",
    "\n",
    "#Get all current population changes\n",
    "new_populations = []\n",
    "avg_change_population = list(avg_change.values())\n",
    "\n",
    "#Apply those population changes across the current predicted populations over 100 years\n",
    "for pop,change in zip(total_pop, avg_change_population):\n",
    "    pop = pop * (1+change*221/100) #initial change was for 221 years\n",
    "    new_populations.append(pop)\n",
    "print(\"Predicted Population: \", sum(new_populations))"
   ]
  },
  {
   "cell_type": "code",
   "execution_count": null,
   "id": "negative-office",
   "metadata": {},
   "outputs": [],
   "source": []
  },
  {
   "cell_type": "code",
   "execution_count": null,
   "id": "subtle-russian",
   "metadata": {},
   "outputs": [],
   "source": []
  }
 ],
 "metadata": {
  "kernelspec": {
   "display_name": "Python 3",
   "language": "python",
   "name": "python3"
  },
  "language_info": {
   "codemirror_mode": {
    "name": "ipython",
    "version": 3
   },
   "file_extension": ".py",
   "mimetype": "text/x-python",
   "name": "python",
   "nbconvert_exporter": "python",
   "pygments_lexer": "ipython3",
   "version": "3.7.1"
  }
 },
 "nbformat": 4,
 "nbformat_minor": 5
}
