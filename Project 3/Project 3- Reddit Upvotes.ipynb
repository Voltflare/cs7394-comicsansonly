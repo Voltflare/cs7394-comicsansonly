{
 "cells": [
  {
   "cell_type": "markdown",
   "id": "c005253c",
   "metadata": {},
   "source": [
    " ## **Clean the Data (deal with missing values):**\n",
    " \n",
    " There are no missing values in this dataset, and each of the 141,000 instances do not have missing or mismatched data (https://www.kaggle.com/datasets/umairnsr87/predict-the-number-of-upvotes-a-post-will-get).\n",
    " \n",
    "*The dataset is also already split into a training and testing sets* by the Kaggle entry's author, with a 70/30 split. The test set contains approximately 141k entries, and the training set contains about 330k entries. \n",
    "\n",
    "Thinking for the ultimate task of classification, as there appeared to be no set of \"bad ID's\" (users associated with trolling, etc) according to Google, the ID column was removed."
   ]
  },
  {
   "cell_type": "code",
   "execution_count": 60,
   "id": "17bdb036",
   "metadata": {},
   "outputs": [],
   "source": [
    "import pandas as pd\n",
    "\n",
    "train_set = pd.read_csv(\"train_upvotes.csv\")\n",
    "test_set = pd.read_csv(\"test_upvotes.csv\")"
   ]
  },
  {
   "cell_type": "code",
   "execution_count": 61,
   "id": "4bbe9880",
   "metadata": {},
   "outputs": [
    {
     "data": {
      "text/html": [
       "<div>\n",
       "<style scoped>\n",
       "    .dataframe tbody tr th:only-of-type {\n",
       "        vertical-align: middle;\n",
       "    }\n",
       "\n",
       "    .dataframe tbody tr th {\n",
       "        vertical-align: top;\n",
       "    }\n",
       "\n",
       "    .dataframe thead th {\n",
       "        text-align: right;\n",
       "    }\n",
       "</style>\n",
       "<table border=\"1\" class=\"dataframe\">\n",
       "  <thead>\n",
       "    <tr style=\"text-align: right;\">\n",
       "      <th></th>\n",
       "      <th>ID</th>\n",
       "      <th>Reputation</th>\n",
       "      <th>Answers</th>\n",
       "      <th>Username</th>\n",
       "      <th>Views</th>\n",
       "      <th>Upvotes</th>\n",
       "    </tr>\n",
       "  </thead>\n",
       "  <tbody>\n",
       "    <tr>\n",
       "      <th>count</th>\n",
       "      <td>330045.000000</td>\n",
       "      <td>3.300450e+05</td>\n",
       "      <td>330045.000000</td>\n",
       "      <td>330045.000000</td>\n",
       "      <td>3.300450e+05</td>\n",
       "      <td>330045.000000</td>\n",
       "    </tr>\n",
       "    <tr>\n",
       "      <th>mean</th>\n",
       "      <td>235748.682789</td>\n",
       "      <td>7.773147e+03</td>\n",
       "      <td>3.917672</td>\n",
       "      <td>81442.888803</td>\n",
       "      <td>2.964507e+04</td>\n",
       "      <td>337.505358</td>\n",
       "    </tr>\n",
       "    <tr>\n",
       "      <th>std</th>\n",
       "      <td>136039.418471</td>\n",
       "      <td>2.706141e+04</td>\n",
       "      <td>3.579515</td>\n",
       "      <td>49215.100730</td>\n",
       "      <td>8.095646e+04</td>\n",
       "      <td>3592.441135</td>\n",
       "    </tr>\n",
       "    <tr>\n",
       "      <th>min</th>\n",
       "      <td>1.000000</td>\n",
       "      <td>0.000000e+00</td>\n",
       "      <td>0.000000</td>\n",
       "      <td>0.000000</td>\n",
       "      <td>9.000000e+00</td>\n",
       "      <td>0.000000</td>\n",
       "    </tr>\n",
       "    <tr>\n",
       "      <th>25%</th>\n",
       "      <td>117909.000000</td>\n",
       "      <td>2.820000e+02</td>\n",
       "      <td>2.000000</td>\n",
       "      <td>39808.000000</td>\n",
       "      <td>2.594000e+03</td>\n",
       "      <td>8.000000</td>\n",
       "    </tr>\n",
       "    <tr>\n",
       "      <th>50%</th>\n",
       "      <td>235699.000000</td>\n",
       "      <td>1.236000e+03</td>\n",
       "      <td>3.000000</td>\n",
       "      <td>79010.000000</td>\n",
       "      <td>8.954000e+03</td>\n",
       "      <td>28.000000</td>\n",
       "    </tr>\n",
       "    <tr>\n",
       "      <th>75%</th>\n",
       "      <td>353620.000000</td>\n",
       "      <td>5.118000e+03</td>\n",
       "      <td>5.000000</td>\n",
       "      <td>122559.000000</td>\n",
       "      <td>2.687000e+04</td>\n",
       "      <td>107.000000</td>\n",
       "    </tr>\n",
       "    <tr>\n",
       "      <th>max</th>\n",
       "      <td>471493.000000</td>\n",
       "      <td>1.042428e+06</td>\n",
       "      <td>76.000000</td>\n",
       "      <td>175738.000000</td>\n",
       "      <td>5.231058e+06</td>\n",
       "      <td>615278.000000</td>\n",
       "    </tr>\n",
       "  </tbody>\n",
       "</table>\n",
       "</div>"
      ],
      "text/plain": [
       "                  ID    Reputation        Answers       Username  \\\n",
       "count  330045.000000  3.300450e+05  330045.000000  330045.000000   \n",
       "mean   235748.682789  7.773147e+03       3.917672   81442.888803   \n",
       "std    136039.418471  2.706141e+04       3.579515   49215.100730   \n",
       "min         1.000000  0.000000e+00       0.000000       0.000000   \n",
       "25%    117909.000000  2.820000e+02       2.000000   39808.000000   \n",
       "50%    235699.000000  1.236000e+03       3.000000   79010.000000   \n",
       "75%    353620.000000  5.118000e+03       5.000000  122559.000000   \n",
       "max    471493.000000  1.042428e+06      76.000000  175738.000000   \n",
       "\n",
       "              Views        Upvotes  \n",
       "count  3.300450e+05  330045.000000  \n",
       "mean   2.964507e+04     337.505358  \n",
       "std    8.095646e+04    3592.441135  \n",
       "min    9.000000e+00       0.000000  \n",
       "25%    2.594000e+03       8.000000  \n",
       "50%    8.954000e+03      28.000000  \n",
       "75%    2.687000e+04     107.000000  \n",
       "max    5.231058e+06  615278.000000  "
      ]
     },
     "execution_count": 61,
     "metadata": {},
     "output_type": "execute_result"
    }
   ],
   "source": [
    "train_set.describe()"
   ]
  },
  {
   "cell_type": "code",
   "execution_count": 62,
   "id": "69098934",
   "metadata": {},
   "outputs": [
    {
     "data": {
      "text/html": [
       "<div>\n",
       "<style scoped>\n",
       "    .dataframe tbody tr th:only-of-type {\n",
       "        vertical-align: middle;\n",
       "    }\n",
       "\n",
       "    .dataframe tbody tr th {\n",
       "        vertical-align: top;\n",
       "    }\n",
       "\n",
       "    .dataframe thead th {\n",
       "        text-align: right;\n",
       "    }\n",
       "</style>\n",
       "<table border=\"1\" class=\"dataframe\">\n",
       "  <thead>\n",
       "    <tr style=\"text-align: right;\">\n",
       "      <th></th>\n",
       "      <th>ID</th>\n",
       "      <th>Reputation</th>\n",
       "      <th>Answers</th>\n",
       "      <th>Username</th>\n",
       "      <th>Views</th>\n",
       "    </tr>\n",
       "  </thead>\n",
       "  <tbody>\n",
       "    <tr>\n",
       "      <th>count</th>\n",
       "      <td>141448.000000</td>\n",
       "      <td>1.414480e+05</td>\n",
       "      <td>141448.000000</td>\n",
       "      <td>141448.000000</td>\n",
       "      <td>1.414480e+05</td>\n",
       "    </tr>\n",
       "    <tr>\n",
       "      <th>mean</th>\n",
       "      <td>235743.073497</td>\n",
       "      <td>7.920927e+03</td>\n",
       "      <td>3.914873</td>\n",
       "      <td>81348.231117</td>\n",
       "      <td>2.984633e+04</td>\n",
       "    </tr>\n",
       "    <tr>\n",
       "      <th>std</th>\n",
       "      <td>136269.867118</td>\n",
       "      <td>2.791072e+04</td>\n",
       "      <td>3.577460</td>\n",
       "      <td>49046.098215</td>\n",
       "      <td>8.034374e+04</td>\n",
       "    </tr>\n",
       "    <tr>\n",
       "      <th>min</th>\n",
       "      <td>7.000000</td>\n",
       "      <td>0.000000e+00</td>\n",
       "      <td>0.000000</td>\n",
       "      <td>4.000000</td>\n",
       "      <td>9.000000e+00</td>\n",
       "    </tr>\n",
       "    <tr>\n",
       "      <th>25%</th>\n",
       "      <td>117797.000000</td>\n",
       "      <td>2.860000e+02</td>\n",
       "      <td>2.000000</td>\n",
       "      <td>40222.750000</td>\n",
       "      <td>2.608000e+03</td>\n",
       "    </tr>\n",
       "    <tr>\n",
       "      <th>50%</th>\n",
       "      <td>235830.000000</td>\n",
       "      <td>1.245000e+03</td>\n",
       "      <td>3.000000</td>\n",
       "      <td>78795.500000</td>\n",
       "      <td>8.977000e+03</td>\n",
       "    </tr>\n",
       "    <tr>\n",
       "      <th>75%</th>\n",
       "      <td>353616.000000</td>\n",
       "      <td>5.123000e+03</td>\n",
       "      <td>5.000000</td>\n",
       "      <td>122149.000000</td>\n",
       "      <td>2.698925e+04</td>\n",
       "    </tr>\n",
       "    <tr>\n",
       "      <th>max</th>\n",
       "      <td>471488.000000</td>\n",
       "      <td>1.042428e+06</td>\n",
       "      <td>73.000000</td>\n",
       "      <td>175737.000000</td>\n",
       "      <td>5.004669e+06</td>\n",
       "    </tr>\n",
       "  </tbody>\n",
       "</table>\n",
       "</div>"
      ],
      "text/plain": [
       "                  ID    Reputation        Answers       Username         Views\n",
       "count  141448.000000  1.414480e+05  141448.000000  141448.000000  1.414480e+05\n",
       "mean   235743.073497  7.920927e+03       3.914873   81348.231117  2.984633e+04\n",
       "std    136269.867118  2.791072e+04       3.577460   49046.098215  8.034374e+04\n",
       "min         7.000000  0.000000e+00       0.000000       4.000000  9.000000e+00\n",
       "25%    117797.000000  2.860000e+02       2.000000   40222.750000  2.608000e+03\n",
       "50%    235830.000000  1.245000e+03       3.000000   78795.500000  8.977000e+03\n",
       "75%    353616.000000  5.123000e+03       5.000000  122149.000000  2.698925e+04\n",
       "max    471488.000000  1.042428e+06      73.000000  175737.000000  5.004669e+06"
      ]
     },
     "execution_count": 62,
     "metadata": {},
     "output_type": "execute_result"
    }
   ],
   "source": [
    "test_set.describe()"
   ]
  },
  {
   "cell_type": "code",
   "execution_count": 63,
   "id": "15caef4e",
   "metadata": {},
   "outputs": [],
   "source": [
    "train_set = train_set.drop([\"ID\"], axis = 1)\n",
    "test_set = test_set.drop([\"ID\"], axis = 1)"
   ]
  },
  {
   "cell_type": "markdown",
   "id": "f2f54144",
   "metadata": {},
   "source": [
    "## Use a One Hot Encoder\n",
    "\n",
    "One Hot Encoding is used to turn categorical variables (which cannot be fed into most mathematical ML tools) into equivalent numerical variables that can be operated on. This dataset has one categorical variable- the *tag* that denotes what section of Reddit the post belongs to (denoted by a letter).\n",
    "\n",
    "Because the number of different sections is relatively small (10), it can be easily one-hot-encoded without an influx of training features bogging down a potential model's training time."
   ]
  },
  {
   "cell_type": "code",
   "execution_count": 64,
   "id": "95b9dcf9",
   "metadata": {},
   "outputs": [
    {
     "name": "stdout",
     "output_type": "stream",
     "text": [
      "<class 'pandas.core.frame.DataFrame'>\n",
      "RangeIndex: 330045 entries, 0 to 330044\n",
      "Data columns (total 6 columns):\n",
      " #   Column      Non-Null Count   Dtype  \n",
      "---  ------      --------------   -----  \n",
      " 0   Tag         330045 non-null  object \n",
      " 1   Reputation  330045 non-null  float64\n",
      " 2   Answers     330045 non-null  float64\n",
      " 3   Username    330045 non-null  int64  \n",
      " 4   Views       330045 non-null  float64\n",
      " 5   Upvotes     330045 non-null  float64\n",
      "dtypes: float64(4), int64(1), object(1)\n",
      "memory usage: 15.1+ MB\n"
     ]
    }
   ],
   "source": [
    "train_set.info()"
   ]
  },
  {
   "cell_type": "code",
   "execution_count": 65,
   "id": "95442e85",
   "metadata": {},
   "outputs": [
    {
     "data": {
      "text/plain": [
       "c    72458\n",
       "j    72232\n",
       "p    43407\n",
       "i    32400\n",
       "a    31695\n",
       "s    23323\n",
       "h    20564\n",
       "o    14546\n",
       "r    12442\n",
       "x     6978\n",
       "Name: Tag, dtype: int64"
      ]
     },
     "execution_count": 65,
     "metadata": {},
     "output_type": "execute_result"
    }
   ],
   "source": [
    "train_set['Tag'].value_counts() #There's only 10- this is easy to OHE!"
   ]
  },
  {
   "cell_type": "code",
   "execution_count": 66,
   "id": "46012f80",
   "metadata": {},
   "outputs": [],
   "source": [
    "from sklearn.preprocessing import OneHotEncoder\n",
    "\n",
    "#the only categorical variable we need is the tag\n",
    "upvote_tag_train = train_set[['Tag']]\n",
    "upvote_tag_test = test_set[['Tag']]\n",
    "\n",
    "#create the one hot encoder\n",
    "categorical_encoder = OneHotEncoder()\n",
    "\n",
    "upvote_tag_train = categorical_encoder.fit_transform(upvote_tag_train)\n",
    "upvote_tag_test = categorical_encoder.fit_transform(upvote_tag_test)"
   ]
  },
  {
   "cell_type": "code",
   "execution_count": 67,
   "id": "3d30f91c",
   "metadata": {},
   "outputs": [
    {
     "data": {
      "text/plain": [
       "array([[1., 0., 0., 0., 0., 0., 0., 0., 0., 0.],\n",
       "       [1., 0., 0., 0., 0., 0., 0., 0., 0., 0.],\n",
       "       [0., 1., 0., 0., 0., 0., 0., 0., 0., 0.],\n",
       "       [1., 0., 0., 0., 0., 0., 0., 0., 0., 0.],\n",
       "       [0., 1., 0., 0., 0., 0., 0., 0., 0., 0.],\n",
       "       [0., 0., 0., 0., 0., 0., 0., 1., 0., 0.],\n",
       "       [0., 1., 0., 0., 0., 0., 0., 0., 0., 0.],\n",
       "       [0., 0., 0., 0., 1., 0., 0., 0., 0., 0.],\n",
       "       [0., 0., 0., 0., 1., 0., 0., 0., 0., 0.],\n",
       "       [0., 1., 0., 0., 0., 0., 0., 0., 0., 0.]])"
      ]
     },
     "execution_count": 67,
     "metadata": {},
     "output_type": "execute_result"
    }
   ],
   "source": [
    "upvote_tag_train.toarray()[0:10] #Properly converted/OHE'd"
   ]
  },
  {
   "cell_type": "markdown",
   "id": "19b8a956",
   "metadata": {},
   "source": [
    "## Scale/normalize/standardize features using sklearn.preprocessing\n",
    "\n",
    "\n",
    "The scale of this data is very disparate. While the average answer count is in the single or double digits, the reputation of a user or the number of views that a given post receives are entire magnitudes larger than that. With such extreme scales, the data needs to be normalized to prevent category weight being so drastically unequal that lesser-scale variables have no bearing on the final result."
   ]
  },
  {
   "cell_type": "code",
   "execution_count": 68,
   "id": "fa98c587",
   "metadata": {},
   "outputs": [],
   "source": [
    "from sklearn.preprocessing import StandardScaler\n",
    "\n",
    "upvote_numerical = ['Reputation', 'Answers', 'Username', 'Views']\n",
    "\n",
    "#train_set[['Tag']]\n",
    "\n",
    "standard_scaler = StandardScaler()\n",
    "\n",
    "upvote_train_scaled = standard_scaler.fit_transform(train_set[upvote_numerical])\n",
    "upvote_test_scaled = standard_scaler.transform(test_set[upvote_numerical])"
   ]
  },
  {
   "cell_type": "code",
   "execution_count": 69,
   "id": "2b8de5a2",
   "metadata": {},
   "outputs": [
    {
     "data": {
      "text/plain": [
       "array([[-0.14157253, -0.53573597,  1.5072655 , -0.26915833],\n",
       "       [ 0.67523751,  2.25794312, -1.21226978,  0.32308687],\n",
       "       [-0.23705919,  0.02299985, -0.51337753, -0.26653963],\n",
       "       ...,\n",
       "       [-0.05894553, -0.53573597,  0.20843454, -0.33588566],\n",
       "       [-0.2839526 , -0.53573597, -0.0243399 , -0.34015957],\n",
       "       [-0.21329838,  0.02299985,  1.48834852, -0.33463807]])"
      ]
     },
     "execution_count": 69,
     "metadata": {},
     "output_type": "execute_result"
    }
   ],
   "source": [
    "upvote_train_scaled"
   ]
  },
  {
   "cell_type": "code",
   "execution_count": 70,
   "id": "7f0171fc",
   "metadata": {},
   "outputs": [],
   "source": [
    "#solution adapted from https://stackoverflow.com/questions/64161419/how-can-i-convert-the-standardscaler-transformation-back-to-dataframe\n",
    "cols = ['Reputation', 'Answers', 'Username', 'Views']\n",
    "\n",
    "X_train_sc = pd.DataFrame(standard_scaler.fit_transform(train_set[upvote_numerical]), columns=cols)\n",
    "X_test_sc = pd.DataFrame(standard_scaler.transform(test_set[upvote_numerical]), columns=cols)"
   ]
  },
  {
   "cell_type": "code",
   "execution_count": 71,
   "id": "890087c9",
   "metadata": {},
   "outputs": [
    {
     "data": {
      "text/html": [
       "<div>\n",
       "<style scoped>\n",
       "    .dataframe tbody tr th:only-of-type {\n",
       "        vertical-align: middle;\n",
       "    }\n",
       "\n",
       "    .dataframe tbody tr th {\n",
       "        vertical-align: top;\n",
       "    }\n",
       "\n",
       "    .dataframe thead th {\n",
       "        text-align: right;\n",
       "    }\n",
       "</style>\n",
       "<table border=\"1\" class=\"dataframe\">\n",
       "  <thead>\n",
       "    <tr style=\"text-align: right;\">\n",
       "      <th></th>\n",
       "      <th>Reputation</th>\n",
       "      <th>Answers</th>\n",
       "      <th>Username</th>\n",
       "      <th>Views</th>\n",
       "    </tr>\n",
       "  </thead>\n",
       "  <tbody>\n",
       "    <tr>\n",
       "      <th>0</th>\n",
       "      <td>-0.141573</td>\n",
       "      <td>-0.535736</td>\n",
       "      <td>1.507266</td>\n",
       "      <td>-0.269158</td>\n",
       "    </tr>\n",
       "    <tr>\n",
       "      <th>1</th>\n",
       "      <td>0.675238</td>\n",
       "      <td>2.257943</td>\n",
       "      <td>-1.212270</td>\n",
       "      <td>0.323087</td>\n",
       "    </tr>\n",
       "    <tr>\n",
       "      <th>2</th>\n",
       "      <td>-0.237059</td>\n",
       "      <td>0.023000</td>\n",
       "      <td>-0.513378</td>\n",
       "      <td>-0.266540</td>\n",
       "    </tr>\n",
       "    <tr>\n",
       "      <th>3</th>\n",
       "      <td>-0.277486</td>\n",
       "      <td>-0.256368</td>\n",
       "      <td>1.774867</td>\n",
       "      <td>-0.031882</td>\n",
       "    </tr>\n",
       "    <tr>\n",
       "      <th>4</th>\n",
       "      <td>-0.129415</td>\n",
       "      <td>0.023000</td>\n",
       "      <td>0.625421</td>\n",
       "      <td>-0.193426</td>\n",
       "    </tr>\n",
       "  </tbody>\n",
       "</table>\n",
       "</div>"
      ],
      "text/plain": [
       "   Reputation   Answers  Username     Views\n",
       "0   -0.141573 -0.535736  1.507266 -0.269158\n",
       "1    0.675238  2.257943 -1.212270  0.323087\n",
       "2   -0.237059  0.023000 -0.513378 -0.266540\n",
       "3   -0.277486 -0.256368  1.774867 -0.031882\n",
       "4   -0.129415  0.023000  0.625421 -0.193426"
      ]
     },
     "execution_count": 71,
     "metadata": {},
     "output_type": "execute_result"
    }
   ],
   "source": [
    "X_train_sc.head()"
   ]
  },
  {
   "cell_type": "code",
   "execution_count": 72,
   "id": "ecb42b27",
   "metadata": {},
   "outputs": [],
   "source": [
    "y_train = train_set['Upvotes']"
   ]
  },
  {
   "cell_type": "markdown",
   "id": "d59472cf",
   "metadata": {},
   "source": [
    "## Use sklearn.linear_model.LinearRegression\n",
    "\n",
    "Now that the data is properly scaled, we can attempt to predict with it. First, the classic example of a Linear Regression. There is reason to believe a positive trend between reputation and the number of upvotes, so this may be a good fit."
   ]
  },
  {
   "cell_type": "code",
   "execution_count": 73,
   "id": "019baa3c",
   "metadata": {},
   "outputs": [
    {
     "data": {
      "text/plain": [
       "LinearRegression()"
      ]
     },
     "execution_count": 73,
     "metadata": {},
     "output_type": "execute_result"
    }
   ],
   "source": [
    "from sklearn.linear_model import LinearRegression\n",
    "\n",
    "lin_reg = LinearRegression()\n",
    "lin_reg.fit(X_train_sc, y_train)"
   ]
  },
  {
   "cell_type": "code",
   "execution_count": 74,
   "id": "63ad9fab",
   "metadata": {},
   "outputs": [
    {
     "name": "stdout",
     "output_type": "stream",
     "text": [
      "Predictions: [-167.44011809 1177.38633173 -303.11939673   49.30290753 -100.62149145]\n",
      "Actual: 0      42.0\n",
      "1    1175.0\n",
      "2      60.0\n",
      "3       9.0\n",
      "4      83.0\n",
      "Name: Upvotes, dtype: float64\n"
     ]
    }
   ],
   "source": [
    "some_data = X_train_sc.iloc[:5]\n",
    "some_labels = y_train.iloc[:5]\n",
    "\n",
    "print(\"Predictions:\", lin_reg.predict(some_data))\n",
    "print(\"Actual:\", some_labels)"
   ]
  },
  {
   "cell_type": "markdown",
   "id": "959a85a0",
   "metadata": {},
   "source": [
    "Well, there were two that it predicted pretty closely (the ones with positive numbers: 1170 to 1175 and 60 to 83)! That's a start. But can we find more accurate predictors with this?"
   ]
  },
  {
   "cell_type": "markdown",
   "id": "c5ff5c05",
   "metadata": {},
   "source": [
    "## Use sklearn.tree.DecisionTreeRegressor"
   ]
  },
  {
   "cell_type": "code",
   "execution_count": 75,
   "id": "c2a7925f",
   "metadata": {},
   "outputs": [
    {
     "data": {
      "text/plain": [
       "DecisionTreeRegressor()"
      ]
     },
     "execution_count": 75,
     "metadata": {},
     "output_type": "execute_result"
    }
   ],
   "source": [
    "from sklearn.tree import DecisionTreeRegressor\n",
    "\n",
    "tree_reg = DecisionTreeRegressor()\n",
    "tree_reg.fit(X_train_sc, y_train)"
   ]
  },
  {
   "cell_type": "code",
   "execution_count": 76,
   "id": "4409aeb3",
   "metadata": {},
   "outputs": [
    {
     "name": "stdout",
     "output_type": "stream",
     "text": [
      "Predictions: [  42. 1175.   60.    9.   83.]\n",
      "Actual: 0      42.0\n",
      "1    1175.0\n",
      "2      60.0\n",
      "3       9.0\n",
      "4      83.0\n",
      "Name: Upvotes, dtype: float64\n"
     ]
    }
   ],
   "source": [
    "some_data = X_train_sc.iloc[:5]\n",
    "some_labels = y_train.iloc[:5]\n",
    "\n",
    "print(\"Predictions:\", tree_reg.predict(some_data))\n",
    "print(\"Actual:\", some_labels)"
   ]
  },
  {
   "cell_type": "markdown",
   "id": "49c17367",
   "metadata": {},
   "source": [
    "This looks significantly better! But, a perfect score is likely to be the result of overfitting."
   ]
  },
  {
   "cell_type": "code",
   "execution_count": 77,
   "id": "fd8bac6f",
   "metadata": {},
   "outputs": [],
   "source": [
    "from sklearn.model_selection import cross_val_score\n",
    "scores = cross_val_score(tree_reg, X_train_sc, y_train,\n",
    "                         scoring=\"neg_mean_squared_error\", cv=10)\n"
   ]
  },
  {
   "cell_type": "code",
   "execution_count": 78,
   "id": "228abc19",
   "metadata": {},
   "outputs": [],
   "source": [
    "import numpy as np\n",
    "tree_rmse_scores = np.sqrt(-scores)"
   ]
  },
  {
   "cell_type": "code",
   "execution_count": 79,
   "id": "756a5cd0",
   "metadata": {},
   "outputs": [
    {
     "name": "stdout",
     "output_type": "stream",
     "text": [
      "Scores: [1641.15935069 2005.67754592 2024.31555296 1249.60744179 1779.41194592\n",
      " 1205.55095199 1341.7221639  1375.8279352  1267.75289087 1607.05444618]\n",
      "Mean: 1549.808022543073\n",
      "Standard deviation: 293.09926825999435\n"
     ]
    }
   ],
   "source": [
    "def display_scores(scores):\n",
    "    print(\"Scores:\", scores)\n",
    "    print(\"Mean:\", scores.mean())\n",
    "    print(\"Standard deviation:\", scores.std())\n",
    "    \n",
    "display_scores(tree_rmse_scores)"
   ]
  },
  {
   "cell_type": "markdown",
   "id": "23f45110",
   "metadata": {},
   "source": [
    "Spoiler, Decision Trees did NOT do well, here. Not even remotely. At least they had positive results for all of them, though (which is better than the Linear Regression model, which predicted NEGATIVE numbers."
   ]
  },
  {
   "cell_type": "markdown",
   "id": "4cb0f5c4",
   "metadata": {},
   "source": [
    "## Use sklearn.ensemble.RandomForestClassifier"
   ]
  },
  {
   "cell_type": "code",
   "execution_count": 80,
   "id": "f6888b19",
   "metadata": {},
   "outputs": [],
   "source": [
    "from sklearn.ensemble import RandomForestRegressor\n",
    "forest_reg = RandomForestRegressor()\n",
    "forest_reg.fit(X_train_sc, y_train)\n",
    "\n",
    "forest_rsme_scores = cross_val_score(forest_reg, X_train_sc, y_train,\n",
    "                         scoring=\"neg_mean_squared_error\", cv=10)\n",
    "\n",
    "display_score(forest_rsme_scores)"
   ]
  },
  {
   "cell_type": "markdown",
   "id": "0bc6f81e",
   "metadata": {},
   "source": [
    "# Evaluate your system on the Test Data\n",
    "\n",
    "Of the models chosen, the best-working one was the Random Decision Tree Model. Let's see what happens when this is evaulated against the test results. From this dataset, there *is* no \"correct\" number of upvotes/ground truth given, so the prediction is only for a general idea. This is a problem with the dataset's test set and is thus noted in this discussion as well."
   ]
  },
  {
   "cell_type": "code",
   "execution_count": null,
   "id": "9ec67bd6",
   "metadata": {},
   "outputs": [],
   "source": []
  },
  {
   "cell_type": "code",
   "execution_count": 81,
   "id": "f29117bc",
   "metadata": {},
   "outputs": [
    {
     "name": "stdout",
     "output_type": "stream",
     "text": [
      "Predictions: [260.  67.  48.   4. 430. 104.  13. 101.  34.   2.  14.  58.  21. 100.\n",
      "  20. 456. 151. 138. 731.   0.]\n"
     ]
    }
   ],
   "source": [
    "print(\"Predictions:\", tree_reg.predict(X_test_sc[:20]))"
   ]
  },
  {
   "cell_type": "code",
   "execution_count": 82,
   "id": "e3dcfbdb",
   "metadata": {},
   "outputs": [
    {
     "data": {
      "text/html": [
       "<div>\n",
       "<style scoped>\n",
       "    .dataframe tbody tr th:only-of-type {\n",
       "        vertical-align: middle;\n",
       "    }\n",
       "\n",
       "    .dataframe tbody tr th {\n",
       "        vertical-align: top;\n",
       "    }\n",
       "\n",
       "    .dataframe thead th {\n",
       "        text-align: right;\n",
       "    }\n",
       "</style>\n",
       "<table border=\"1\" class=\"dataframe\">\n",
       "  <thead>\n",
       "    <tr style=\"text-align: right;\">\n",
       "      <th></th>\n",
       "      <th>Tag</th>\n",
       "      <th>Reputation</th>\n",
       "      <th>Answers</th>\n",
       "      <th>Username</th>\n",
       "      <th>Views</th>\n",
       "    </tr>\n",
       "  </thead>\n",
       "  <tbody>\n",
       "    <tr>\n",
       "      <th>0</th>\n",
       "      <td>a</td>\n",
       "      <td>5645.0</td>\n",
       "      <td>3.0</td>\n",
       "      <td>50652</td>\n",
       "      <td>33200.0</td>\n",
       "    </tr>\n",
       "    <tr>\n",
       "      <th>1</th>\n",
       "      <td>c</td>\n",
       "      <td>24511.0</td>\n",
       "      <td>6.0</td>\n",
       "      <td>37685</td>\n",
       "      <td>2730.0</td>\n",
       "    </tr>\n",
       "    <tr>\n",
       "      <th>2</th>\n",
       "      <td>i</td>\n",
       "      <td>927.0</td>\n",
       "      <td>1.0</td>\n",
       "      <td>135293</td>\n",
       "      <td>21167.0</td>\n",
       "    </tr>\n",
       "    <tr>\n",
       "      <th>3</th>\n",
       "      <td>i</td>\n",
       "      <td>21.0</td>\n",
       "      <td>6.0</td>\n",
       "      <td>166998</td>\n",
       "      <td>18528.0</td>\n",
       "    </tr>\n",
       "    <tr>\n",
       "      <th>4</th>\n",
       "      <td>i</td>\n",
       "      <td>4475.0</td>\n",
       "      <td>10.0</td>\n",
       "      <td>53504</td>\n",
       "      <td>57240.0</td>\n",
       "    </tr>\n",
       "    <tr>\n",
       "      <th>5</th>\n",
       "      <td>c</td>\n",
       "      <td>3252.0</td>\n",
       "      <td>1.0</td>\n",
       "      <td>115109</td>\n",
       "      <td>2307.0</td>\n",
       "    </tr>\n",
       "    <tr>\n",
       "      <th>6</th>\n",
       "      <td>x</td>\n",
       "      <td>859.0</td>\n",
       "      <td>1.0</td>\n",
       "      <td>88355</td>\n",
       "      <td>6507.0</td>\n",
       "    </tr>\n",
       "    <tr>\n",
       "      <th>7</th>\n",
       "      <td>c</td>\n",
       "      <td>770.0</td>\n",
       "      <td>4.0</td>\n",
       "      <td>74489</td>\n",
       "      <td>57775.0</td>\n",
       "    </tr>\n",
       "    <tr>\n",
       "      <th>8</th>\n",
       "      <td>s</td>\n",
       "      <td>8727.0</td>\n",
       "      <td>2.0</td>\n",
       "      <td>37904</td>\n",
       "      <td>4459.0</td>\n",
       "    </tr>\n",
       "    <tr>\n",
       "      <th>9</th>\n",
       "      <td>p</td>\n",
       "      <td>170.0</td>\n",
       "      <td>4.0</td>\n",
       "      <td>162810</td>\n",
       "      <td>4899.0</td>\n",
       "    </tr>\n",
       "    <tr>\n",
       "      <th>10</th>\n",
       "      <td>p</td>\n",
       "      <td>58.0</td>\n",
       "      <td>2.0</td>\n",
       "      <td>156743</td>\n",
       "      <td>1251.0</td>\n",
       "    </tr>\n",
       "    <tr>\n",
       "      <th>11</th>\n",
       "      <td>s</td>\n",
       "      <td>727.0</td>\n",
       "      <td>2.0</td>\n",
       "      <td>1960</td>\n",
       "      <td>27814.0</td>\n",
       "    </tr>\n",
       "    <tr>\n",
       "      <th>12</th>\n",
       "      <td>o</td>\n",
       "      <td>1295.0</td>\n",
       "      <td>3.0</td>\n",
       "      <td>67702</td>\n",
       "      <td>2827.0</td>\n",
       "    </tr>\n",
       "    <tr>\n",
       "      <th>13</th>\n",
       "      <td>p</td>\n",
       "      <td>1231.0</td>\n",
       "      <td>7.0</td>\n",
       "      <td>154204</td>\n",
       "      <td>162617.0</td>\n",
       "    </tr>\n",
       "    <tr>\n",
       "      <th>14</th>\n",
       "      <td>c</td>\n",
       "      <td>205.0</td>\n",
       "      <td>8.0</td>\n",
       "      <td>142854</td>\n",
       "      <td>36677.0</td>\n",
       "    </tr>\n",
       "    <tr>\n",
       "      <th>15</th>\n",
       "      <td>c</td>\n",
       "      <td>287981.0</td>\n",
       "      <td>1.0</td>\n",
       "      <td>32675</td>\n",
       "      <td>2969.0</td>\n",
       "    </tr>\n",
       "    <tr>\n",
       "      <th>16</th>\n",
       "      <td>c</td>\n",
       "      <td>1590.0</td>\n",
       "      <td>3.0</td>\n",
       "      <td>34904</td>\n",
       "      <td>11785.0</td>\n",
       "    </tr>\n",
       "    <tr>\n",
       "      <th>17</th>\n",
       "      <td>a</td>\n",
       "      <td>5308.0</td>\n",
       "      <td>3.0</td>\n",
       "      <td>147621</td>\n",
       "      <td>17623.0</td>\n",
       "    </tr>\n",
       "    <tr>\n",
       "      <th>18</th>\n",
       "      <td>j</td>\n",
       "      <td>5355.0</td>\n",
       "      <td>8.0</td>\n",
       "      <td>79273</td>\n",
       "      <td>85913.0</td>\n",
       "    </tr>\n",
       "    <tr>\n",
       "      <th>19</th>\n",
       "      <td>j</td>\n",
       "      <td>6.0</td>\n",
       "      <td>3.0</td>\n",
       "      <td>1128</td>\n",
       "      <td>991.0</td>\n",
       "    </tr>\n",
       "  </tbody>\n",
       "</table>\n",
       "</div>"
      ],
      "text/plain": [
       "   Tag  Reputation  Answers  Username     Views\n",
       "0    a      5645.0      3.0     50652   33200.0\n",
       "1    c     24511.0      6.0     37685    2730.0\n",
       "2    i       927.0      1.0    135293   21167.0\n",
       "3    i        21.0      6.0    166998   18528.0\n",
       "4    i      4475.0     10.0     53504   57240.0\n",
       "5    c      3252.0      1.0    115109    2307.0\n",
       "6    x       859.0      1.0     88355    6507.0\n",
       "7    c       770.0      4.0     74489   57775.0\n",
       "8    s      8727.0      2.0     37904    4459.0\n",
       "9    p       170.0      4.0    162810    4899.0\n",
       "10   p        58.0      2.0    156743    1251.0\n",
       "11   s       727.0      2.0      1960   27814.0\n",
       "12   o      1295.0      3.0     67702    2827.0\n",
       "13   p      1231.0      7.0    154204  162617.0\n",
       "14   c       205.0      8.0    142854   36677.0\n",
       "15   c    287981.0      1.0     32675    2969.0\n",
       "16   c      1590.0      3.0     34904   11785.0\n",
       "17   a      5308.0      3.0    147621   17623.0\n",
       "18   j      5355.0      8.0     79273   85913.0\n",
       "19   j         6.0      3.0      1128     991.0"
      ]
     },
     "execution_count": 82,
     "metadata": {},
     "output_type": "execute_result"
    }
   ],
   "source": [
    "test_set.head(20)"
   ]
  },
  {
   "cell_type": "markdown",
   "id": "98c7fbbd",
   "metadata": {},
   "source": [
    "This answer *seems* reasonable, though it weighs views more than reputation, unless the reputation happens to be *very large* (as in the case of the 15th entry, with almost 300,000 reputation)"
   ]
  },
  {
   "cell_type": "markdown",
   "id": "f5e1c409",
   "metadata": {},
   "source": [
    "## Create a single pipeline that does full process from data preparation to final prediction."
   ]
  },
  {
   "cell_type": "code",
   "execution_count": 111,
   "id": "2e470af4",
   "metadata": {},
   "outputs": [],
   "source": [
    "#starting from scratch so that the pipeline can go the full way\n",
    "train_set = pd.read_csv(\"train_upvotes.csv\")\n",
    "test_set = pd.read_csv(\"test_upvotes.csv\")\n",
    "\n",
    "X_train = train_set[['ID', 'Tag', 'Reputation', 'Answers', 'Username', 'Views']]\n",
    "y_train = train_set[\"Upvotes\"]\n",
    "\n",
    "X_test = test_set[['ID', 'Tag', 'Reputation', 'Answers', 'Username', 'Views']]\n",
    "##y_test = test_set[\"Upvotes\"] - there actually is no y_test in this dataset for whatever reason"
   ]
  },
  {
   "cell_type": "code",
   "execution_count": 106,
   "id": "5624f6ca",
   "metadata": {},
   "outputs": [],
   "source": [
    "#To do this, we will need a custom transformer \n",
    "#https://stackoverflow.com/questions/68402691/adding-dropping-column-instance-into-a-pipeline\n",
    "class columnDropperTransformer():\n",
    "    def __init__(self,columns):\n",
    "        self.columns=columns\n",
    "\n",
    "    def transform(self,X,y=None):\n",
    "        return X.drop(self.columns,axis=1)\n",
    "\n",
    "    def fit(self, X, y=None):\n",
    "        return self "
   ]
  },
  {
   "cell_type": "code",
   "execution_count": 107,
   "id": "823369a7",
   "metadata": {},
   "outputs": [],
   "source": [
    "#Numerical\n",
    "from sklearn.pipeline import Pipeline\n",
    "\n",
    "pipeline = Pipeline([\n",
    "    (\"std-scaler\", StandardScaler())\n",
    "])"
   ]
  },
  {
   "cell_type": "code",
   "execution_count": 127,
   "id": "68104b61",
   "metadata": {},
   "outputs": [],
   "source": [
    "from sklearn.compose import ColumnTransformer\n",
    "\n",
    "num_attribs = ['Reputation', 'Answers', 'Username', 'Views']\n",
    "cat_attribs = ['Tag']\n",
    "\n",
    "full_pipeline = ColumnTransformer([\n",
    "        ('clmn_drpr', 'drop', ['ID']),\n",
    "        (\"num\", pipeline, num_attribs),\n",
    "        (\"cat\", OneHotEncoder(), cat_attribs),\n",
    "    ])"
   ]
  },
  {
   "cell_type": "code",
   "execution_count": 128,
   "id": "87322303",
   "metadata": {},
   "outputs": [],
   "source": [
    "train_prepared = full_pipeline.fit_transform(X_train)\n",
    "\n",
    "tree_reg = DecisionTreeRegressor()\n",
    "tree_reg.fit(train_prepared, y_train)\n"
   ]
  },
  {
   "cell_type": "code",
   "execution_count": 130,
   "id": "2ffc788a",
   "metadata": {},
   "outputs": [
    {
     "name": "stdout",
     "output_type": "stream",
     "text": [
      "Predictions: [  42. 1175.   60.    9.   83.    4.   17.    3.   79.    0.  166.   42.\n",
      "   19.    2.   10.  223.   13.    8.    9.   79.]\n",
      "Labels: [42.0, 1175.0, 60.0, 9.0, 83.0, 4.0, 17.0, 3.0, 79.0, 0.0, 166.0, 42.0, 19.0, 2.0, 10.0, 223.0, 13.0, 8.0, 9.0, 79.0]\n"
     ]
    }
   ],
   "source": [
    "print(\"Predictions:\", tree_reg.predict(train_prepared)[:20])\n",
    "print(\"Labels:\", list(y_train)[:20])"
   ]
  },
  {
   "cell_type": "code",
   "execution_count": null,
   "id": "a640e6b6",
   "metadata": {},
   "outputs": [],
   "source": [
    "#The same problem as overfitting as with the normal DecisionTreeRegressor()- after using cross_val, it is still WILDLY off"
   ]
  },
  {
   "cell_type": "code",
   "execution_count": 131,
   "id": "d62c8958",
   "metadata": {},
   "outputs": [
    {
     "name": "stdout",
     "output_type": "stream",
     "text": [
      "Scores: [-4101712.28407817 -3917583.50086351 -1885833.01578549 -1602262.68259355\n",
      " -3321645.80527193  -998785.5661132  -1691758.7502121  -1697028.09607926\n",
      " -1690590.18664404 -2462991.62965095]\n",
      "Mean: -2337019.151729219\n",
      "Standard deviation: 1018617.1654271611\n"
     ]
    }
   ],
   "source": [
    "scores_pipe = cross_val_score(tree_reg, train_prepared, y_train,\n",
    "                         scoring=\"neg_mean_squared_error\", cv=10)\n",
    "display_scores(scores_pipe)"
   ]
  },
  {
   "cell_type": "code",
   "execution_count": null,
   "id": "6a6f9388",
   "metadata": {},
   "outputs": [],
   "source": []
  }
 ],
 "metadata": {
  "kernelspec": {
   "display_name": "Python 3 (ipykernel)",
   "language": "python",
   "name": "python3"
  },
  "language_info": {
   "codemirror_mode": {
    "name": "ipython",
    "version": 3
   },
   "file_extension": ".py",
   "mimetype": "text/x-python",
   "name": "python",
   "nbconvert_exporter": "python",
   "pygments_lexer": "ipython3",
   "version": "3.7.1"
  }
 },
 "nbformat": 4,
 "nbformat_minor": 5
}
